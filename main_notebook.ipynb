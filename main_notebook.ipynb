{
 "cells": [
  {
   "cell_type": "code",
   "execution_count": 2,
   "metadata": {
    "collapsed": true,
    "ExecuteTime": {
     "start_time": "2023-05-13T13:56:37.618576Z",
     "end_time": "2023-05-13T13:56:41.519578Z"
    }
   },
   "outputs": [
    {
     "name": "stderr",
     "output_type": "stream",
     "text": [
      "C:\\Users\\ah\\.conda\\envs\\dataspell_demo\\lib\\site-packages\\rdflib_jsonld\\__init__.py:9: DeprecationWarning: The rdflib-jsonld package has been integrated into rdflib as of rdflib==6.0.1.  Please remove rdflib-jsonld from your project's dependencies.\n",
      "  warnings.warn(\n"
     ]
    }
   ],
   "source": [
    "import pandas as pd\n",
    "from rdflib import Graph, URIRef, BNode, Literal, Namespace, plugins\n",
    "from rdflib.namespace import RDF, RDFS, OWL, XSD\n",
    "from rdflib.serializer import Serializer\n",
    "import rdflib\n",
    "import owlrl\n",
    "from lookup import DBpediaLookup\n",
    "from isub import isub"
   ]
  },
  {
   "cell_type": "markdown",
   "source": [
    "# Task RDF"
   ],
   "metadata": {
    "collapsed": false
   }
  },
  {
   "cell_type": "markdown",
   "source": [
    "## Prepare ontology"
   ],
   "metadata": {
    "collapsed": false
   }
  },
  {
   "cell_type": "markdown",
   "source": [
    "### Load ontology"
   ],
   "metadata": {
    "collapsed": false
   }
  },
  {
   "cell_type": "code",
   "execution_count": 237,
   "outputs": [
    {
     "name": "stdout",
     "output_type": "stream",
     "text": [
      "The graph contains 963 triples.\n"
     ]
    }
   ],
   "source": [
    "graph = Graph()\n",
    "graph.parse(\"pizza-restaurants-ontology.ttl\", format=\"ttl\")\n",
    "print(\"The graph contains \" + str(len(graph)) + \" triples.\")"
   ],
   "metadata": {
    "collapsed": false,
    "ExecuteTime": {
     "start_time": "2023-05-12T12:19:54.190249Z",
     "end_time": "2023-05-12T12:19:54.378984Z"
    }
   }
  },
  {
   "cell_type": "markdown",
   "source": [
    "### Prepare ontology settings"
   ],
   "metadata": {
    "collapsed": false
   }
  },
  {
   "cell_type": "code",
   "execution_count": 175,
   "outputs": [],
   "source": [
    "cw_url = \"http://www.semanticweb.org/city/in3067-inm713/2023/restaurants#\"\n",
    "cw_namespace = Namespace(cw_url)\n",
    "graph.bind(\"cw\", cw_namespace)\n",
    "\n",
    "dbp_url = \"http://dbpedia.org/resource/\"\n",
    "dbp_namespace = Namespace(dbp_url)\n",
    "graph.bind(\"dbp\", dbp_namespace)\n",
    "\n",
    "graph.bind(\"rdf\", RDF)\n",
    "graph.bind(\"rdfs\", RDFS)"
   ],
   "metadata": {
    "collapsed": false,
    "ExecuteTime": {
     "start_time": "2023-05-12T12:04:08.000194Z",
     "end_time": "2023-05-12T12:04:09.212285Z"
    }
   }
  },
  {
   "cell_type": "markdown",
   "source": [
    "## Prepare data"
   ],
   "metadata": {
    "collapsed": false
   }
  },
  {
   "cell_type": "code",
   "execution_count": 176,
   "outputs": [],
   "source": [
    "main_df = pd.read_csv(\"IN3067-INM713_coursework_data_pizza_500.csv\")"
   ],
   "metadata": {
    "collapsed": false,
    "ExecuteTime": {
     "start_time": "2023-05-12T12:04:08.013193Z",
     "end_time": "2023-05-12T12:04:09.244285Z"
    }
   }
  },
  {
   "cell_type": "code",
   "execution_count": 177,
   "outputs": [
    {
     "data": {
      "text/plain": "(501, 11)"
     },
     "execution_count": 177,
     "metadata": {},
     "output_type": "execute_result"
    }
   ],
   "source": [
    "main_df.shape"
   ],
   "metadata": {
    "collapsed": false,
    "ExecuteTime": {
     "start_time": "2023-05-12T12:04:08.091196Z",
     "end_time": "2023-05-12T12:04:09.266285Z"
    }
   }
  },
  {
   "cell_type": "markdown",
   "source": [
    "After reading the data, we have a look how it looks like, what columns it contains."
   ],
   "metadata": {
    "collapsed": false
   }
  },
  {
   "cell_type": "code",
   "execution_count": 178,
   "outputs": [
    {
     "data": {
      "text/plain": "                        name                                  address  \\\n0      Little Pizza Paradise  Cascade Village Mall Across From Target   \n1      Little Pizza Paradise  Cascade Village Mall Across From Target   \n2              The Brentwood                     148 S Barrington Ave   \n3              The Brentwood                     148 S Barrington Ave   \n4              The Brentwood                     148 S Barrington Ave   \n..                       ...                                      ...   \n496           Brando's Pizza                            1042 Union Rd   \n497  Woolworth Tower Kitchen                             233 Broadway   \n498     Ralph's Grocery Deli                             2035 4th Ave   \n499    John's of 12th Street                            302 E 12th St   \n500    John's of 12th Street                            302 E 12th St   \n\n            city country  postcode      state  \\\n0           Bend      US   97701.0         OR   \n1           Bend      US   97701.0         OR   \n2    Los Angeles      US   90049.0  Brentwood   \n3    Los Angeles      US   90049.0  Brentwood   \n4    Los Angeles      US   90049.0  Brentwood   \n..           ...     ...       ...        ...   \n496      Buffalo      US   14224.0         NY   \n497     New York      US   10279.0        Nyc   \n498      Seattle      US   98121.0         WA   \n499     New York      US   10003.0  Manhattan   \n500     New York      US   10003.0  Manhattan   \n\n                                            categories  \\\n0                                          Pizza Place   \n1                                          Pizza Place   \n2                       American Restaurant,Bar,Bakery   \n3                       American Restaurant,Bar,Bakery   \n4                       American Restaurant,Bar,Bakery   \n..                                                 ...   \n496                                        Pizza Place   \n497                           Restaurant,New York City   \n498  Food Products,Grocery Stores,Supermarkets and ...   \n499  Restaurant,Italian Restaurant,Italian Restaura...   \n500  Restaurant,Italian Restaurant,Italian Restaura...   \n\n                  menu item  item value currency  \\\n0              Bianca Pizza       22.50      USD   \n1              Cheese Pizza       18.95      USD   \n2         Pizza, Margherita       12.00      USD   \n3           Pizza, Mushroom       13.00      USD   \n4         Pizza, Puttenesca       13.00      USD   \n..                      ...         ...      ...   \n496         White Pizza Sub        7.49      USD   \n497           Grilled Pizza       10.00      USD   \n498           Pizza Special        7.29      USD   \n499          Marinara Pizza       10.95      USD   \n500  Vegan Margherita Pizza       16.95      USD   \n\n                                      item description  \n0                                                  NaN  \n1                                                  NaN  \n2                                                  NaN  \n3                                                  NaN  \n4                     Olives, onions, capers, tomatoes  \n..                                                 ...  \n496  Garlic roll baked with mozzarella onions and t...  \n497                                                NaN  \n498                                              Whole  \n499                              Tomato, Basil, Garlic  \n500                Tomato, Basil, Garlic, Daiya Cheese  \n\n[501 rows x 11 columns]",
      "text/html": "<div>\n<style scoped>\n    .dataframe tbody tr th:only-of-type {\n        vertical-align: middle;\n    }\n\n    .dataframe tbody tr th {\n        vertical-align: top;\n    }\n\n    .dataframe thead th {\n        text-align: right;\n    }\n</style>\n<table border=\"1\" class=\"dataframe\">\n  <thead>\n    <tr style=\"text-align: right;\">\n      <th></th>\n      <th>name</th>\n      <th>address</th>\n      <th>city</th>\n      <th>country</th>\n      <th>postcode</th>\n      <th>state</th>\n      <th>categories</th>\n      <th>menu item</th>\n      <th>item value</th>\n      <th>currency</th>\n      <th>item description</th>\n    </tr>\n  </thead>\n  <tbody>\n    <tr>\n      <th>0</th>\n      <td>Little Pizza Paradise</td>\n      <td>Cascade Village Mall Across From Target</td>\n      <td>Bend</td>\n      <td>US</td>\n      <td>97701.0</td>\n      <td>OR</td>\n      <td>Pizza Place</td>\n      <td>Bianca Pizza</td>\n      <td>22.50</td>\n      <td>USD</td>\n      <td>NaN</td>\n    </tr>\n    <tr>\n      <th>1</th>\n      <td>Little Pizza Paradise</td>\n      <td>Cascade Village Mall Across From Target</td>\n      <td>Bend</td>\n      <td>US</td>\n      <td>97701.0</td>\n      <td>OR</td>\n      <td>Pizza Place</td>\n      <td>Cheese Pizza</td>\n      <td>18.95</td>\n      <td>USD</td>\n      <td>NaN</td>\n    </tr>\n    <tr>\n      <th>2</th>\n      <td>The Brentwood</td>\n      <td>148 S Barrington Ave</td>\n      <td>Los Angeles</td>\n      <td>US</td>\n      <td>90049.0</td>\n      <td>Brentwood</td>\n      <td>American Restaurant,Bar,Bakery</td>\n      <td>Pizza, Margherita</td>\n      <td>12.00</td>\n      <td>USD</td>\n      <td>NaN</td>\n    </tr>\n    <tr>\n      <th>3</th>\n      <td>The Brentwood</td>\n      <td>148 S Barrington Ave</td>\n      <td>Los Angeles</td>\n      <td>US</td>\n      <td>90049.0</td>\n      <td>Brentwood</td>\n      <td>American Restaurant,Bar,Bakery</td>\n      <td>Pizza, Mushroom</td>\n      <td>13.00</td>\n      <td>USD</td>\n      <td>NaN</td>\n    </tr>\n    <tr>\n      <th>4</th>\n      <td>The Brentwood</td>\n      <td>148 S Barrington Ave</td>\n      <td>Los Angeles</td>\n      <td>US</td>\n      <td>90049.0</td>\n      <td>Brentwood</td>\n      <td>American Restaurant,Bar,Bakery</td>\n      <td>Pizza, Puttenesca</td>\n      <td>13.00</td>\n      <td>USD</td>\n      <td>Olives, onions, capers, tomatoes</td>\n    </tr>\n    <tr>\n      <th>...</th>\n      <td>...</td>\n      <td>...</td>\n      <td>...</td>\n      <td>...</td>\n      <td>...</td>\n      <td>...</td>\n      <td>...</td>\n      <td>...</td>\n      <td>...</td>\n      <td>...</td>\n      <td>...</td>\n    </tr>\n    <tr>\n      <th>496</th>\n      <td>Brando's Pizza</td>\n      <td>1042 Union Rd</td>\n      <td>Buffalo</td>\n      <td>US</td>\n      <td>14224.0</td>\n      <td>NY</td>\n      <td>Pizza Place</td>\n      <td>White Pizza Sub</td>\n      <td>7.49</td>\n      <td>USD</td>\n      <td>Garlic roll baked with mozzarella onions and t...</td>\n    </tr>\n    <tr>\n      <th>497</th>\n      <td>Woolworth Tower Kitchen</td>\n      <td>233 Broadway</td>\n      <td>New York</td>\n      <td>US</td>\n      <td>10279.0</td>\n      <td>Nyc</td>\n      <td>Restaurant,New York City</td>\n      <td>Grilled Pizza</td>\n      <td>10.00</td>\n      <td>USD</td>\n      <td>NaN</td>\n    </tr>\n    <tr>\n      <th>498</th>\n      <td>Ralph's Grocery Deli</td>\n      <td>2035 4th Ave</td>\n      <td>Seattle</td>\n      <td>US</td>\n      <td>98121.0</td>\n      <td>WA</td>\n      <td>Food Products,Grocery Stores,Supermarkets and ...</td>\n      <td>Pizza Special</td>\n      <td>7.29</td>\n      <td>USD</td>\n      <td>Whole</td>\n    </tr>\n    <tr>\n      <th>499</th>\n      <td>John's of 12th Street</td>\n      <td>302 E 12th St</td>\n      <td>New York</td>\n      <td>US</td>\n      <td>10003.0</td>\n      <td>Manhattan</td>\n      <td>Restaurant,Italian Restaurant,Italian Restaura...</td>\n      <td>Marinara Pizza</td>\n      <td>10.95</td>\n      <td>USD</td>\n      <td>Tomato, Basil, Garlic</td>\n    </tr>\n    <tr>\n      <th>500</th>\n      <td>John's of 12th Street</td>\n      <td>302 E 12th St</td>\n      <td>New York</td>\n      <td>US</td>\n      <td>10003.0</td>\n      <td>Manhattan</td>\n      <td>Restaurant,Italian Restaurant,Italian Restaura...</td>\n      <td>Vegan Margherita Pizza</td>\n      <td>16.95</td>\n      <td>USD</td>\n      <td>Tomato, Basil, Garlic, Daiya Cheese</td>\n    </tr>\n  </tbody>\n</table>\n<p>501 rows × 11 columns</p>\n</div>"
     },
     "execution_count": 178,
     "metadata": {},
     "output_type": "execute_result"
    }
   ],
   "source": [
    "main_df"
   ],
   "metadata": {
    "collapsed": false,
    "ExecuteTime": {
     "start_time": "2023-05-12T12:04:08.120199Z",
     "end_time": "2023-05-12T12:04:09.267285Z"
    }
   }
  },
  {
   "cell_type": "markdown",
   "source": [
    "Then we check for missing values."
   ],
   "metadata": {
    "collapsed": false
   }
  },
  {
   "cell_type": "code",
   "execution_count": 179,
   "outputs": [
    {
     "name": "stdout",
     "output_type": "stream",
     "text": [
      "name                  0\n",
      "address               0\n",
      "city                  0\n",
      "country               0\n",
      "postcode             10\n",
      "state                 0\n",
      "categories            0\n",
      "menu item             0\n",
      "item value           78\n",
      "currency             75\n",
      "item description    325\n",
      "dtype: int64\n"
     ]
    }
   ],
   "source": [
    "print(main_df.isna().sum())"
   ],
   "metadata": {
    "collapsed": false,
    "ExecuteTime": {
     "start_time": "2023-05-12T12:04:08.170200Z",
     "end_time": "2023-05-12T12:04:09.291287Z"
    }
   }
  },
  {
   "cell_type": "markdown",
   "source": [
    "There are 10 rows without a postcode, 325 without item description and 78 rows without an item value, something we cannot deduce from other fields."
   ],
   "metadata": {
    "collapsed": false
   }
  },
  {
   "cell_type": "markdown",
   "source": [
    "#### **Subtask RDF.0**:\n",
    "Before you start the transformation, extend cw_data with a few new entries (e.g., 2 new restaurants selling 2 new pizzas each, with some defined in-gredients). This task is mandatory, but it does not give points."
   ],
   "metadata": {
    "collapsed": false
   }
  },
  {
   "cell_type": "code",
   "execution_count": 179,
   "outputs": [],
   "source": [],
   "metadata": {
    "collapsed": false,
    "ExecuteTime": {
     "start_time": "2023-05-12T12:04:08.201195Z",
     "end_time": "2023-05-12T12:04:09.299286Z"
    }
   }
  },
  {
   "cell_type": "code",
   "execution_count": 180,
   "outputs": [],
   "source": [
    "cw_data_extension_data = [\n",
    "    [\"Alex' German Pizzeria\", \"21 Little Germany Plaza\", \"London\", \"US\", \"95353\", \"OR\", \"Pizza Place\",\n",
    "     \"Meat Lover Pizza\", 12, \"USD\", \"Cheese, Sausage\"],\n",
    "    [\"Nigerian Fusion Pizzeria\", \"22 Firewood Square\", \"London\", \"US\", \"95353\", \"OR\", \"Pizza,Restaurants\",\n",
    "     \"Marinara Pizza\", 10, \"USD\", \"Tomato, Basil, Garlic\"]]\n",
    "\n",
    "cw_data_extension = pd.DataFrame(data=cw_data_extension_data, columns=main_df.columns, index=[501, 502])\n",
    "main_df = pd.concat([main_df, cw_data_extension], axis=0)"
   ],
   "metadata": {
    "collapsed": false,
    "ExecuteTime": {
     "start_time": "2023-05-12T12:04:08.218199Z",
     "end_time": "2023-05-12T12:04:09.370285Z"
    }
   }
  },
  {
   "cell_type": "code",
   "execution_count": 181,
   "outputs": [
    {
     "data": {
      "text/plain": "(503, 11)"
     },
     "execution_count": 181,
     "metadata": {},
     "output_type": "execute_result"
    }
   ],
   "source": [
    "main_df.shape"
   ],
   "metadata": {
    "collapsed": false,
    "ExecuteTime": {
     "start_time": "2023-05-12T12:04:08.246197Z",
     "end_time": "2023-05-12T12:04:09.371289Z"
    }
   }
  },
  {
   "cell_type": "markdown",
   "source": [
    "#### **Subtask RDF.1**:\n",
    "URI generation (20%). Use a good naming convention for the URIs of the created individuals. Tip: Different restaurants in different cities may share the same name. Similarly for Pizzas, a pizza bianca is served in both “Ciao Bella” and “Little Pizza Paradise” restaurant"
   ],
   "metadata": {
    "collapsed": false
   }
  },
  {
   "cell_type": "markdown",
   "source": [
    "### Preprocessing"
   ],
   "metadata": {
    "collapsed": false
   }
  },
  {
   "cell_type": "markdown",
   "source": [
    "#### Text processing\n",
    "\n",
    "After running into issues with non-ASCII characters, we decided to remove them for guaranteed compatibility."
   ],
   "metadata": {
    "collapsed": false
   }
  },
  {
   "cell_type": "code",
   "execution_count": 182,
   "outputs": [],
   "source": [
    "# convert all columns to string to avoid issues\n",
    "cols_to_convert = [col for col in main_df.columns if col != \"item value\"]\n",
    "main_df[cols_to_convert] = main_df[cols_to_convert].astype(str)"
   ],
   "metadata": {
    "collapsed": false,
    "ExecuteTime": {
     "start_time": "2023-05-12T12:04:08.271195Z",
     "end_time": "2023-05-12T12:04:09.402284Z"
    }
   }
  },
  {
   "cell_type": "markdown",
   "source": [
    "We discovered the numbers in the postcode column contains decimals for some reason, so we remove it using a regular expression to make sure there is no information loss."
   ],
   "metadata": {
    "collapsed": false
   }
  },
  {
   "cell_type": "code",
   "execution_count": 183,
   "outputs": [
    {
     "data": {
      "text/plain": "0      97701.0\n1      97701.0\n2      90049.0\n3      90049.0\n4      90049.0\n        ...   \n498    98121.0\n499    10003.0\n500    10003.0\n501      95353\n502      95353\nName: postcode, Length: 503, dtype: object"
     },
     "execution_count": 183,
     "metadata": {},
     "output_type": "execute_result"
    }
   ],
   "source": [
    "main_df[\"postcode\"]"
   ],
   "metadata": {
    "collapsed": false,
    "ExecuteTime": {
     "start_time": "2023-05-12T12:04:08.310197Z",
     "end_time": "2023-05-12T12:04:09.417288Z"
    }
   }
  },
  {
   "cell_type": "code",
   "execution_count": 184,
   "outputs": [],
   "source": [
    "main_df[\"postcode\"] = main_df[\"postcode\"].replace(r'\\.0$', '', regex=True)"
   ],
   "metadata": {
    "collapsed": false,
    "ExecuteTime": {
     "start_time": "2023-05-12T12:04:08.329194Z",
     "end_time": "2023-05-12T12:04:09.421284Z"
    }
   }
  },
  {
   "cell_type": "code",
   "execution_count": 185,
   "outputs": [
    {
     "data": {
      "text/plain": "                    name                                  address  \\\n0  little pizza paradise  cascade village mall across from target   \n1  little pizza paradise  cascade village mall across from target   \n2          the brentwood                     148 s barrington ave   \n3          the brentwood                     148 s barrington ave   \n4          the brentwood                     148 s barrington ave   \n\n          city country      state                      categories  \\\n0         bend      us         or                     pizza place   \n1         bend      us         or                     pizza place   \n2  los angeles      us  brentwood  american restaurant,bar,bakery   \n3  los angeles      us  brentwood  american restaurant,bar,bakery   \n4  los angeles      us  brentwood  american restaurant,bar,bakery   \n\n          menu item                  item description  item value postcode  \\\n0      bianca pizza                               nan       22.50    97701   \n1      cheese pizza                               nan       18.95    97701   \n2  pizza margherita                               nan       12.00    90049   \n3    pizza mushroom                               nan       13.00    90049   \n4  pizza puttenesca  olives, onions, capers, tomatoes       13.00    90049   \n\n  currency  \n0      USD  \n1      USD  \n2      USD  \n3      USD  \n4      USD  ",
      "text/html": "<div>\n<style scoped>\n    .dataframe tbody tr th:only-of-type {\n        vertical-align: middle;\n    }\n\n    .dataframe tbody tr th {\n        vertical-align: top;\n    }\n\n    .dataframe thead th {\n        text-align: right;\n    }\n</style>\n<table border=\"1\" class=\"dataframe\">\n  <thead>\n    <tr style=\"text-align: right;\">\n      <th></th>\n      <th>name</th>\n      <th>address</th>\n      <th>city</th>\n      <th>country</th>\n      <th>state</th>\n      <th>categories</th>\n      <th>menu item</th>\n      <th>item description</th>\n      <th>item value</th>\n      <th>postcode</th>\n      <th>currency</th>\n    </tr>\n  </thead>\n  <tbody>\n    <tr>\n      <th>0</th>\n      <td>little pizza paradise</td>\n      <td>cascade village mall across from target</td>\n      <td>bend</td>\n      <td>us</td>\n      <td>or</td>\n      <td>pizza place</td>\n      <td>bianca pizza</td>\n      <td>nan</td>\n      <td>22.50</td>\n      <td>97701</td>\n      <td>USD</td>\n    </tr>\n    <tr>\n      <th>1</th>\n      <td>little pizza paradise</td>\n      <td>cascade village mall across from target</td>\n      <td>bend</td>\n      <td>us</td>\n      <td>or</td>\n      <td>pizza place</td>\n      <td>cheese pizza</td>\n      <td>nan</td>\n      <td>18.95</td>\n      <td>97701</td>\n      <td>USD</td>\n    </tr>\n    <tr>\n      <th>2</th>\n      <td>the brentwood</td>\n      <td>148 s barrington ave</td>\n      <td>los angeles</td>\n      <td>us</td>\n      <td>brentwood</td>\n      <td>american restaurant,bar,bakery</td>\n      <td>pizza margherita</td>\n      <td>nan</td>\n      <td>12.00</td>\n      <td>90049</td>\n      <td>USD</td>\n    </tr>\n    <tr>\n      <th>3</th>\n      <td>the brentwood</td>\n      <td>148 s barrington ave</td>\n      <td>los angeles</td>\n      <td>us</td>\n      <td>brentwood</td>\n      <td>american restaurant,bar,bakery</td>\n      <td>pizza mushroom</td>\n      <td>nan</td>\n      <td>13.00</td>\n      <td>90049</td>\n      <td>USD</td>\n    </tr>\n    <tr>\n      <th>4</th>\n      <td>the brentwood</td>\n      <td>148 s barrington ave</td>\n      <td>los angeles</td>\n      <td>us</td>\n      <td>brentwood</td>\n      <td>american restaurant,bar,bakery</td>\n      <td>pizza puttenesca</td>\n      <td>olives, onions, capers, tomatoes</td>\n      <td>13.00</td>\n      <td>90049</td>\n      <td>USD</td>\n    </tr>\n  </tbody>\n</table>\n</div>"
     },
     "execution_count": 185,
     "metadata": {},
     "output_type": "execute_result"
    }
   ],
   "source": [
    "def get_full_df(included_df: pd.DataFrame, excluded_df: pd.DataFrame):\n",
    "    return pd.concat([included_df, excluded_df], axis=1)\n",
    "\n",
    "\n",
    "def remove_non_ascii(s):\n",
    "    return s.encode('ascii', 'ignore').decode('ascii').lower()\n",
    "\n",
    "\n",
    "excluded_cols = [\"item value\", \"postcode\", \"currency\"]\n",
    "excluded_df = main_df[excluded_cols]\n",
    "included_cols = [col for col in main_df.columns if col not in excluded_cols]\n",
    "main_df = get_full_df(main_df[included_cols].applymap(remove_non_ascii), excluded_df)\n",
    "main_df[\"postcode\"] = main_df[\"postcode\"]\n",
    "\n",
    "# making currency guaranteed uppercase\n",
    "main_df[\"currency\"] = main_df[\"currency\"].apply(lambda row: row.upper())\n",
    "\n",
    "# remove commas from menu item name\n",
    "main_df[\"menu item\"] = main_df[\"menu item\"].str.replace(\",\", \"\")\n",
    "main_df.head()"
   ],
   "metadata": {
    "collapsed": false,
    "ExecuteTime": {
     "start_time": "2023-05-12T12:04:08.346194Z",
     "end_time": "2023-05-12T12:04:09.425290Z"
    }
   }
  },
  {
   "cell_type": "markdown",
   "source": [
    "### Fix spelling"
   ],
   "metadata": {
    "collapsed": false
   }
  },
  {
   "cell_type": "code",
   "execution_count": 186,
   "outputs": [
    {
     "name": "stdout",
     "output_type": "stream",
     "text": [
      "pizza margherita\n",
      "margarita pizza\n",
      "margherita pizza\n",
      "margarita flat bread pizza\n",
      "classic margherita artisan crust pizza\n",
      "margherita pizza (on honey wheat dough)\n",
      "thin crust margarita pizza\n",
      "vegan margherita pizza\n",
      "bbq sauce, mozzarella cheese, diced chicken breast, onions\n",
      "bbq sauce, chicken, red onions\n",
      "sweet bbq sauce topped with bbq chicken breast, bacon, red onions and mozzarella and gouda cheeses. garnished with cilantro and crispy onions.\n",
      "bbq sauce, grilled chicken breast, cheddar and mozzarella.\n",
      "created here in 1985. our legendary bbq sauce, smoked gouda, red onions and fresh cilantro transform this original to iconic\n",
      "your choice of bbq chicken or sante fe\n",
      "our legendary bbq sauce, smoked gouda, red onions and fresh cilantro transform this original to iconic.\n"
     ]
    }
   ],
   "source": [
    "def look_up_spelling(column: pd.Series, spelling: str):\n",
    "    for name in column.unique():\n",
    "        if spelling in name:\n",
    "            print(name)\n",
    "\n",
    "\n",
    "# find out mistakes in spelling \"margherita\"\n",
    "look_up_spelling(main_df[\"menu item\"], \"marg\")\n",
    "\n",
    "main_df[\"menu item\"] = main_df[\"menu item\"].str.replace(\"margarita\", \"margherita\")\n",
    "\n",
    "look_up_spelling(main_df[\"item description\"], \"bbq\")\n",
    "main_df[\"item description\"] = main_df[\"item description\"].str.replace(\"bbq\", \"barbecue\")\n",
    "main_df[\"menu item\"] = main_df[\"menu item\"].str.replace(\"bbq\", \"barbecue\")\n",
    "main_df[\"country\"] = main_df[\"country\"].str.replace(\"us\", \"united_states\")"
   ],
   "metadata": {
    "collapsed": false,
    "ExecuteTime": {
     "start_time": "2023-05-12T12:04:08.411199Z",
     "end_time": "2023-05-12T12:04:09.428285Z"
    }
   }
  },
  {
   "cell_type": "markdown",
   "source": [
    "In the next step, we take the lower case of all strings to enable upcoming URI format creation."
   ],
   "metadata": {
    "collapsed": false
   }
  },
  {
   "cell_type": "code",
   "execution_count": 187,
   "outputs": [
    {
     "data": {
      "text/plain": "                    name         city  \\\n0  little_pizza_paradise         bend   \n1  little_pizza_paradise         bend   \n2          the_brentwood  los_angeles   \n3          the_brentwood  los_angeles   \n4          the_brentwood  los_angeles   \n\n                                   address      state  \\\n0  cascade_village_mall_across_from_target         or   \n1  cascade_village_mall_across_from_target         or   \n2                     148_s_barrington_ave  brentwood   \n3                     148_s_barrington_ave  brentwood   \n4                     148_s_barrington_ave  brentwood   \n\n                       categories         menu item        country  \\\n0                     pizza_place      bianca_pizza  united_states   \n1                     pizza_place      cheese_pizza  united_states   \n2  american_restaurant,bar,bakery  pizza_margherita  united_states   \n3  american_restaurant,bar,bakery    pizza_mushroom  united_states   \n4  american_restaurant,bar,bakery  pizza_puttenesca  united_states   \n\n                   item description  item value postcode currency  \\\n0                               nan       22.50    97701      USD   \n1                               nan       18.95    97701      USD   \n2                               nan       12.00    90049      USD   \n3                               nan       13.00    90049      USD   \n4  olives, onions, capers, tomatoes       13.00    90049      USD   \n\n          item name        restaurant name  \n0      bianca pizza  little pizza paradise  \n1      cheese pizza  little pizza paradise  \n2  pizza margherita          the brentwood  \n3    pizza mushroom          the brentwood  \n4  pizza puttenesca          the brentwood  ",
      "text/html": "<div>\n<style scoped>\n    .dataframe tbody tr th:only-of-type {\n        vertical-align: middle;\n    }\n\n    .dataframe tbody tr th {\n        vertical-align: top;\n    }\n\n    .dataframe thead th {\n        text-align: right;\n    }\n</style>\n<table border=\"1\" class=\"dataframe\">\n  <thead>\n    <tr style=\"text-align: right;\">\n      <th></th>\n      <th>name</th>\n      <th>city</th>\n      <th>address</th>\n      <th>state</th>\n      <th>categories</th>\n      <th>menu item</th>\n      <th>country</th>\n      <th>item description</th>\n      <th>item value</th>\n      <th>postcode</th>\n      <th>currency</th>\n      <th>item name</th>\n      <th>restaurant name</th>\n    </tr>\n  </thead>\n  <tbody>\n    <tr>\n      <th>0</th>\n      <td>little_pizza_paradise</td>\n      <td>bend</td>\n      <td>cascade_village_mall_across_from_target</td>\n      <td>or</td>\n      <td>pizza_place</td>\n      <td>bianca_pizza</td>\n      <td>united_states</td>\n      <td>nan</td>\n      <td>22.50</td>\n      <td>97701</td>\n      <td>USD</td>\n      <td>bianca pizza</td>\n      <td>little pizza paradise</td>\n    </tr>\n    <tr>\n      <th>1</th>\n      <td>little_pizza_paradise</td>\n      <td>bend</td>\n      <td>cascade_village_mall_across_from_target</td>\n      <td>or</td>\n      <td>pizza_place</td>\n      <td>cheese_pizza</td>\n      <td>united_states</td>\n      <td>nan</td>\n      <td>18.95</td>\n      <td>97701</td>\n      <td>USD</td>\n      <td>cheese pizza</td>\n      <td>little pizza paradise</td>\n    </tr>\n    <tr>\n      <th>2</th>\n      <td>the_brentwood</td>\n      <td>los_angeles</td>\n      <td>148_s_barrington_ave</td>\n      <td>brentwood</td>\n      <td>american_restaurant,bar,bakery</td>\n      <td>pizza_margherita</td>\n      <td>united_states</td>\n      <td>nan</td>\n      <td>12.00</td>\n      <td>90049</td>\n      <td>USD</td>\n      <td>pizza margherita</td>\n      <td>the brentwood</td>\n    </tr>\n    <tr>\n      <th>3</th>\n      <td>the_brentwood</td>\n      <td>los_angeles</td>\n      <td>148_s_barrington_ave</td>\n      <td>brentwood</td>\n      <td>american_restaurant,bar,bakery</td>\n      <td>pizza_mushroom</td>\n      <td>united_states</td>\n      <td>nan</td>\n      <td>13.00</td>\n      <td>90049</td>\n      <td>USD</td>\n      <td>pizza mushroom</td>\n      <td>the brentwood</td>\n    </tr>\n    <tr>\n      <th>4</th>\n      <td>the_brentwood</td>\n      <td>los_angeles</td>\n      <td>148_s_barrington_ave</td>\n      <td>brentwood</td>\n      <td>american_restaurant,bar,bakery</td>\n      <td>pizza_puttenesca</td>\n      <td>united_states</td>\n      <td>olives, onions, capers, tomatoes</td>\n      <td>13.00</td>\n      <td>90049</td>\n      <td>USD</td>\n      <td>pizza puttenesca</td>\n      <td>the brentwood</td>\n    </tr>\n  </tbody>\n</table>\n</div>"
     },
     "execution_count": 187,
     "metadata": {},
     "output_type": "execute_result"
    }
   ],
   "source": [
    "import string\n",
    "\n",
    "# getting a dict with punctuation mapping\n",
    "punctuation_dict = dict.fromkeys(string.punctuation)\n",
    "\n",
    "# building custom dict\n",
    "punctuation_dict[\"-\"] = \"_\"\n",
    "punctuation_dict[\" \"] = \"_\"\n",
    "punctuation_dict[\",\"] = \",\"\n",
    "# translator initiation\n",
    "translator = str.maketrans(punctuation_dict)\n",
    "main_df[\"item name\"] = main_df[\"menu item\"]\n",
    "main_df[\"restaurant name\"] = main_df[\"name\"]\n",
    "included_cols = [\"name\", \"city\", \"address\", \"state\", \"categories\", \"menu item\"]\n",
    "excluded_cols = [col for col in main_df.columns if col not in included_cols]\n",
    "\n",
    "excluded_df = main_df[excluded_cols]\n",
    "main_df = main_df[included_cols]\n",
    "main_df = main_df.applymap(lambda x: x.translate(translator))\n",
    "# removes multiple underscores\n",
    "main_df[\"menu item\"] = main_df[\"menu item\"].apply(lambda x: x.replace('_', ' ').replace('  ', '_').replace(' ', '_'))\n",
    "main_df = get_full_df(main_df, excluded_df)\n",
    "main_df.head()"
   ],
   "metadata": {
    "collapsed": false,
    "ExecuteTime": {
     "start_time": "2023-05-12T12:04:08.442199Z",
     "end_time": "2023-05-12T12:04:09.442286Z"
    }
   }
  },
  {
   "cell_type": "code",
   "execution_count": 188,
   "outputs": [],
   "source": [
    "# concatenating venue name and city to avoid ambiguous entries\n",
    "main_df[\"uri_restaurant\"] = main_df[\"name\"] + \"_\" + main_df[\"city\"]\n",
    "# concatenating item name, venue name and city to avoid ambiguous entries\n",
    "main_df[\"uri_menu_item\"] = main_df[\"menu item\"] + \"_at_\" + main_df[\"uri_restaurant\"]\n",
    "#\n",
    "main_df[\"uri_address\"] = \"address_\" + main_df[\"address\"] + \"_\" + main_df[\"city\"]\n",
    "\n",
    "# concatenating price and currency to create unique names\n",
    "main_df[\"uri_item_value\"] = \"\"\n",
    "for index, row in main_df[[\"item value\", \"currency\"]].iterrows():\n",
    "    item_value = str(row[\"item value\"])\n",
    "    currency = row[\"currency\"]\n",
    "    if item_value == \"nan\" or currency == \"NAN\":\n",
    "        main_df.loc[index, \"uri_item_value\"] = \"\"\n",
    "    else:\n",
    "        main_df.loc[index, \"uri_item_value\"] = item_value + currency"
   ],
   "metadata": {
    "collapsed": false,
    "ExecuteTime": {
     "start_time": "2023-05-12T12:04:08.493197Z",
     "end_time": "2023-05-12T12:04:09.498286Z"
    }
   }
  },
  {
   "cell_type": "code",
   "execution_count": 189,
   "outputs": [],
   "source": [
    "look_up_spelling(main_df[\"item description\"], \"bbq\")"
   ],
   "metadata": {
    "collapsed": false,
    "ExecuteTime": {
     "start_time": "2023-05-12T12:04:08.646211Z",
     "end_time": "2023-05-12T12:04:09.498286Z"
    }
   }
  },
  {
   "cell_type": "markdown",
   "source": [
    "## Preparing the food dataset\n",
    "\n",
    "Things that need to be done for **pizza**:\n",
    "- pizza\n",
    " - by name\n",
    " - by ingredient\n",
    " - by style\n"
   ],
   "metadata": {
    "collapsed": false
   }
  },
  {
   "cell_type": "markdown",
   "source": [
    "### Fix spelling"
   ],
   "metadata": {
    "collapsed": false
   }
  },
  {
   "cell_type": "code",
   "execution_count": 190,
   "outputs": [],
   "source": [
    "pizza_names = {\"margherita\": \"MargheritaPizza\", \"hawaii\": \"HawaiianPizza\", \"supreme\": \"PizzaSupreme\",\n",
    "               \"maui\": \"HawaiianPizza\", \"ernesto\": \"PizzaErnesto\", \"napolitana\": \"PizzaNapolitana\",\n",
    "               \"marinara\": \"PizzaMarinara\", \"romana\": \"PizzaRomana\", \"californian\": \"CalifornianPizza\",\n",
    "               \"fruit\": \"FruitPizza\", \"vegetarian\": \"VegetarianPizza\", \"vegan\": \"VeganPizza\",\n",
    "               \"mushroom\": \"MushroomPizza\"}\n",
    "\n",
    "bianca_pizza_items = [\"bianca\", \"blanca\", \"white\"]\n",
    "for item in bianca_pizza_items:\n",
    "    pizza_names[item] = \"PizzaBianca\"\n",
    "\n",
    "sweet_pizza_items = [\"nutella\", \"dessert\", \"chocolate\"]\n",
    "for item in sweet_pizza_items:\n",
    "    pizza_names[item] = \"SweetPizza\"\n",
    "\n",
    "greek_pizza_items = [\"greek\", \"gyro\", \"pita\"]\n",
    "for item in greek_pizza_items:\n",
    "    pizza_names[item] = \"GreekPizza\"\n",
    "\n",
    "american_pizza_items = [\"american\", \"new york style\", \"chicago\", \"buffalo\", \"ranch\", \"deep dish\"]\n",
    "for item in american_pizza_items:\n",
    "    pizza_names[item] = \"AmericanPizza\"\n",
    "\n",
    "mexican_pizza_items = [\"taco\", \"carne\", \"mexican\"]\n",
    "for item in mexican_pizza_items:\n",
    "    pizza_names[item] = \"MexicanPizza\"\n",
    "\n",
    "meat_pizza_items = [\"pork\", \"meatball\", \"meat lover\", \"steak\", \"gyro\", \"meat eater\", \"meat pizza\", \"chicken\",\n",
    "                    \"pepperoni\", \"carne\"]\n",
    "for item in meat_pizza_items:\n",
    "    pizza_names[item] = \"MeatPizza\"\n",
    "\n",
    "not_pizza_items = [\"bagel\", \"burger\", \"bread\", \"bruschetta\", \"fries\", \"dough\", \"logs\", \"pretzel\", \"roll\", \"sub\"]\n",
    "for item in not_pizza_items:\n",
    "    pizza_names[item] = \"MenuItem\""
   ],
   "metadata": {
    "collapsed": false,
    "ExecuteTime": {
     "start_time": "2023-05-12T12:04:08.667196Z",
     "end_time": "2023-05-12T12:04:09.528170Z"
    }
   }
  },
  {
   "cell_type": "markdown",
   "source": [
    "#### **Subtask RDF.2** + **Subtask RDF.4**:\n",
    "RDF generation (60%). This task will be evaluated by the execution of a number of (blind) queries, which are expected to return results (not necessarily complete), over the generated data.4 For example, (i) list American restaurants or (ii) list vegan pizzas.\n",
    "\n",
    "Reuse URIs from state-of-the art knowledge graphs (10%). For the cells in the columns city, country and state; instead of creating new URIs (e.g., new individuals) for the information in the table cells, reuse an entity URI from DBPedia, Wikidata or Google’s Knowledge Graph (e.g., dbr:Chicago instead of cw:chicago)."
   ],
   "metadata": {
    "collapsed": false
   }
  },
  {
   "cell_type": "code",
   "execution_count": 191,
   "outputs": [],
   "source": [
    "def add_ingredients_to_graph(ingredients):\n",
    "    def _get_ingredient_uri_refs(ingredients):\n",
    "        ingredients_uri_refs = [URIRef(cw_namespace + ingredient.translate(translator)) for ingredient in\n",
    "                                ingredients]\n",
    "        print(f\"Created {len(ingredients_uri_refs)} triples.\")\n",
    "        return ingredients_uri_refs\n",
    "\n",
    "    ingredients_uri_refs = _get_ingredient_uri_refs(ingredients)\n",
    "    previous_graph_length = len(graph)\n",
    "    for uri_ref in ingredients_uri_refs:\n",
    "        class_name = uri_ref.title().split(\"#\")[1].replace(\"_\", \"\")\n",
    "        class_uri_ref = URIRef(cw_namespace + class_name)\n",
    "        graph.add((uri_ref, RDF.type, class_uri_ref))\n",
    "\n",
    "    print(f\"Added {len(graph) - previous_graph_length} triples.\")"
   ],
   "metadata": {
    "collapsed": false,
    "ExecuteTime": {
     "start_time": "2023-05-12T12:04:08.695195Z",
     "end_time": "2023-05-12T12:04:09.534155Z"
    }
   }
  },
  {
   "cell_type": "code",
   "execution_count": 192,
   "outputs": [
    {
     "name": "stdout",
     "output_type": "stream",
     "text": [
      "Created 71 triples.\n",
      "Added 71 triples.\n"
     ]
    }
   ],
   "source": [
    "ingredients = [\n",
    "    \"mortadella\", \"prosciutto\", \"ham\", \"chicken\", \"beef\", \"meatballs\", \"chorizo\", \"salami\", \"bacon\",\n",
    "    \"sausage\", \"pepperoni\", \"salmon\", \"shrimp\", \"crab meat\", \"scallops\", \"tuna\", \"anchovies\",\n",
    "    \"mushroom\", \"zucchini\", \"root vegetable\", \"carrot\", \"potato\", \"sweet potato\", \"artichokes\", \"pesto\",\n",
    "    \"vegan cheese\", \"tofu\", \"olive oil\", \"vegetable\", \"tomato\", \"plum tomato\", \"cherry tomato\", \"onion\",\n",
    "    \"pepper\", \"green pepper\", \"red pepper\", \"yellow pepper\", \"jalapeno pepper\", \"winter squash\", \"pumpkin\",\n",
    "    \"hot sauce\", \"barbecue sauce\", \"tomato sauce\", \"marinara\", \"parmesan\",\n",
    "    \"provolone\", \"cheddar\", \"gorgonzola\", \"goat cheese\", \"ricotta\", \"mozzarella\", \"blue cheese\", \"feta\",\n",
    "    \"butternut squash\", \"fruit\", \"pineapple\", \"fig\", \"broccoli\", \"eggplant\", \"garlic\", \"herbs\", \"oregano\",\n",
    "    \"rosemary\", \"basil\", \"capers\", \"spinach\", \"seeds\", \"beans\", \"olives\", \"black olives\", \"green olives\",\n",
    "]\n",
    "\n",
    "add_ingredients_to_graph(ingredients)"
   ],
   "metadata": {
    "collapsed": false,
    "ExecuteTime": {
     "start_time": "2023-05-12T12:04:08.711192Z",
     "end_time": "2023-05-12T12:04:09.534155Z"
    }
   }
  },
  {
   "cell_type": "code",
   "execution_count": 193,
   "outputs": [
    {
     "name": "stdout",
     "output_type": "stream",
     "text": [
      "Appended SeafoodPizza for salmon\n",
      "Appended SeafoodPizza for shrimp\n",
      "Appended SeafoodPizza for scallops\n",
      "Appended SeafoodPizza for tuna\n",
      "Appended SeafoodPizza for anchovies\n",
      "Appended SeafoodPizza for crab meat\n",
      "Appended FruitPizza for pineapple\n",
      "Appended MeatPizza for mortadella\n",
      "Appended MeatPizza for prosciutto\n",
      "Appended MeatPizza for ham\n",
      "Appended MeatPizza for chicken\n",
      "Appended MeatPizza for beef\n",
      "Appended MeatPizza for meatballs\n",
      "Appended MeatPizza for chorizo\n",
      "Appended MeatPizza for salami\n",
      "Appended MeatPizza for bacon\n",
      "Appended MeatPizza for sausage\n",
      "Appended MeatPizza for pepperoni\n"
     ]
    }
   ],
   "source": [
    "ingredients_dict = {\n",
    "    \"mortadella\": [], \"prosciutto\": [], \"ham\": [], \"chicken\": [\"ChickenPizza\"], \"beef\": [], \"meatballs\": [],\n",
    "    \"chorizo\": [], \"salami\": [], \"bacon\": [], \"sausage\": [], \"pepperoni\": [], \"salmon\": [], \"shrimp\": [],\n",
    "    \"crab meat\": [], \"scallops\": [], \"tuna\": [], \"anchovies\": [], \"mushroom\": [\"MushroomPizza\"],\n",
    "    \"zucchini\": [], \"root vegetable\": [], \"carrot\": [], \"potato\": [], \"sweet potato\": [], \"artichokes\": [], \"pesto\": [],\n",
    "    \"vegan cheese\": [], \"tofu\": [], \"olive oil\": [], \"vegetable\": [], \"tomato\": [], \"plum tomato\": [],\n",
    "    \"cherry tomato\": [], \"onion\": [], \"pepper\": [], \"green pepper\": [],\n",
    "    \"red pepper\": [], \"yellow pepper\": [], \"jalapeno pepper\": [], \"winter squash\": [],\n",
    "    \"pumpkin\": [], \"hot sauce\": [], \"barbecue sauce\": [\"BarbecuePizza\"],\n",
    "    \"tomato sauce\": [], \"marinara\": [], \"parmesan\": [], \"provolone\": [], \"cheddar\": [], \"gorgonzola\": [],\n",
    "    \"goat cheese\": [], \"ricotta\": [], \"mozzarella\": [], \"blue cheese\": [], \"feta\": [\"FetaPizza\", \"GreekPizza\"],\n",
    "    \"butternut squash\": [], \"fruit\": [], \"pineapple\": [\"PineapplePizza\"],\n",
    "}\n",
    "\n",
    "seafood_ingredients = [\"salmon\", \"shrimp\", \"scallops\", \"tuna\", \"anchovies\", \"crab meat\"]\n",
    "fruit_ingredients = [\"fig\", \"pineapple\"]\n",
    "meat_ingredients = [\"mortadella\", \"prosciutto\", \"ham\", \"chicken\", \"beef\", \"meatballs\", \"chorizo\", \"salami\", \"bacon\",\n",
    "                    \"sausage\", \"pepperoni\"]\n",
    "\n",
    "\n",
    "def append_pizza_type_to_dict(ingredients, type: str):\n",
    "    valid_types = [\"seafood\", \"meat\", \"fruit\"]\n",
    "    if type not in valid_types:\n",
    "        raise ValueError(f\"Please provide one of the following parameters for type: {valid_types}\")\n",
    "\n",
    "    class_name = \"\"\n",
    "    if type == \"seafood\":\n",
    "        class_name = \"SeafoodPizza\"\n",
    "    elif type == \"fruit\":\n",
    "        class_name = \"FruitPizza\"\n",
    "    elif type == \"meat\":\n",
    "        class_name = \"MeatPizza\"\n",
    "\n",
    "    for ingredient in ingredients:\n",
    "        if ingredient in ingredients_dict.keys():\n",
    "            ingredients_dict[ingredient].append(class_name)\n",
    "            print(f\"Appended {class_name} for {ingredient}\")\n",
    "\n",
    "\n",
    "append_pizza_type_to_dict(seafood_ingredients, \"seafood\")\n",
    "append_pizza_type_to_dict(fruit_ingredients, \"fruit\")\n",
    "append_pizza_type_to_dict(meat_ingredients, \"meat\")\n"
   ],
   "metadata": {
    "collapsed": false,
    "ExecuteTime": {
     "start_time": "2023-05-12T12:04:08.740196Z",
     "end_time": "2023-05-12T12:04:09.534155Z"
    }
   }
  },
  {
   "cell_type": "markdown",
   "source": [
    "#### Adding currency to the graph"
   ],
   "metadata": {
    "collapsed": false
   }
  },
  {
   "cell_type": "code",
   "execution_count": 194,
   "outputs": [
    {
     "name": "stdout",
     "output_type": "stream",
     "text": [
      "Added 1 triples.\n"
     ]
    }
   ],
   "source": [
    "currencies = main_df[\"currency\"].unique()\n",
    "\n",
    "currency_class = URIRef(cw_namespace + \"Currency\")\n",
    "previous_graph_length = len(graph)\n",
    "for currency_name in currencies:\n",
    "    if currency_name == \"NAN\":\n",
    "        continue\n",
    "\n",
    "    currency_instance = URIRef(cw_namespace + currency_name)\n",
    "    graph.add((currency_instance, RDF.type, currency_class))\n",
    "\n",
    "print(f\"Added {len(graph) - previous_graph_length} triples.\")"
   ],
   "metadata": {
    "collapsed": false,
    "ExecuteTime": {
     "start_time": "2023-05-12T12:04:08.778194Z",
     "end_time": "2023-05-12T12:04:09.534155Z"
    }
   }
  },
  {
   "cell_type": "code",
   "execution_count": 195,
   "outputs": [],
   "source": [
    "restaurant_types = [\"american_restaurant\", \"mexican_restaurant\", \"asian_restaurant\", \"chinese_restaurant\",\n",
    "                    \"indian_restaurant\", \"japanese_restaurant\", \"sushi_restaurant\", \"bakery\", \"bar_and_grill\", \"bar\",\n",
    "                    \"cocktail_bar\", \"karaoke_bar\", \"sports_bar\", \"beer_place\", \"club\", \"pub\", \"gastro_pub\",\n",
    "                    \"burger_place\", \"coffee_shop\", \"dietary_restaurant\", \"gluten_free_restaurant\", \"vegan_restaurant\",\n",
    "                    \"vegetarian_restaurant\", \"gourmet_restaurants\", \"mediterranean_restaurant\", \"french_restaurant\",\n",
    "                    \"greek_restaurant\", \"italian_restaurant\", \"spanish_restaurant\", \"pizza_place\", \"pizzeria\",\n",
    "                    \"seafood_restaurant\"]"
   ],
   "metadata": {
    "collapsed": false,
    "ExecuteTime": {
     "start_time": "2023-05-12T12:04:08.808196Z",
     "end_time": "2023-05-12T12:04:09.534155Z"
    }
   }
  },
  {
   "cell_type": "code",
   "execution_count": 196,
   "outputs": [],
   "source": [
    "import re\n",
    "\n",
    "\n",
    "def string_to_upper_camel_case(string):\n",
    "    return re.sub(r\"(^|_)([a-z])\", lambda m: m.group(2).upper(), string)"
   ],
   "metadata": {
    "collapsed": false,
    "ExecuteTime": {
     "start_time": "2023-05-12T12:04:08.823196Z",
     "end_time": "2023-05-12T12:04:09.534155Z"
    }
   }
  },
  {
   "cell_type": "code",
   "execution_count": 197,
   "outputs": [],
   "source": [
    "def get_ask_query_result(triple):\n",
    "    return [row for row in graph.query(\"\"\"ASK {\"\"\" + triple + \"\"\" }\"\"\")][0]\n",
    "\n",
    "\n",
    "def has_state_already(instance):\n",
    "    triple = \"cw:\" + instance + \" cw:locatedInState \" + \"?state\"\n",
    "    cw_res = get_ask_query_result(triple)\n",
    "    triple = \"dbp:\" + instance.title() + \" cw:locatedInState \" + \"?state\"\n",
    "    dbp_res = get_ask_query_result(triple)\n",
    "\n",
    "    return cw_res or dbp_res\n",
    "\n",
    "\n",
    "def is_city_already(instance):\n",
    "    triple = \"cw:\" + instance + \" rdf:type \" + \"cw:City\"\n",
    "    cw_res = get_ask_query_result(triple)\n",
    "    triple = \"dbp:\" + instance.title() + \" rdf:type \" + \"cw:City\"\n",
    "    dbp_res = get_ask_query_result(triple)\n",
    "\n",
    "    return cw_res or dbp_res\n",
    "\n",
    "\n",
    "# def get_instance_information(instance, relationship, object):\n",
    "\n",
    "\n",
    "def is_state_already(instance):\n",
    "    triple = \"cw:\" + instance + \" rdf:type \" + \"cw:State\"\n",
    "    cw_res = get_ask_query_result(triple)\n",
    "    triple = \"dbp:\" + instance.title() + \" rdf:type \" + \"cw:State\"\n",
    "    dbp_res = get_ask_query_result(triple)\n",
    "\n",
    "    return cw_res or dbp_res"
   ],
   "metadata": {
    "collapsed": false,
    "ExecuteTime": {
     "start_time": "2023-05-12T12:04:08.842199Z",
     "end_time": "2023-05-12T12:04:09.534155Z"
    }
   }
  },
  {
   "cell_type": "code",
   "execution_count": 198,
   "outputs": [
    {
     "data": {
      "text/plain": "False"
     },
     "execution_count": 198,
     "metadata": {},
     "output_type": "execute_result"
    }
   ],
   "source": [
    "is_state_already(\"chicago\")"
   ],
   "metadata": {
    "collapsed": false,
    "ExecuteTime": {
     "start_time": "2023-05-12T12:04:08.868197Z",
     "end_time": "2023-05-12T12:04:09.534155Z"
    }
   }
  },
  {
   "cell_type": "code",
   "execution_count": 199,
   "outputs": [],
   "source": [
    "def check_misclassification(instance, instance_class):\n",
    "    triple = \"cw:\" + instance + \" rdf:type \" + \"cw:\" + instance_class\n",
    "    cw_res = get_ask_query_result(triple)\n",
    "    triple = \"dbp:\" + instance.title() + \" rdf:type \" + \"cw:\" + instance_class\n",
    "    dbp_res = get_ask_query_result(triple)\n",
    "\n",
    "    return cw_res or dbp_res\n"
   ],
   "metadata": {
    "collapsed": false,
    "ExecuteTime": {
     "start_time": "2023-05-12T12:04:08.916193Z",
     "end_time": "2023-05-12T12:04:09.535155Z"
    }
   }
  },
  {
   "cell_type": "code",
   "execution_count": 200,
   "outputs": [],
   "source": [
    "# adapted code from lab\n",
    "def getExternalKGURI(name, place_type):\n",
    "    def _update_current_entity(name, entity, current_uri, current_sim):\n",
    "        isub_score = isub(name, entity.label)\n",
    "        if current_sim < isub_score:\n",
    "            current_uri = entity.ident\n",
    "            current_sim = isub_score\n",
    "        return current_uri, current_sim\n",
    "\n",
    "    valid_place_types = [\"city\", \"state\", \"country\"]\n",
    "    if place_type not in valid_place_types:\n",
    "        raise ValueError(f\"Please provide one of the following parameters: {valid_place_types}\")\n",
    "\n",
    "    dbpedia = DBpediaLookup()\n",
    "\n",
    "    # identifying the entities that are similar lexically\n",
    "    entities = dbpedia.getKGEntities(name, 5)\n",
    "    # if there are no results\n",
    "    if not entities:\n",
    "        outcome = ''\n",
    "        return outcome\n",
    "\n",
    "    else:\n",
    "        current_sim = -1\n",
    "        current_uri = ''\n",
    "        for entity in entities:\n",
    "\n",
    "            types = entity.types  #  isolating the set of \"types\" each resource belongs to\n",
    "\n",
    "            if place_type == \"city\":\n",
    "\n",
    "                if 'http://dbpedia.org/ontology/City' in types:\n",
    "                    current_uri, current_sim = _update_current_entity(name, entity, current_uri, current_sim)\n",
    "\n",
    "            elif place_type == \"state\":\n",
    "                if 'http://dbpedia.org/ontology/AdministrativeRegion' in types:\n",
    "                    current_uri, current_sim = _update_current_entity(name, entity, current_uri, current_sim)\n",
    "\n",
    "            elif place_type == \"country\":\n",
    "                if 'http://dbpedia.org/ontology/Country' in types:\n",
    "                    current_uri, current_sim = _update_current_entity(name, entity, current_uri, current_sim)\n",
    "\n",
    "        return current_uri\n"
   ],
   "metadata": {
    "collapsed": false,
    "ExecuteTime": {
     "start_time": "2023-05-12T12:04:08.941201Z",
     "end_time": "2023-05-12T12:04:09.535155Z"
    }
   }
  },
  {
   "cell_type": "code",
   "execution_count": 201,
   "outputs": [
    {
     "name": "stdout",
     "output_type": "stream",
     "text": [
      "Added 5135 triples.\n"
     ]
    }
   ],
   "source": [
    "# creating necessary classes\n",
    "pizza_item_class = URIRef(cw_namespace + \"Pizza\")\n",
    "item_value_class = URIRef(cw_namespace + \"ItemValue\")\n",
    "address_class = URIRef(cw_namespace + \"Address\")\n",
    "city_class = URIRef(cw_namespace + \"City\")\n",
    "country_class = URIRef(cw_namespace + \"Country\")\n",
    "state_class = URIRef(cw_namespace + \"State\")\n",
    "restaurant_class = URIRef(cw_namespace + \"Restaurant\")\n",
    "named_pizza_class = URIRef(cw_namespace + \"NamedPizza\")\n",
    "\n",
    "# creating object properties\n",
    "has_ingredient_property = URIRef(cw_namespace + \"hasIngredient\")\n",
    "is_ingredient_of_object_property = URIRef(cw_namespace + \"isIngredientOf\")\n",
    "amount_currency_object_property = URIRef(cw_namespace + \"amountCurrency\")\n",
    "has_value_object_property = URIRef(cw_namespace + \"hasValue\")\n",
    "serves_menu_item_object_property = URIRef(cw_namespace + \"servesMenuItem\")\n",
    "serves_object_property = URIRef(cw_namespace + \"serves\")\n",
    "served_in_object_property = URIRef(cw_namespace + \"servedIn\")\n",
    "served_in_restaurant_object_property = URIRef(cw_namespace + \"servedInRestaurant\")\n",
    "located_in_address_object_property = URIRef(cw_namespace + \"locatedInAddress\")\n",
    "located_in_city_object_property = URIRef(cw_namespace + \"locatedInCity\")\n",
    "located_in_state_object_property = URIRef(cw_namespace + \"locatedInState\")\n",
    "located_in_country_object_property = URIRef(cw_namespace + \"locatedInCountry\")\n",
    "\n",
    "# data properties\n",
    "amount_data_property = URIRef(cw_namespace + \"amount\")\n",
    "first_line_address_data_property = URIRef(cw_namespace + \"firstLineAddress\")\n",
    "name_data_property = URIRef(cw_namespace + \"name\")\n",
    "item_name_data_property = URIRef(cw_namespace + \"itemName\")\n",
    "restaurant_name_data_property = URIRef(cw_namespace + \"restaurantName\")\n",
    "postcode_data_property = URIRef(cw_namespace + \"postCode\")\n",
    "\n",
    "INVALID_KG_RESPONSE = ''\n",
    "previos_city_name = \"\"\n",
    "previous_state_name = \"\"\n",
    "previous_country_name = \"\"\n",
    "\n",
    "previous_graph_length = len(graph)\n",
    "for index, row in main_df.iterrows():\n",
    "\n",
    "    # create menu item\n",
    "    menu_item = URIRef(cw_namespace + row[\"uri_menu_item\"])\n",
    "\n",
    "    # add menu item type\n",
    "    found_pizza_type = False\n",
    "\n",
    "    for named_pizza_type in pizza_names:\n",
    "        for name in pizza_names.keys():\n",
    "            if name in row[\"item name\"]:\n",
    "                found_pizza_type = True\n",
    "                pizza_type_class = URIRef(cw_namespace + pizza_names[name])\n",
    "                graph.add((menu_item, RDF.type, pizza_type_class))\n",
    "\n",
    "    # add menu item name\n",
    "    graph.add((menu_item, item_name_data_property, Literal(row[\"item name\"], datatype=XSD.string)))\n",
    "\n",
    "    # add item value\n",
    "    if not (row[\"uri_item_value\"] == \"\"):\n",
    "        value_instance = URIRef(cw_namespace + row[\"uri_item_value\"])\n",
    "        graph.add((value_instance, RDF.type, item_value_class))\n",
    "        # add currency information to item value\n",
    "        value_currency = URIRef(cw_namespace + row[\"currency\"])\n",
    "        graph.add((value_instance, amount_currency_object_property, value_currency))\n",
    "        # add amount to item value\n",
    "        graph.add((value_instance, amount_data_property, Literal(row[\"item value\"], datatype=XSD.double)))\n",
    "        # add item value to menu item\n",
    "        graph.add((menu_item, has_value_object_property, value_instance))\n",
    "\n",
    "    # add ingredients to item\n",
    "    for ingredient in ingredients_dict.keys():\n",
    "        if ingredient in row[\"item name\"] or ingredient in row[\"item description\"] and row[\"item description\"] != \"nan\":\n",
    "            # add appropriate type to pizza\n",
    "            # if array contains something\n",
    "            if ingredients_dict[ingredient]:\n",
    "                found_pizza_type = True\n",
    "                for name in ingredients_dict[ingredient]:\n",
    "                    pizza_type_class = URIRef(cw_namespace + name)\n",
    "                    graph.add((menu_item, RDF.type, pizza_type_class))\n",
    "\n",
    "                # format name to create valid uri\n",
    "            ingredient = ingredient.translate(translator)\n",
    "            ingredient_instance = URIRef(cw_namespace + ingredient)\n",
    "            graph.add((menu_item, has_ingredient_property, ingredient_instance))\n",
    "\n",
    "    if not found_pizza_type:\n",
    "        graph.add((menu_item, RDF.type, pizza_item_class))\n",
    "    # create restaurant\n",
    "    restaurant_instance = URIRef(cw_namespace + row[\"uri_restaurant\"])\n",
    "    # add restaurant name\n",
    "    graph.add(\n",
    "        (restaurant_instance, restaurant_name_data_property, Literal(row[\"restaurant name\"], datatype=XSD.string)))\n",
    "    # add address information\n",
    "    restaurant_address = URIRef(row[\"uri_address\"])\n",
    "    graph.add((restaurant_address, RDF.type, address_class))\n",
    "    # add address first line\n",
    "    graph.add((restaurant_address, first_line_address_data_property, Literal(row[\"address\"], datatype=XSD.string)))\n",
    "    #add address postcode\n",
    "    if row[\"postcode\"] != \"nan\":\n",
    "        graph.add((restaurant_address, postcode_data_property, Literal(row[\"postcode\"], datatype=XSD.string)))\n",
    "\n",
    "    restaurant_city_name = row['city']\n",
    "    restaurant_state_name = row['state']\n",
    "    restaurant_country_name = row['country']\n",
    "    # create locations\n",
    "    try:\n",
    "        if restaurant_city_name != previos_city_name:\n",
    "            city_lookup_name = restaurant_city_name.title()\n",
    "            city_dbp_uri = getExternalKGURI(city_lookup_name, place_type=\"city\")\n",
    "            if city_dbp_uri != INVALID_KG_RESPONSE:\n",
    "                restaurant_city_instance = URIRef(city_dbp_uri)\n",
    "            else:\n",
    "                restaurant_city_instance = URIRef(cw_namespace + restaurant_city_name)\n",
    "        previous_city_name = restaurant_city_name\n",
    "\n",
    "        if restaurant_state_name != previous_state_name:\n",
    "            state_lookup_name = restaurant_state_name.upper()\n",
    "            state_dbp_uri = getExternalKGURI(restaurant_state_name, place_type=\"state\")\n",
    "            if state_dbp_uri != INVALID_KG_RESPONSE:\n",
    "                restaurant_state_instance = URIRef(state_dbp_uri)\n",
    "            else:\n",
    "                restaurant_state_instance = URIRef(cw_namespace + restaurant_state_name)\n",
    "        previous_state_name = restaurant_state_name\n",
    "\n",
    "        if previous_country_name != restaurant_country_name:\n",
    "            country_lookup_name = restaurant_country_name.upper()\n",
    "            country_dbp_uri = getExternalKGURI(country_lookup_name, place_type=\"country\")\n",
    "            if country_dbp_uri != INVALID_KG_RESPONSE:\n",
    "                restaurant_country_instance = URIRef(country_dbp_uri)\n",
    "            else:\n",
    "                restaurant_country_instance = URIRef(cw_namespace + restaurant_country_name)\n",
    "        previous_country_name = restaurant_country_name\n",
    "\n",
    "\n",
    "    except Exception as e:\n",
    "        restaurant_city_instance = URIRef(cw_namespace + restaurant_city_name)\n",
    "        restaurant_state_instance = URIRef(cw_namespace + restaurant_state_name)\n",
    "        restaurant_country_instance = URIRef(cw_namespace + restaurant_country_name)\n",
    "        print(e)\n",
    "\n",
    "    if not is_state_already(restaurant_city_name) and not is_city_already(restaurant_city_name):\n",
    "        graph.add((restaurant_city_instance, RDF.type, city_class))\n",
    "        graph.add((restaurant_instance, located_in_city_object_property, restaurant_city_instance))\n",
    "        graph.add((restaurant_address, located_in_city_object_property, restaurant_city_instance))\n",
    "    if not is_city_already(restaurant_state_name) and not is_state_already(restaurant_state_name):\n",
    "        graph.add((restaurant_state_instance, RDF.type, state_class))\n",
    "        graph.add((restaurant_state_instance, located_in_country_object_property, restaurant_country_instance))\n",
    "\n",
    "    graph.add((restaurant_city_instance, located_in_state_object_property, restaurant_state_instance))\n",
    "    graph.add((restaurant_country_instance, RDF.type, country_class))\n",
    "    graph.add((restaurant_instance, located_in_address_object_property, restaurant_address))\n",
    "\n",
    "    # add categories to restaurant\n",
    "    found_restaurant_type = False\n",
    "    for restaurant_type in restaurant_types:\n",
    "        if restaurant_type in row[\"categories\"]:\n",
    "            found_restaurant_type = True\n",
    "            restaurant_type = string_to_upper_camel_case(restaurant_type)\n",
    "            restaurant_type_class = URIRef(cw_namespace + restaurant_type)\n",
    "            graph.add((restaurant_instance, RDF.type, restaurant_type_class))\n",
    "\n",
    "    # add restaurant type\n",
    "    if not found_restaurant_type:\n",
    "        graph.add((restaurant_instance, RDF.type, restaurant_class))\n",
    "\n",
    "    graph.add((restaurant_instance, serves_menu_item_object_property, menu_item))\n",
    "    graph.add((menu_item, served_in_restaurant_object_property, restaurant_instance))\n",
    "\n",
    "print(f\"Added {len(graph) - previous_graph_length} triples.\")"
   ],
   "metadata": {
    "collapsed": false,
    "ExecuteTime": {
     "start_time": "2023-05-12T12:04:08.974193Z",
     "end_time": "2023-05-12T12:06:55.213469Z"
    }
   }
  },
  {
   "cell_type": "markdown",
   "source": [
    "idea 1: add city not in type\n",
    "idea 2: add dbo:AdministrativeRegion"
   ],
   "metadata": {
    "collapsed": false
   }
  },
  {
   "cell_type": "code",
   "execution_count": 202,
   "outputs": [],
   "source": [
    "FILENAME = \"swtkg_final_cw\"\n",
    "graph.serialize(destination=FILENAME + \".ttl\", format=\"ttl\")"
   ],
   "metadata": {
    "collapsed": false,
    "ExecuteTime": {
     "start_time": "2023-05-12T12:06:55.218428Z",
     "end_time": "2023-05-12T12:06:56.105696Z"
    }
   }
  },
  {
   "cell_type": "code",
   "execution_count": 203,
   "outputs": [
    {
     "name": "stdout",
     "output_type": "stream",
     "text": [
      "The graph contains 6170 triples.\n"
     ]
    }
   ],
   "source": [
    "print(\"The graph contains {} triples.\".format(len(graph)))\n"
   ],
   "metadata": {
    "collapsed": false,
    "ExecuteTime": {
     "start_time": "2023-05-12T12:06:56.107695Z",
     "end_time": "2023-05-12T12:06:56.120710Z"
    }
   }
  },
  {
   "cell_type": "markdown",
   "source": [
    "#### Subtask RDF.3:\n",
    "Perform reasoning with cw_onto and the generated RDF data. Save the extended graph in turtle format (.ttl)(10%).\n",
    "Tip: When reasoning with data, using OWL 2 reasoning is expensive. Using an approximate reasoner is typically more suitable (e.g., for OWL 2 RL)"
   ],
   "metadata": {
    "collapsed": false
   }
  },
  {
   "cell_type": "code",
   "execution_count": 204,
   "outputs": [
    {
     "name": "stdout",
     "output_type": "stream",
     "text": [
      "Loaded '6170' triples.\n",
      "Rules after inference: '35523' triples.\n",
      "Saving extended graph\n"
     ]
    }
   ],
   "source": [
    "# function taken from lab 6 solution\n",
    "def check_entailment(graph, triple):\n",
    "    qres = graph.query(\n",
    "        \"\"\"ASK {\"\"\" + triple + \"\"\" }\"\"\")\n",
    "\n",
    "    #Single row with one boolean vale\n",
    "    for row in qres:\n",
    "        print(\"Does '\" + triple + \"' hold? \" + str(row))\n",
    "\n",
    "\n",
    "graph_extended = Graph()\n",
    "graph_extended.parse(FILENAME + \".ttl\", format=\"ttl\")\n",
    "\n",
    "print(\"Loaded '\" + str(len(graph_extended)) + \"' triples.\")\n",
    "\n",
    "owlrl.DeductiveClosure(owlrl.OWLRL_Semantics, axiomatic_triples=True, datatype_axioms=False).expand(graph_extended)\n",
    "\n",
    "print(\"Rules after inference: '\" + str(len(graph_extended)) + \"' triples.\")\n",
    "\n",
    "print(\"Saving extended graph\")\n",
    "graph_extended.serialize(destination=FILENAME + '-extended.ttl', format='ttl')"
   ],
   "metadata": {
    "collapsed": false,
    "ExecuteTime": {
     "start_time": "2023-05-12T12:06:56.126689Z",
     "end_time": "2023-05-12T12:07:39.288472Z"
    }
   }
  },
  {
   "cell_type": "code",
   "execution_count": 205,
   "outputs": [
    {
     "name": "stdout",
     "output_type": "stream",
     "text": [
      "Does 'cw:margherita_flat_bread_pizza_at_art_cafe_bethlehem rdf:type cw:MenuItem .' hold? True\n",
      "Does 'cw:pizza_marinara_at_euro_pizzeria_white_plains rdf:type cw:PizzaMarinara .' hold? True\n",
      "Does 'cw:buffalo_chicken_pizza_at_franks_pizzeria_omaha cw:servedInRestaurant cw:franks_pizzeria_omaha .' hold? True\n"
     ]
    }
   ],
   "source": [
    "triple1 = \"cw:margherita_flat_bread_pizza_at_art_cafe_bethlehem rdf:type cw:MenuItem .\"\n",
    "triple2 = \"cw:pizza_marinara_at_euro_pizzeria_white_plains rdf:type cw:PizzaMarinara .\"\n",
    "triple3 = \"cw:buffalo_chicken_pizza_at_franks_pizzeria_omaha cw:servedInRestaurant cw:franks_pizzeria_omaha .\"\n",
    "\n",
    "check_entailment(graph_extended, triple1)\n",
    "check_entailment(graph_extended, triple2)\n",
    "check_entailment(graph_extended, triple3)"
   ],
   "metadata": {
    "collapsed": false,
    "ExecuteTime": {
     "start_time": "2023-05-12T12:07:39.292468Z",
     "end_time": "2023-05-12T12:07:39.357476Z"
    }
   }
  },
  {
   "cell_type": "markdown",
   "source": [
    "#### Subtask RDF.5 (Optional)\n",
    "Exploit an external Knowledge Graph to perform disambiguation (e.g., same city name in multiple states) and solve errors in the data (e.g., wrong state names). (extra 15%)"
   ],
   "metadata": {
    "collapsed": false
   }
  },
  {
   "cell_type": "markdown",
   "source": [
    "# SparQL and Reasoning"
   ],
   "metadata": {
    "collapsed": false
   }
  },
  {
   "cell_type": "markdown",
   "source": [
    "## Subtask SPARQL.1\n",
    "\n",
    "Create a query with at least a triple pattern and a FILTER."
   ],
   "metadata": {
    "collapsed": false
   }
  },
  {
   "cell_type": "code",
   "execution_count": 206,
   "outputs": [
    {
     "name": "stdout",
     "output_type": "stream",
     "text": [
      "(rdflib.term.URIRef('http://www.semanticweb.org/city/in3067-inm713/2023/restaurants#mediterranean_pizza_at_original_giorgios_cockeysville'),)\n",
      "(rdflib.term.URIRef('http://www.semanticweb.org/city/in3067-inm713/2023/restaurants#veggie_lovers_pizza_at_original_giorgios_cockeysville'),)\n",
      "(rdflib.term.URIRef('http://www.semanticweb.org/city/in3067-inm713/2023/restaurants#veggie_pizza_at_hungry_howies_pizza_chandler'),)\n",
      "(rdflib.term.URIRef('http://www.semanticweb.org/city/in3067-inm713/2023/restaurants#pizza_sub_at_blockbuster_gainesville'),)\n",
      "(rdflib.term.URIRef('http://www.semanticweb.org/city/in3067-inm713/2023/restaurants#captain_jean_pizza_at_pirates_cove_mount_vernon'),)\n",
      "(rdflib.term.URIRef('http://www.semanticweb.org/city/in3067-inm713/2023/restaurants#to_the_price_of_any_pizza_at_lake_bowl_inc_moses_lake'),)\n",
      "(rdflib.term.URIRef('http://www.semanticweb.org/city/in3067-inm713/2023/restaurants#pizza_toppings_at_keyme_kent'),)\n",
      "(rdflib.term.URIRef('http://www.semanticweb.org/city/in3067-inm713/2023/restaurants#white_pizza_at_greeks_pizzeria_indianapolis'),)\n",
      "(rdflib.term.URIRef('http://www.semanticweb.org/city/in3067-inm713/2023/restaurants#white_pizza_at_little_italy_pizza_memphis'),)\n",
      "(rdflib.term.URIRef('http://www.semanticweb.org/city/in3067-inm713/2023/restaurants#hawaiian_pizza_at_steinway_pizza_astoria'),)\n",
      "(rdflib.term.URIRef('http://www.semanticweb.org/city/in3067-inm713/2023/restaurants#garden_pizza_at_spagio_columbus'),)\n",
      "(rdflib.term.URIRef('http://www.semanticweb.org/city/in3067-inm713/2023/restaurants#whole_pizza_at_fazolis_bloomington'),)\n",
      "(rdflib.term.URIRef('http://www.semanticweb.org/city/in3067-inm713/2023/restaurants#round_pizza_by_the_slice_at_rosa_ii_pizzeria__restaurant_middle_village'),)\n",
      "(rdflib.term.URIRef('http://www.semanticweb.org/city/in3067-inm713/2023/restaurants#grilled_chicken_pizza_at_surayas___grill_and_fried_chicken_piscataway'),)\n",
      "(rdflib.term.URIRef('http://www.semanticweb.org/city/in3067-inm713/2023/restaurants#primavera_pizza_at_milanos_pizza_sacramento'),)\n",
      "(rdflib.term.URIRef('http://www.semanticweb.org/city/in3067-inm713/2023/restaurants#californian_pizza_at_original_giorgios_cockeysville'),)\n",
      "(rdflib.term.URIRef('http://www.semanticweb.org/city/in3067-inm713/2023/restaurants#vegan_pizza_at_broad_street_cafe_newark'),)\n",
      "(rdflib.term.URIRef('http://www.semanticweb.org/city/in3067-inm713/2023/restaurants#chocolate_chip_pizza_at_doubledaves_pizza_works_college_station'),)\n",
      "(rdflib.term.URIRef('http://www.semanticweb.org/city/in3067-inm713/2023/restaurants#grandma_pizza_round_or_square_at_steinway_pizza_astoria'),)\n",
      "(rdflib.term.URIRef('http://www.semanticweb.org/city/in3067-inm713/2023/restaurants#shrimp_scampi_pizza_at_tavern_at_the_inn_findlay'),)\n",
      "(rdflib.term.URIRef('http://www.semanticweb.org/city/in3067-inm713/2023/restaurants#chicken_pizza_steak_at_mi_pals_deli_philadelphia'),)\n",
      "(rdflib.term.URIRef('http://www.semanticweb.org/city/in3067-inm713/2023/restaurants#cheese_pizza_at_roadhouse_cafe_hyannis'),)\n",
      "(rdflib.term.URIRef('http://www.semanticweb.org/city/in3067-inm713/2023/restaurants#pepperoni_pizza_pretzel_at_mi_pals_deli_philadelphia'),)\n",
      "(rdflib.term.URIRef('http://www.semanticweb.org/city/in3067-inm713/2023/restaurants#bacon_cheddar_burger_pizza_at_hungry_howies_pizza_chandler'),)\n",
      "(rdflib.term.URIRef('http://www.semanticweb.org/city/in3067-inm713/2023/restaurants#wood_oven_pizza_at_lineage___permanently_closed_brookline'),)\n",
      "(rdflib.term.URIRef('http://www.semanticweb.org/city/in3067-inm713/2023/restaurants#veggie_pizza_on_honey_wheat_dough_at_cristys_pizza_baltimore'),)\n",
      "(rdflib.term.URIRef('http://www.semanticweb.org/city/in3067-inm713/2023/restaurants#man_eater_mike_pizza_at_pirates_cove_mount_vernon'),)\n",
      "(rdflib.term.URIRef('http://www.semanticweb.org/city/in3067-inm713/2023/restaurants#white_pizza_at_original_giorgios_cockeysville'),)\n",
      "(rdflib.term.URIRef('http://www.semanticweb.org/city/in3067-inm713/2023/restaurants#formaggi_pizza_at_gran_morsi_new_york'),)\n",
      "(rdflib.term.URIRef('http://www.semanticweb.org/city/in3067-inm713/2023/restaurants#hawaiian_pizza_at_bravo_pizza_hollywood_los_angeles'),)\n",
      "(rdflib.term.URIRef('http://www.semanticweb.org/city/in3067-inm713/2023/restaurants#white_pizza_at_prima_pizza_essex'),)\n",
      "(rdflib.term.URIRef('http://www.semanticweb.org/city/in3067-inm713/2023/restaurants#pirate_special_pizza_at_pirates_cove_mount_vernon'),)\n",
      "(rdflib.term.URIRef('http://www.semanticweb.org/city/in3067-inm713/2023/restaurants#spicy_meat_pizza_at_mellow_mushroom_pizza_bakers_denver'),)\n",
      "(rdflib.term.URIRef('http://www.semanticweb.org/city/in3067-inm713/2023/restaurants#barbecue_chicken_pizza_at_giovannis_pizza_and_pasta_menifee'),)\n",
      "(rdflib.term.URIRef('http://www.semanticweb.org/city/in3067-inm713/2023/restaurants#pizza_vodka_sauce_at_steinway_pizza_astoria'),)\n",
      "(rdflib.term.URIRef('http://www.semanticweb.org/city/in3067-inm713/2023/restaurants#pizza_or_calzone_at_zpizza_irvine'),)\n",
      "(rdflib.term.URIRef('http://www.semanticweb.org/city/in3067-inm713/2023/restaurants#marinara_pizza_at_nigerian_fusion_pizzeria_london'),)\n",
      "(rdflib.term.URIRef('http://www.semanticweb.org/city/in3067-inm713/2023/restaurants#pizza_at_california_pizza_kitchen_austin'),)\n",
      "(rdflib.term.URIRef('http://www.semanticweb.org/city/in3067-inm713/2023/restaurants#pizza_fries_at_tony_sopranos_pizza_mount_laurel'),)\n",
      "(rdflib.term.URIRef('http://www.semanticweb.org/city/in3067-inm713/2023/restaurants#pepperoni_pizza_at_icon_grill_seattle'),)\n",
      "(rdflib.term.URIRef('http://www.semanticweb.org/city/in3067-inm713/2023/restaurants#pizza_upside_down_at_steinway_pizza_astoria'),)\n",
      "(rdflib.term.URIRef('http://www.semanticweb.org/city/in3067-inm713/2023/restaurants#arugula_pizza_seasonal_at_gran_morsi_new_york'),)\n",
      "(rdflib.term.URIRef('http://www.semanticweb.org/city/in3067-inm713/2023/restaurants#white_pizza_at_joeys_n_y_pizza_henderson'),)\n",
      "(rdflib.term.URIRef('http://www.semanticweb.org/city/in3067-inm713/2023/restaurants#pesto_sauce_pizza_vegetarian_at_the_fire_den_alameda'),)\n",
      "(rdflib.term.URIRef('http://www.semanticweb.org/city/in3067-inm713/2023/restaurants#old_fashion_pizza_at_ninos_trattoria__pizzeria_lawrence_township'),)\n",
      "(rdflib.term.URIRef('http://www.semanticweb.org/city/in3067-inm713/2023/restaurants#half_pizzas_at_uno_pizzeria__grill___sturbridge_sturbridge'),)\n",
      "(rdflib.term.URIRef('http://www.semanticweb.org/city/in3067-inm713/2023/restaurants#cheese_pizza_at_bravo_pizza_hollywood_los_angeles'),)\n",
      "(rdflib.term.URIRef('http://www.semanticweb.org/city/in3067-inm713/2023/restaurants#veggie_combo_pizza_at_abos_pizza_littleton'),)\n",
      "(rdflib.term.URIRef('http://www.semanticweb.org/city/in3067-inm713/2023/restaurants#spicy_tuna_pizza_or_spicy_salmon_pizza_at_kyoto_sushi_flushing'),)\n",
      "(rdflib.term.URIRef('http://www.semanticweb.org/city/in3067-inm713/2023/restaurants#pizza_toppings_at_euro_pizzeria_white_plains'),)\n",
      "(rdflib.term.URIRef('http://www.semanticweb.org/city/in3067-inm713/2023/restaurants#smoked_chicken_barbecue_pizza_at_icon_grill_seattle'),)\n",
      "(rdflib.term.URIRef('http://www.semanticweb.org/city/in3067-inm713/2023/restaurants#cheese_pizza_at_patrick_molloys_sports_pub_hermosa_beach'),)\n",
      "(rdflib.term.URIRef('http://www.semanticweb.org/city/in3067-inm713/2023/restaurants#chicken_parmigiana_pizza_at_ninos_trattoria__pizzeria_lawrence_township'),)\n",
      "(rdflib.term.URIRef('http://www.semanticweb.org/city/in3067-inm713/2023/restaurants#pepperoni_pizza_steak_at_milanos_pizza_sacramento'),)\n",
      "(rdflib.term.URIRef('http://www.semanticweb.org/city/in3067-inm713/2023/restaurants#bronx_bomber_pizza_at_gran_morsi_new_york'),)\n",
      "(rdflib.term.URIRef('http://www.semanticweb.org/city/in3067-inm713/2023/restaurants#veggie_supreme_pizza_at_abos_pizza_littleton'),)\n",
      "(rdflib.term.URIRef('http://www.semanticweb.org/city/in3067-inm713/2023/restaurants#pepperoni_pizza_at_burgers__cupcakes_new_york'),)\n",
      "(rdflib.term.URIRef('http://www.semanticweb.org/city/in3067-inm713/2023/restaurants#cheese_pizza_at_patsys_pizzeria_new_york'),)\n",
      "(rdflib.term.URIRef('http://www.semanticweb.org/city/in3067-inm713/2023/restaurants#loaded_steak_pizza_at_kennebunk_house_of_pizza_kennebunk'),)\n",
      "(rdflib.term.URIRef('http://www.semanticweb.org/city/in3067-inm713/2023/restaurants#toscana_pizza_at_burgers__cupcakes_new_york'),)\n",
      "(rdflib.term.URIRef('http://www.semanticweb.org/city/in3067-inm713/2023/restaurants#pizza_fries_at_mi_pals_deli_philadelphia'),)\n",
      "(rdflib.term.URIRef('http://www.semanticweb.org/city/in3067-inm713/2023/restaurants#great_tasting_cheese_pizza_at_copelands_cheescake_bistro_new_orleans'),)\n",
      "(rdflib.term.URIRef('http://www.semanticweb.org/city/in3067-inm713/2023/restaurants#chicken_wing_pizza_at_ninos_trattoria__pizzeria_lawrence_township'),)\n",
      "(rdflib.term.URIRef('http://www.semanticweb.org/city/in3067-inm713/2023/restaurants#cheese_pizza_at_foxs_pizza_den_lafayette'),)\n",
      "(rdflib.term.URIRef('http://www.semanticweb.org/city/in3067-inm713/2023/restaurants#sicilian_pizza_at_original_giorgios_cockeysville'),)\n",
      "(rdflib.term.URIRef('http://www.semanticweb.org/city/in3067-inm713/2023/restaurants#sicilian_style_pizza_at_milanos_pizza_sacramento'),)\n",
      "(rdflib.term.URIRef('http://www.semanticweb.org/city/in3067-inm713/2023/restaurants#margherita_pizza_at_burgers__cupcakes_new_york'),)\n",
      "(rdflib.term.URIRef('http://www.semanticweb.org/city/in3067-inm713/2023/restaurants#vegan_margherita_pizza_at_johns_of_12th_street_new_york'),)\n",
      "(rdflib.term.URIRef('http://www.semanticweb.org/city/in3067-inm713/2023/restaurants#gluten_free_pepperoni_thin_crust_pizza_at_uno_pizzeria__grill_burlington'),)\n",
      "(rdflib.term.URIRef('http://www.semanticweb.org/city/in3067-inm713/2023/restaurants#pizza_pretzel_at_mi_pals_deli_philadelphia'),)\n",
      "(rdflib.term.URIRef('http://www.semanticweb.org/city/in3067-inm713/2023/restaurants#1_topping_pizza_at_bosses_pizza___keller_keller'),)\n",
      "(rdflib.term.URIRef('http://www.semanticweb.org/city/in3067-inm713/2023/restaurants#pizza_dough_flats_at_glutenfree_things_arvada'),)\n",
      "(rdflib.term.URIRef('http://www.semanticweb.org/city/in3067-inm713/2023/restaurants#spicy_buffalo_pizza_at_pizza_bistro_massapequa_park'),)\n",
      "(rdflib.term.URIRef('http://www.semanticweb.org/city/in3067-inm713/2023/restaurants#taco_pizza_at_russos_pizza_wyoming'),)\n",
      "(rdflib.term.URIRef('http://www.semanticweb.org/city/in3067-inm713/2023/restaurants#dessert_pizza_at_austins_pizza_austin'),)\n",
      "(rdflib.term.URIRef('http://www.semanticweb.org/city/in3067-inm713/2023/restaurants#napolitana_pizza_at_burgers__cupcakes_new_york'),)\n",
      "(rdflib.term.URIRef('http://www.semanticweb.org/city/in3067-inm713/2023/restaurants#deluxe_pizza_at_antonios_pizza_chatham'),)\n",
      "(rdflib.term.URIRef('http://www.semanticweb.org/city/in3067-inm713/2023/restaurants#truffled_egg_pizza_at_the_hamilton_inn_hoboken'),)\n",
      "(rdflib.term.URIRef('http://www.semanticweb.org/city/in3067-inm713/2023/restaurants#pizza_bagel_with_mushroom_at_country_bagel_bakery_west_chester'),)\n",
      "(rdflib.term.URIRef('http://www.semanticweb.org/city/in3067-inm713/2023/restaurants#the_white_pizza_at_austins_pizza_austin'),)\n",
      "(rdflib.term.URIRef('http://www.semanticweb.org/city/in3067-inm713/2023/restaurants#create_your_own_pizza_at_luckys_pub_houston'),)\n",
      "(rdflib.term.URIRef('http://www.semanticweb.org/city/in3067-inm713/2023/restaurants#garden_pizza_at_joeys_n_y_pizza_henderson'),)\n",
      "(rdflib.term.URIRef('http://www.semanticweb.org/city/in3067-inm713/2023/restaurants#homemade_mexican_pizza_at_mexican_gardens_southgate'),)\n",
      "(rdflib.term.URIRef('http://www.semanticweb.org/city/in3067-inm713/2023/restaurants#regular_chicken_pizza_at_steinway_pizza_astoria'),)\n",
      "(rdflib.term.URIRef('http://www.semanticweb.org/city/in3067-inm713/2023/restaurants#pepperoni_pizza_at_zios_italian_kitchen___olathe_olathe'),)\n",
      "(rdflib.term.URIRef('http://www.semanticweb.org/city/in3067-inm713/2023/restaurants#pizza_combo_at_west_river_cafe_providence'),)\n",
      "(rdflib.term.URIRef('http://www.semanticweb.org/city/in3067-inm713/2023/restaurants#veggie_pizza_at_milanos_pizza_sacramento'),)\n",
      "(rdflib.term.URIRef('http://www.semanticweb.org/city/in3067-inm713/2023/restaurants#chicken_parmesan_pizza_at_town_pub_bloomfield'),)\n",
      "(rdflib.term.URIRef('http://www.semanticweb.org/city/in3067-inm713/2023/restaurants#artichoke_and_sweet_potato_pizza_at_walnut_grille_newton_highlands'),)\n",
      "(rdflib.term.URIRef('http://www.semanticweb.org/city/in3067-inm713/2023/restaurants#white_pizza_at_oh_brians_on_the_green_clark'),)\n",
      "(rdflib.term.URIRef('http://www.semanticweb.org/city/in3067-inm713/2023/restaurants#blast_furnace_pizza_at_rivertowne_north_shore_pittsburgh'),)\n",
      "(rdflib.term.URIRef('http://www.semanticweb.org/city/in3067-inm713/2023/restaurants#gluten_free_cheese_tomato_thin_crust_pizza_at_uno_pizzeria__grill_burlington'),)\n",
      "(rdflib.term.URIRef('http://www.semanticweb.org/city/in3067-inm713/2023/restaurants#pizza_fries_at_prima_pizza_essex'),)\n",
      "(rdflib.term.URIRef('http://www.semanticweb.org/city/in3067-inm713/2023/restaurants#pizza_at_booies_pizza_erie'),)\n",
      "(rdflib.term.URIRef('http://www.semanticweb.org/city/in3067-inm713/2023/restaurants#white_pizza_at_ninos_trattoria__pizzeria_lawrence_township'),)\n",
      "(rdflib.term.URIRef('http://www.semanticweb.org/city/in3067-inm713/2023/restaurants#white_pizza_at_california_pizza_kitchen_austin'),)\n",
      "(rdflib.term.URIRef('http://www.semanticweb.org/city/in3067-inm713/2023/restaurants#pesto_chicken_pizza_at_the_fire_den_alameda'),)\n",
      "(rdflib.term.URIRef('http://www.semanticweb.org/city/in3067-inm713/2023/restaurants#combination_pizza_at_the_fire_den_alameda'),)\n",
      "(rdflib.term.URIRef('http://www.semanticweb.org/city/in3067-inm713/2023/restaurants#blt_or_pizza_sub_at_brandos_pizza_buffalo'),)\n",
      "(rdflib.term.URIRef('http://www.semanticweb.org/city/in3067-inm713/2023/restaurants#veggie_pizza_at_bravo_pizza_hollywood_los_angeles'),)\n",
      "(rdflib.term.URIRef('http://www.semanticweb.org/city/in3067-inm713/2023/restaurants#breakfast_pizza_at_giovannis_pizza_and_pasta_menifee'),)\n",
      "(rdflib.term.URIRef('http://www.semanticweb.org/city/in3067-inm713/2023/restaurants#greek_pizza_at_antonios_pizza_chatham'),)\n",
      "(rdflib.term.URIRef('http://www.semanticweb.org/city/in3067-inm713/2023/restaurants#pizza_fries_at_prince_pizza_redford'),)\n",
      "(rdflib.term.URIRef('http://www.semanticweb.org/city/in3067-inm713/2023/restaurants#meat_lover_pizza_at_bravo_pizza_hollywood_los_angeles'),)\n",
      "(rdflib.term.URIRef('http://www.semanticweb.org/city/in3067-inm713/2023/restaurants#rollatini_pizza_at_tomato__basil_fairfield'),)\n",
      "(rdflib.term.URIRef('http://www.semanticweb.org/city/in3067-inm713/2023/restaurants#steak_pizza_at_prima_pizza_essex'),)\n",
      "(rdflib.term.URIRef('http://www.semanticweb.org/city/in3067-inm713/2023/restaurants#meat_lover_pizza_at_alex_german_pizzeria_london'),)\n",
      "(rdflib.term.URIRef('http://www.semanticweb.org/city/in3067-inm713/2023/restaurants#pesto_chicken_pizza_at_giovannis_pizza_and_pasta_menifee'),)\n",
      "(rdflib.term.URIRef('http://www.semanticweb.org/city/in3067-inm713/2023/restaurants#vegetable_pizza_at_surayas___grill_and_fried_chicken_piscataway'),)\n",
      "(rdflib.term.URIRef('http://www.semanticweb.org/city/in3067-inm713/2023/restaurants#barbecue_chicken_pizza_at_zios_italian_kitchen___olathe_olathe'),)\n",
      "(rdflib.term.URIRef('http://www.semanticweb.org/city/in3067-inm713/2023/restaurants#margherita_pizza_at_joeys_n_y_pizza_henderson'),)\n",
      "(rdflib.term.URIRef('http://www.semanticweb.org/city/in3067-inm713/2023/restaurants#barbecue_chicken_pizza_at_original_giorgios_cockeysville'),)\n",
      "(rdflib.term.URIRef('http://www.semanticweb.org/city/in3067-inm713/2023/restaurants#personal_pizza_at_town_pub_bloomfield'),)\n",
      "(rdflib.term.URIRef('http://www.semanticweb.org/city/in3067-inm713/2023/restaurants#pizza_salami_piccante_at_the_brentwood_los_angeles'),)\n",
      "(rdflib.term.URIRef('http://www.semanticweb.org/city/in3067-inm713/2023/restaurants#pizza_steak_at_baglianis_food_market_hammonton'),)\n",
      "(rdflib.term.URIRef('http://www.semanticweb.org/city/in3067-inm713/2023/restaurants#rancher_pizza_at_ninos_trattoria__pizzeria_lawrence_township'),)\n",
      "(rdflib.term.URIRef('http://www.semanticweb.org/city/in3067-inm713/2023/restaurants#river_town_pizza_at_rivertowne_north_shore_pittsburgh'),)\n",
      "(rdflib.term.URIRef('http://www.semanticweb.org/city/in3067-inm713/2023/restaurants#southwest_pizza_at_giovannis_pizza_and_pasta_menifee'),)\n",
      "(rdflib.term.URIRef('http://www.semanticweb.org/city/in3067-inm713/2023/restaurants#gyro_pizza_at_atheneos_greek_village_cafe_mesquite'),)\n",
      "(rdflib.term.URIRef('http://www.semanticweb.org/city/in3067-inm713/2023/restaurants#gourmet_chicken_ranch_pizza_at_greeks_pizzeria_indianapolis'),)\n",
      "(rdflib.term.URIRef('http://www.semanticweb.org/city/in3067-inm713/2023/restaurants#fire_den_supreme_pizza_at_the_fire_den_alameda'),)\n",
      "(rdflib.term.URIRef('http://www.semanticweb.org/city/in3067-inm713/2023/restaurants#vodka_sauce_pizza_at_town_pub_bloomfield'),)\n",
      "(rdflib.term.URIRef('http://www.semanticweb.org/city/in3067-inm713/2023/restaurants#pizza_roll_at_china_kitchen_denver'),)\n",
      "(rdflib.term.URIRef('http://www.semanticweb.org/city/in3067-inm713/2023/restaurants#hog_pizza_at_pirates_cove_mount_vernon'),)\n",
      "(rdflib.term.URIRef('http://www.semanticweb.org/city/in3067-inm713/2023/restaurants#pizza_roll_at_supreme_roast_beef__sea_food_danvers'),)\n",
      "(rdflib.term.URIRef('http://www.semanticweb.org/city/in3067-inm713/2023/restaurants#meat_lover_pizza_at_abos_pizza_littleton'),)\n",
      "(rdflib.term.URIRef('http://www.semanticweb.org/city/in3067-inm713/2023/restaurants#cheese_pizza_at_doubledaves_pizzaworks_cedar_park'),)\n",
      "(rdflib.term.URIRef('http://www.semanticweb.org/city/in3067-inm713/2023/restaurants#pizza_bagel_plain_at_country_bagel_bakery_west_chester'),)\n",
      "(rdflib.term.URIRef('http://www.semanticweb.org/city/in3067-inm713/2023/restaurants#pizza_roll_at_mi_pals_deli_philadelphia'),)\n",
      "(rdflib.term.URIRef('http://www.semanticweb.org/city/in3067-inm713/2023/restaurants#cheese_pizza_at_mellow_mushroom_pizza_bakers_denver'),)\n",
      "(rdflib.term.URIRef('http://www.semanticweb.org/city/in3067-inm713/2023/restaurants#pizza_dough_balls_at_glutenfree_things_arvada'),)\n",
      "(rdflib.term.URIRef('http://www.semanticweb.org/city/in3067-inm713/2023/restaurants#pizzaroni_at_foxs_pizza_den_lafayette'),)\n",
      "(rdflib.term.URIRef('http://www.semanticweb.org/city/in3067-inm713/2023/restaurants#howie_maui_pizza_at_hungry_howies_pizza_chandler'),)\n",
      "(rdflib.term.URIRef('http://www.semanticweb.org/city/in3067-inm713/2023/restaurants#plain_or_pepperoni_pizza_at_rivertowne_north_shore_pittsburgh'),)\n",
      "(rdflib.term.URIRef('http://www.semanticweb.org/city/in3067-inm713/2023/restaurants#hawaiian_pizza_at_riccardos_pizza_saddle_brook'),)\n",
      "(rdflib.term.URIRef('http://www.semanticweb.org/city/in3067-inm713/2023/restaurants#roasted_vegetable_pizza_at_mellow_mushroom_pizza_bakers_denver'),)\n",
      "(rdflib.term.URIRef('http://www.semanticweb.org/city/in3067-inm713/2023/restaurants#chicken_verde_artisan_crust_pizza_at_uno_pizzeria__grill_burlington'),)\n",
      "(rdflib.term.URIRef('http://www.semanticweb.org/city/in3067-inm713/2023/restaurants#greek_pizza_at_original_giorgios_cockeysville'),)\n",
      "(rdflib.term.URIRef('http://www.semanticweb.org/city/in3067-inm713/2023/restaurants#marinara_pizza_at_burgers__cupcakes_new_york'),)\n",
      "(rdflib.term.URIRef('http://www.semanticweb.org/city/in3067-inm713/2023/restaurants#pizza_steak_at_milanos_pizza_sacramento'),)\n",
      "(rdflib.term.URIRef('http://www.semanticweb.org/city/in3067-inm713/2023/restaurants#sausage_onion_jam_pizza_at_brio_tuscan_grille___southlake___southlake_town_square_southlake'),)\n",
      "(rdflib.term.URIRef('http://www.semanticweb.org/city/in3067-inm713/2023/restaurants#margherita_pizza_at_ninos_trattoria__pizzeria_lawrence_township'),)\n",
      "(rdflib.term.URIRef('http://www.semanticweb.org/city/in3067-inm713/2023/restaurants#italian_pizza_at_the_fire_den_alameda'),)\n",
      "(rdflib.term.URIRef('http://www.semanticweb.org/city/in3067-inm713/2023/restaurants#pizza_at_brothers_2_endicott'),)\n",
      "(rdflib.term.URIRef('http://www.semanticweb.org/city/in3067-inm713/2023/restaurants#pizza_margherita_at_nypd_pizza_maitland'),)\n",
      "(rdflib.term.URIRef('http://www.semanticweb.org/city/in3067-inm713/2023/restaurants#cheese_pizzarito_at_casinos_pizza_addison'),)\n",
      "(rdflib.term.URIRef('http://www.semanticweb.org/city/in3067-inm713/2023/restaurants#prosciutto_arugula_artisan_crust_pizza_at_uno_pizzeria__grill_burlington'),)\n",
      "(rdflib.term.URIRef('http://www.semanticweb.org/city/in3067-inm713/2023/restaurants#pizza_skins_at_uno_pizzeria__grill___sturbridge_sturbridge'),)\n",
      "(rdflib.term.URIRef('http://www.semanticweb.org/city/in3067-inm713/2023/restaurants#pizza_mushroom_at_the_brentwood_los_angeles'),)\n",
      "(rdflib.term.URIRef('http://www.semanticweb.org/city/in3067-inm713/2023/restaurants#las_pizzas_del_fuego_at_austins_pizza_austin'),)\n",
      "(rdflib.term.URIRef('http://www.semanticweb.org/city/in3067-inm713/2023/restaurants#white_pizza_at_franks_pizzeria_omaha'),)\n",
      "(rdflib.term.URIRef('http://www.semanticweb.org/city/in3067-inm713/2023/restaurants#tuna_pizza_at_hunan_gourmet_englishtown'),)\n",
      "(rdflib.term.URIRef('http://www.semanticweb.org/city/in3067-inm713/2023/restaurants#caeser_sald_pizza_at_steinway_pizza_astoria'),)\n",
      "(rdflib.term.URIRef('http://www.semanticweb.org/city/in3067-inm713/2023/restaurants#autumn_pizza_seasonal_at_gran_morsi_new_york'),)\n",
      "(rdflib.term.URIRef('http://www.semanticweb.org/city/in3067-inm713/2023/restaurants#cheesesteak_pizza_at_riccardos_pizza_saddle_brook'),)\n",
      "(rdflib.term.URIRef('http://www.semanticweb.org/city/in3067-inm713/2023/restaurants#pizza_fries_at_original_giorgios_cockeysville'),)\n",
      "(rdflib.term.URIRef('http://www.semanticweb.org/city/in3067-inm713/2023/restaurants#white_pizza_at_antonios_pizza_chatham'),)\n",
      "(rdflib.term.URIRef('http://www.semanticweb.org/city/in3067-inm713/2023/restaurants#greek_pizza_at_pirates_cove_mount_vernon'),)\n",
      "(rdflib.term.URIRef('http://www.semanticweb.org/city/in3067-inm713/2023/restaurants#thin_crust_margherita_pizza_at_grassfields_bar__grill_danvers'),)\n",
      "(rdflib.term.URIRef('http://www.semanticweb.org/city/in3067-inm713/2023/restaurants#sushi_pizza_at_midori_japanese_restaurant_denville'),)\n",
      "(rdflib.term.URIRef('http://www.semanticweb.org/city/in3067-inm713/2023/restaurants#artichoke_chicken_pizza_at_zios_italian_kitchen___olathe_olathe'),)\n",
      "(rdflib.term.URIRef('http://www.semanticweb.org/city/in3067-inm713/2023/restaurants#sorrentino_pizza_at_euro_pizzeria_white_plains'),)\n",
      "(rdflib.term.URIRef('http://www.semanticweb.org/city/in3067-inm713/2023/restaurants#pizza_sub_at_hungry_howies_pizza_chandler'),)\n",
      "(rdflib.term.URIRef('http://www.semanticweb.org/city/in3067-inm713/2023/restaurants#margherita_flat_bread_pizza_at_art_cafe_bethlehem'),)\n",
      "(rdflib.term.URIRef('http://www.semanticweb.org/city/in3067-inm713/2023/restaurants#small_supreme_pizza_at_bronson_strike_zone_bronson'),)\n",
      "(rdflib.term.URIRef('http://www.semanticweb.org/city/in3067-inm713/2023/restaurants#pizza_burger_at_mi_pals_deli_philadelphia'),)\n",
      "(rdflib.term.URIRef('http://www.semanticweb.org/city/in3067-inm713/2023/restaurants#deluxe_style_pizza_at_milanos_pizza_sacramento'),)\n",
      "(rdflib.term.URIRef('http://www.semanticweb.org/city/in3067-inm713/2023/restaurants#pizza_puttenesca_at_the_brentwood_los_angeles'),)\n",
      "(rdflib.term.URIRef('http://www.semanticweb.org/city/in3067-inm713/2023/restaurants#pizza_special_at_the_fire_den_alameda'),)\n",
      "(rdflib.term.URIRef('http://www.semanticweb.org/city/in3067-inm713/2023/restaurants#capelli_pizza_at_riccardos_pizza_saddle_brook'),)\n",
      "(rdflib.term.URIRef('http://www.semanticweb.org/city/in3067-inm713/2023/restaurants#spinach_pizza_at_euro_pizzeria_white_plains'),)\n",
      "(rdflib.term.URIRef('http://www.semanticweb.org/city/in3067-inm713/2023/restaurants#byo_pizza_at_buon_cibo_hernando'),)\n",
      "(rdflib.term.URIRef('http://www.semanticweb.org/city/in3067-inm713/2023/restaurants#pizza_mexicana_at_peter_piper_pizza_phoenix'),)\n",
      "(rdflib.term.URIRef('http://www.semanticweb.org/city/in3067-inm713/2023/restaurants#arthichoke_heart_chicken_pizza_at_the_fire_den_alameda'),)\n",
      "(rdflib.term.URIRef('http://www.semanticweb.org/city/in3067-inm713/2023/restaurants#nutella_pizza_at_gran_morsi_new_york'),)\n",
      "(rdflib.term.URIRef('http://www.semanticweb.org/city/in3067-inm713/2023/restaurants#supreme_deluxe_pizza_at_antonios_pizza_chatham'),)\n",
      "(rdflib.term.URIRef('http://www.semanticweb.org/city/in3067-inm713/2023/restaurants#hawaiin_pizza_at_giovannis_pizza_and_pasta_menifee'),)\n",
      "(rdflib.term.URIRef('http://www.semanticweb.org/city/in3067-inm713/2023/restaurants#taco_pizza_at_steinway_pizza_astoria'),)\n",
      "(rdflib.term.URIRef('http://www.semanticweb.org/city/in3067-inm713/2023/restaurants#seafood_pizza_at_rivertowne_north_shore_pittsburgh'),)\n",
      "(rdflib.term.URIRef('http://www.semanticweb.org/city/in3067-inm713/2023/restaurants#napoli_artisan_crust_pizza_at_uno_pizzeria__grill_burlington'),)\n",
      "(rdflib.term.URIRef('http://www.semanticweb.org/city/in3067-inm713/2023/restaurants#pizza_bread_at_avellinos_pizza_southaven'),)\n",
      "(rdflib.term.URIRef('http://www.semanticweb.org/city/in3067-inm713/2023/restaurants#large_pepperoni_plus_pizza_at_hungry_howies_pizza_chandler'),)\n",
      "(rdflib.term.URIRef('http://www.semanticweb.org/city/in3067-inm713/2023/restaurants#mexico_city_grill_pizza_at_greeks_pizzeria_indianapolis'),)\n",
      "(rdflib.term.URIRef('http://www.semanticweb.org/city/in3067-inm713/2023/restaurants#cove_taco_pizza_at_pirates_cove_mount_vernon'),)\n",
      "(rdflib.term.URIRef('http://www.semanticweb.org/city/in3067-inm713/2023/restaurants#caprese_pizza_at_d_vino_italian_food_and_wine_bar___monte_carlo_las_vegas'),)\n",
      "(rdflib.term.URIRef('http://www.semanticweb.org/city/in3067-inm713/2023/restaurants#reuben_pizza_at_rivertowne_north_shore_pittsburgh'),)\n",
      "(rdflib.term.URIRef('http://www.semanticweb.org/city/in3067-inm713/2023/restaurants#mexican_pizza_at_la_hacienda_americus'),)\n",
      "(rdflib.term.URIRef('http://www.semanticweb.org/city/in3067-inm713/2023/restaurants#supreme_combo_pizza_at_abos_pizza_littleton'),)\n",
      "(rdflib.term.URIRef('http://www.semanticweb.org/city/in3067-inm713/2023/restaurants#philly_cheesesteak_pizza_at_hungry_howies_pizza_chandler'),)\n",
      "(rdflib.term.URIRef('http://www.semanticweb.org/city/in3067-inm713/2023/restaurants#pizza_steak_at_carluccios_philadelphia'),)\n",
      "(rdflib.term.URIRef('http://www.semanticweb.org/city/in3067-inm713/2023/restaurants#pizza_special_at_ralphs_grocery_deli_seattle'),)\n",
      "(rdflib.term.URIRef('http://www.semanticweb.org/city/in3067-inm713/2023/restaurants#pizza_sub_deluxe_at_hungry_howies_pizza_chandler'),)\n",
      "(rdflib.term.URIRef('http://www.semanticweb.org/city/in3067-inm713/2023/restaurants#pizza_logs_at_brandos_pizza_buffalo'),)\n",
      "(rdflib.term.URIRef('http://www.semanticweb.org/city/in3067-inm713/2023/restaurants#marinara_pizza_at_johns_of_12th_street_new_york'),)\n",
      "(rdflib.term.URIRef('http://www.semanticweb.org/city/in3067-inm713/2023/restaurants#romana_pizza_at_burgers__cupcakes_new_york'),)\n",
      "(rdflib.term.URIRef('http://www.semanticweb.org/city/in3067-inm713/2023/restaurants#pizza_bianca_at_broad_street_cafe_newark'),)\n",
      "(rdflib.term.URIRef('http://www.semanticweb.org/city/in3067-inm713/2023/restaurants#the_reuben_pizza_at_oh_brians_on_the_green_clark'),)\n",
      "(rdflib.term.URIRef('http://www.semanticweb.org/city/in3067-inm713/2023/restaurants#caprese_pizza_at_steinway_pizza_astoria'),)\n",
      "(rdflib.term.URIRef('http://www.semanticweb.org/city/in3067-inm713/2023/restaurants#cheese_pizza_at_doubledaves_pizza_works_college_station'),)\n",
      "(rdflib.term.URIRef('http://www.semanticweb.org/city/in3067-inm713/2023/restaurants#2_toppings_pizza_at_bosses_pizza___keller_keller'),)\n",
      "(rdflib.term.URIRef('http://www.semanticweb.org/city/in3067-inm713/2023/restaurants#piranha_pizza_at_rivertowne_north_shore_pittsburgh'),)\n",
      "(rdflib.term.URIRef('http://www.semanticweb.org/city/in3067-inm713/2023/restaurants#pizza_skins_at_uno_pizzeria__grill_burlington'),)\n",
      "(rdflib.term.URIRef('http://www.semanticweb.org/city/in3067-inm713/2023/restaurants#pizza_slice_at_fazolis_bloomington'),)\n",
      "(rdflib.term.URIRef('http://www.semanticweb.org/city/in3067-inm713/2023/restaurants#build_your_own_pizza_at_patrick_molloys_sports_pub_hermosa_beach'),)\n",
      "(rdflib.term.URIRef('http://www.semanticweb.org/city/in3067-inm713/2023/restaurants#taco_pizza_at_knollas_pizza_wichita'),)\n",
      "(rdflib.term.URIRef('http://www.semanticweb.org/city/in3067-inm713/2023/restaurants#carne_pizza_at_gran_morsi_new_york'),)\n",
      "(rdflib.term.URIRef('http://www.semanticweb.org/city/in3067-inm713/2023/restaurants#pizza_white_at_steinway_pizza_astoria'),)\n",
      "(rdflib.term.URIRef('http://www.semanticweb.org/city/in3067-inm713/2023/restaurants#margherita_pizza_on_honey_wheat_dough_at_cristys_pizza_baltimore'),)\n",
      "(rdflib.term.URIRef('http://www.semanticweb.org/city/in3067-inm713/2023/restaurants#veggie_or_meat_deluxe_pizza_at_antonios_pizza_chatham'),)\n",
      "(rdflib.term.URIRef('http://www.semanticweb.org/city/in3067-inm713/2023/restaurants#cheese_steak_pizza_at_town_pub_bloomfield'),)\n",
      "(rdflib.term.URIRef('http://www.semanticweb.org/city/in3067-inm713/2023/restaurants#neapolitan_style_pizza_at_salernos_pizza_restaurant_luzerne'),)\n",
      "(rdflib.term.URIRef('http://www.semanticweb.org/city/in3067-inm713/2023/restaurants#bruha_pizza_at_gran_morsi_new_york'),)\n",
      "(rdflib.term.URIRef('http://www.semanticweb.org/city/in3067-inm713/2023/restaurants#cheese_pizza_slice_at_ninos_trattoria__pizzeria_lawrence_township'),)\n",
      "(rdflib.term.URIRef('http://www.semanticweb.org/city/in3067-inm713/2023/restaurants#pepperoni_pizza_at_mellow_mushroom_pizza_bakers_denver'),)\n",
      "(rdflib.term.URIRef('http://www.semanticweb.org/city/in3067-inm713/2023/restaurants#monte_carlo_pizza_white_at_original_giorgios_cockeysville'),)\n",
      "(rdflib.term.URIRef('http://www.semanticweb.org/city/in3067-inm713/2023/restaurants#chocolate_chip_pizza_at_doubledaves_pizzaworks_cedar_park'),)\n",
      "(rdflib.term.URIRef('http://www.semanticweb.org/city/in3067-inm713/2023/restaurants#ohio_river_pizza_at_rivertowne_north_shore_pittsburgh'),)\n",
      "(rdflib.term.URIRef('http://www.semanticweb.org/city/in3067-inm713/2023/restaurants#pizza_at_california_pizza_kitchen_wellington'),)\n",
      "(rdflib.term.URIRef('http://www.semanticweb.org/city/in3067-inm713/2023/restaurants#eggscellent_pizza_white_at_bostons_restaurant__sports_bar_spokane'),)\n",
      "(rdflib.term.URIRef('http://www.semanticweb.org/city/in3067-inm713/2023/restaurants#3_meat_treat_pizza_at_little_caesars_pizza_pasadena'),)\n",
      "(rdflib.term.URIRef('http://www.semanticweb.org/city/in3067-inm713/2023/restaurants#pizza_sub_at_prima_pizza_essex'),)\n",
      "(rdflib.term.URIRef('http://www.semanticweb.org/city/in3067-inm713/2023/restaurants#chicken_club_pizza_at_zios_italian_kitchen___olathe_olathe'),)\n",
      "(rdflib.term.URIRef('http://www.semanticweb.org/city/in3067-inm713/2023/restaurants#pizza_at_phillys_subs_wausau'),)\n",
      "(rdflib.term.URIRef('http://www.semanticweb.org/city/in3067-inm713/2023/restaurants#moped_pizza_at_cafe_veloce_kirkland'),)\n",
      "(rdflib.term.URIRef('http://www.semanticweb.org/city/in3067-inm713/2023/restaurants#small_pepperoni_or_cheese_pizza_at_gatehouse_restaurant_pickens'),)\n",
      "(rdflib.term.URIRef('http://www.semanticweb.org/city/in3067-inm713/2023/restaurants#pizza_logs_at_sluggers_sports_bar_erie'),)\n",
      "(rdflib.term.URIRef('http://www.semanticweb.org/city/in3067-inm713/2023/restaurants#tuna_pizza_at_satsuma_wilmington'),)\n",
      "(rdflib.term.URIRef('http://www.semanticweb.org/city/in3067-inm713/2023/restaurants#cheese_pizza_at_pirates_cove_mount_vernon'),)\n",
      "(rdflib.term.URIRef('http://www.semanticweb.org/city/in3067-inm713/2023/restaurants#pizza_mia_at_zios_italian_kitchen___olathe_olathe'),)\n",
      "(rdflib.term.URIRef('http://www.semanticweb.org/city/in3067-inm713/2023/restaurants#old_fashion_tomato_pizza_at_ninos_trattoria__pizzeria_lawrence_township'),)\n",
      "(rdflib.term.URIRef('http://www.semanticweb.org/city/in3067-inm713/2023/restaurants#mini_cheese_and_tomato_deep_dish_pizza_at_uno_pizzeria__grill___sturbridge_sturbridge'),)\n",
      "(rdflib.term.URIRef('http://www.semanticweb.org/city/in3067-inm713/2023/restaurants#pizza_steak_at_original_giorgios_cockeysville'),)\n",
      "(rdflib.term.URIRef('http://www.semanticweb.org/city/in3067-inm713/2023/restaurants#small_cheese_pizza_at_bronson_strike_zone_bronson'),)\n",
      "(rdflib.term.URIRef('http://www.semanticweb.org/city/in3067-inm713/2023/restaurants#caprese_pizza_at_euro_pizzeria_white_plains'),)\n",
      "(rdflib.term.URIRef('http://www.semanticweb.org/city/in3067-inm713/2023/restaurants#deep_dish_pizza_at_little_caesars_pizza_pasadena'),)\n",
      "(rdflib.term.URIRef('http://www.semanticweb.org/city/in3067-inm713/2023/restaurants#8_corner_pizza_at_jets_pizza_white_lake'),)\n",
      "(rdflib.term.URIRef('http://www.semanticweb.org/city/in3067-inm713/2023/restaurants#pizza_bruschetta_at_tavern_at_the_inn_findlay'),)\n",
      "(rdflib.term.URIRef('http://www.semanticweb.org/city/in3067-inm713/2023/restaurants#barbecue_chicken_pizza_at_icon_grill_seattle'),)\n",
      "(rdflib.term.URIRef('http://www.semanticweb.org/city/in3067-inm713/2023/restaurants#greek_chicken_pizza_at_the_fire_den_alameda'),)\n",
      "(rdflib.term.URIRef('http://www.semanticweb.org/city/in3067-inm713/2023/restaurants#chinese_pizza_at_ming_garden_cocktails_chinese_restaurant_newark'),)\n",
      "(rdflib.term.URIRef('http://www.semanticweb.org/city/in3067-inm713/2023/restaurants#medium_cheese_pizza_at_hungry_howies_pizza_chandler'),)\n",
      "(rdflib.term.URIRef('http://www.semanticweb.org/city/in3067-inm713/2023/restaurants#pizza_margherita_at_francescas_on_chestnut_chicago'),)\n",
      "(rdflib.term.URIRef('http://www.semanticweb.org/city/in3067-inm713/2023/restaurants#pizza_primavera_at_euro_pizzeria_white_plains'),)\n",
      "(rdflib.term.URIRef('http://www.semanticweb.org/city/in3067-inm713/2023/restaurants#pizza_primavera_at_steinway_pizza_astoria'),)\n",
      "(rdflib.term.URIRef('http://www.semanticweb.org/city/in3067-inm713/2023/restaurants#tuscan_fig_and_oyster_mushroom_pizza_at_walnut_grille_newton_highlands'),)\n",
      "(rdflib.term.URIRef('http://www.semanticweb.org/city/in3067-inm713/2023/restaurants#pizza_burger_at_original_giorgios_cockeysville'),)\n",
      "(rdflib.term.URIRef('http://www.semanticweb.org/city/in3067-inm713/2023/restaurants#kids_size_pizza_at_larosas_pizzeria_cincinnati'),)\n",
      "(rdflib.term.URIRef('http://www.semanticweb.org/city/in3067-inm713/2023/restaurants#pizza_dipping_sauce_cup_at_hungry_howies_pizza_chandler'),)\n",
      "(rdflib.term.URIRef('http://www.semanticweb.org/city/in3067-inm713/2023/restaurants#adult_cheese_pizza_at_walnut_grille_newton_highlands'),)\n",
      "(rdflib.term.URIRef('http://www.semanticweb.org/city/in3067-inm713/2023/restaurants#white_pizza_at_euro_pizzeria_white_plains'),)\n",
      "(rdflib.term.URIRef('http://www.semanticweb.org/city/in3067-inm713/2023/restaurants#mexican_pizza_at_rancho_viejo_mexican_grill_hickory'),)\n",
      "(rdflib.term.URIRef('http://www.semanticweb.org/city/in3067-inm713/2023/restaurants#pizza_burger_at_surayas___grill_and_fried_chicken_piscataway'),)\n",
      "(rdflib.term.URIRef('http://www.semanticweb.org/city/in3067-inm713/2023/restaurants#pizza_fries_at_surayas___grill_and_fried_chicken_piscataway'),)\n",
      "(rdflib.term.URIRef('http://www.semanticweb.org/city/in3067-inm713/2023/restaurants#margherita_pizza_at_gran_morsi_new_york'),)\n",
      "(rdflib.term.URIRef('http://www.semanticweb.org/city/in3067-inm713/2023/restaurants#plain_cheese_pizza_at_milanos_pizza_sacramento'),)\n",
      "(rdflib.term.URIRef('http://www.semanticweb.org/city/in3067-inm713/2023/restaurants#pepperoni_pizza_at_roadhouse_cafe_hyannis'),)\n",
      "(rdflib.term.URIRef('http://www.semanticweb.org/city/in3067-inm713/2023/restaurants#pizza_burger_at_carluccios_philadelphia'),)\n",
      "(rdflib.term.URIRef('http://www.semanticweb.org/city/in3067-inm713/2023/restaurants#large_supreme_pizza_at_bronson_strike_zone_bronson'),)\n",
      "(rdflib.term.URIRef('http://www.semanticweb.org/city/in3067-inm713/2023/restaurants#cheese_pizza_at_buon_cibo_hernando'),)\n",
      "(rdflib.term.URIRef('http://www.semanticweb.org/city/in3067-inm713/2023/restaurants#berlin_pizza_at_tavern_at_the_inn_findlay'),)\n",
      "(rdflib.term.URIRef('http://www.semanticweb.org/city/in3067-inm713/2023/restaurants#thai_chicken_pizza_at_giovannis_pizza_and_pasta_menifee'),)\n",
      "(rdflib.term.URIRef('http://www.semanticweb.org/city/in3067-inm713/2023/restaurants#carne_pizza_at_milanos_pizza_sacramento'),)\n",
      "(rdflib.term.URIRef('http://www.semanticweb.org/city/in3067-inm713/2023/restaurants#flatbread_pizza_of_the_day_at_diolis_italian_market_winston_salem'),)\n",
      "(rdflib.term.URIRef('http://www.semanticweb.org/city/in3067-inm713/2023/restaurants#kids_size_pizza_at_larosas_pizzeria_loveland'),)\n",
      "(rdflib.term.URIRef('http://www.semanticweb.org/city/in3067-inm713/2023/restaurants#pepperoni_chicken_pizza_steak_at_mi_pals_deli_philadelphia'),)\n",
      "(rdflib.term.URIRef('http://www.semanticweb.org/city/in3067-inm713/2023/restaurants#mexican_pizza_dip_at_brigham_young_university_provo'),)\n",
      "(rdflib.term.URIRef('http://www.semanticweb.org/city/in3067-inm713/2023/restaurants#baked_ziti_pizza_at_riccardos_pizza_saddle_brook'),)\n",
      "(rdflib.term.URIRef('http://www.semanticweb.org/city/in3067-inm713/2023/restaurants#pizza_fries_at_ninos_trattoria__pizzeria_lawrence_township'),)\n",
      "(rdflib.term.URIRef('http://www.semanticweb.org/city/in3067-inm713/2023/restaurants#california_pizza_at_zios_italian_kitchen___olathe_olathe'),)\n",
      "(rdflib.term.URIRef('http://www.semanticweb.org/city/in3067-inm713/2023/restaurants#grandma_pizza_at_riccardos_pizza_saddle_brook'),)\n",
      "(rdflib.term.URIRef('http://www.semanticweb.org/city/in3067-inm713/2023/restaurants#jones_street_pizza_at_rivertowne_north_shore_pittsburgh'),)\n",
      "(rdflib.term.URIRef('http://www.semanticweb.org/city/in3067-inm713/2023/restaurants#cheese_pizza_at_oceano_bistro___clayton_saint_louis'),)\n",
      "(rdflib.term.URIRef('http://www.semanticweb.org/city/in3067-inm713/2023/restaurants#cadillac_pizza_at_giovannis_pizza_and_pasta_menifee'),)\n",
      "(rdflib.term.URIRef('http://www.semanticweb.org/city/in3067-inm713/2023/restaurants#pizza_sandwich_at_potbelly_sandwich_shop_chicago'),)\n",
      "(rdflib.term.URIRef('http://www.semanticweb.org/city/in3067-inm713/2023/restaurants#dark_hollow_pizza_at_rivertowne_north_shore_pittsburgh'),)\n",
      "(rdflib.term.URIRef('http://www.semanticweb.org/city/in3067-inm713/2023/restaurants#original_herb_cheese_pizza_points_at_copelands_cheescake_bistro_new_orleans'),)\n",
      "(rdflib.term.URIRef('http://www.semanticweb.org/city/in3067-inm713/2023/restaurants#margherita_pizza_at_original_giorgios_cockeysville'),)\n",
      "(rdflib.term.URIRef('http://www.semanticweb.org/city/in3067-inm713/2023/restaurants#hawaiian_pizza_at_the_fire_den_alameda'),)\n",
      "(rdflib.term.URIRef('http://www.semanticweb.org/city/in3067-inm713/2023/restaurants#cheese_pizza_at_pie_in_the_sky_saint_albans'),)\n",
      "(rdflib.term.URIRef('http://www.semanticweb.org/city/in3067-inm713/2023/restaurants#spinach_artichoke_pizza_at_icon_grill_seattle'),)\n",
      "(rdflib.term.URIRef('http://www.semanticweb.org/city/in3067-inm713/2023/restaurants#gourmet_meat_pizzatm_at_greeks_pizzeria_indianapolis'),)\n",
      "(rdflib.term.URIRef('http://www.semanticweb.org/city/in3067-inm713/2023/restaurants#supreme_pizza_at_joeys_n_y_pizza_henderson'),)\n",
      "(rdflib.term.URIRef('http://www.semanticweb.org/city/in3067-inm713/2023/restaurants#bbq_chicken_pizza_at_mellow_mushroom_pizza_bakers_denver'),)\n",
      "(rdflib.term.URIRef('http://www.semanticweb.org/city/in3067-inm713/2023/restaurants#buffalo_chicken_pizza_at_rivertowne_north_shore_pittsburgh'),)\n",
      "(rdflib.term.URIRef('http://www.semanticweb.org/city/in3067-inm713/2023/restaurants#create_pizza_at_hungry_howies_pizza_chandler'),)\n",
      "(rdflib.term.URIRef('http://www.semanticweb.org/city/in3067-inm713/2023/restaurants#taco_pizza_at_ninos_trattoria__pizzeria_lawrence_township'),)\n",
      "(rdflib.term.URIRef('http://www.semanticweb.org/city/in3067-inm713/2023/restaurants#pizza_white_truffle_meat_sauce_at_the_brentwood_los_angeles'),)\n",
      "(rdflib.term.URIRef('http://www.semanticweb.org/city/in3067-inm713/2023/restaurants#mushroom_hunter_pizza_at_tavern_on_the_square_bothell'),)\n",
      "(rdflib.term.URIRef('http://www.semanticweb.org/city/in3067-inm713/2023/restaurants#pizza_bagel_with_pepperoni_and_mushroom_at_country_bagel_bakery_west_chester'),)\n",
      "(rdflib.term.URIRef('http://www.semanticweb.org/city/in3067-inm713/2023/restaurants#pizza_marinara_at_euro_pizzeria_white_plains'),)\n",
      "(rdflib.term.URIRef('http://www.semanticweb.org/city/in3067-inm713/2023/restaurants#personal_pizza_at_tascalis_decades_pasta__grill_barboursville'),)\n",
      "(rdflib.term.URIRef('http://www.semanticweb.org/city/in3067-inm713/2023/restaurants#pizza_fries_at_carluccios_philadelphia'),)\n",
      "(rdflib.term.URIRef('http://www.semanticweb.org/city/in3067-inm713/2023/restaurants#bianca_pizza_at_little_pizza_paradise_bend'),)\n",
      "(rdflib.term.URIRef('http://www.semanticweb.org/city/in3067-inm713/2023/restaurants#cheese_pizza_at_atheneos_greek_village_cafe_mesquite'),)\n",
      "(rdflib.term.URIRef('http://www.semanticweb.org/city/in3067-inm713/2023/restaurants#specialty_pizza_toppings_at_euro_pizzeria_white_plains'),)\n",
      "(rdflib.term.URIRef('http://www.semanticweb.org/city/in3067-inm713/2023/restaurants#chicken_supreme_pizza_at_kennebunk_house_of_pizza_kennebunk'),)\n",
      "(rdflib.term.URIRef('http://www.semanticweb.org/city/in3067-inm713/2023/restaurants#broad_street_cheese_pizza_at_broad_street_cafe_newark'),)\n",
      "(rdflib.term.URIRef('http://www.semanticweb.org/city/in3067-inm713/2023/restaurants#pepperoni_pizza_at_buon_cibo_hernando'),)\n",
      "(rdflib.term.URIRef('http://www.semanticweb.org/city/in3067-inm713/2023/restaurants#italian_veggie_or_pizza_sub_at_louies_pizza_newark'),)\n",
      "(rdflib.term.URIRef('http://www.semanticweb.org/city/in3067-inm713/2023/restaurants#primavera_pizza_at_riccardos_pizza_saddle_brook'),)\n",
      "(rdflib.term.URIRef('http://www.semanticweb.org/city/in3067-inm713/2023/restaurants#chicken_alfredo_pizza_at_ninos_trattoria__pizzeria_lawrence_township'),)\n",
      "(rdflib.term.URIRef('http://www.semanticweb.org/city/in3067-inm713/2023/restaurants#pizza_bread_at_baldinelli_pizza_homer_glen'),)\n",
      "(rdflib.term.URIRef('http://www.semanticweb.org/city/in3067-inm713/2023/restaurants#cheese_pizza_at_tomato__basil_fairfield'),)\n",
      "(rdflib.term.URIRef('http://www.semanticweb.org/city/in3067-inm713/2023/restaurants#wood_fire_grilled_pizza_at_icon_grill_seattle'),)\n",
      "(rdflib.term.URIRef('http://www.semanticweb.org/city/in3067-inm713/2023/restaurants#cheese_pizza_at_ninos_trattoria__pizzeria_lawrence_township'),)\n",
      "(rdflib.term.URIRef('http://www.semanticweb.org/city/in3067-inm713/2023/restaurants#provencal_pizza_at_burgers__cupcakes_new_york'),)\n",
      "(rdflib.term.URIRef('http://www.semanticweb.org/city/in3067-inm713/2023/restaurants#pizza_at_tower_hill_tavern_laconia'),)\n",
      "(rdflib.term.URIRef('http://www.semanticweb.org/city/in3067-inm713/2023/restaurants#the_original_barbecue_chicken_pizza_at_california_pizza_kitchen_wellington'),)\n",
      "(rdflib.term.URIRef('http://www.semanticweb.org/city/in3067-inm713/2023/restaurants#pierogi_pizza_at_rivertowne_north_shore_pittsburgh'),)\n",
      "(rdflib.term.URIRef('http://www.semanticweb.org/city/in3067-inm713/2023/restaurants#pizza_margherita_at_the_brentwood_los_angeles'),)\n",
      "(rdflib.term.URIRef('http://www.semanticweb.org/city/in3067-inm713/2023/restaurants#large_pizza_cheese_at_riccardos_pizza_saddle_brook'),)\n",
      "(rdflib.term.URIRef('http://www.semanticweb.org/city/in3067-inm713/2023/restaurants#two_slices_of_cheese_pizza_at_original_giorgios_cockeysville'),)\n",
      "(rdflib.term.URIRef('http://www.semanticweb.org/city/in3067-inm713/2023/restaurants#greek_pizza_at_prima_pizza_essex'),)\n",
      "(rdflib.term.URIRef('http://www.semanticweb.org/city/in3067-inm713/2023/restaurants#pizza_steak_at_michaels_jewish_delicatessen_king_of_prussia'),)\n",
      "(rdflib.term.URIRef('http://www.semanticweb.org/city/in3067-inm713/2023/restaurants#large_the_works_pizza_at_hungry_howies_pizza_chandler'),)\n",
      "(rdflib.term.URIRef('http://www.semanticweb.org/city/in3067-inm713/2023/restaurants#cheese_pizza_at_greeks_pizzeria_indianapolis'),)\n",
      "(rdflib.term.URIRef('http://www.semanticweb.org/city/in3067-inm713/2023/restaurants#white_pizza_at_martinizing_arvada'),)\n",
      "(rdflib.term.URIRef('http://www.semanticweb.org/city/in3067-inm713/2023/restaurants#pizza_rolls_at_euro_pizzeria_white_plains'),)\n",
      "(rdflib.term.URIRef('http://www.semanticweb.org/city/in3067-inm713/2023/restaurants#cheesesteak_stuffed_cheese_pizza_at_ninos_trattoria__pizzeria_lawrence_township'),)\n",
      "(rdflib.term.URIRef('http://www.semanticweb.org/city/in3067-inm713/2023/restaurants#pizza_bites_at_prima_pizza_essex'),)\n",
      "(rdflib.term.URIRef('http://www.semanticweb.org/city/in3067-inm713/2023/restaurants#vegetarian_pizza_at_giovannis_pizza_and_pasta_menifee'),)\n",
      "(rdflib.term.URIRef('http://www.semanticweb.org/city/in3067-inm713/2023/restaurants#pizza_by_the_slice_at_antonios_pizza_chatham'),)\n",
      "(rdflib.term.URIRef('http://www.semanticweb.org/city/in3067-inm713/2023/restaurants#gyro_pita_pizza_at_atheneos_greek_village_cafe_mesquite'),)\n",
      "(rdflib.term.URIRef('http://www.semanticweb.org/city/in3067-inm713/2023/restaurants#garlic_chicken_pizza_at_the_fire_den_alameda'),)\n",
      "(rdflib.term.URIRef('http://www.semanticweb.org/city/in3067-inm713/2023/restaurants#meat_eaters_pizza_at_hungry_howies_pizza_chandler'),)\n",
      "(rdflib.term.URIRef('http://www.semanticweb.org/city/in3067-inm713/2023/restaurants#white_pizza_sub_at_brandos_pizza_buffalo'),)\n",
      "(rdflib.term.URIRef('http://www.semanticweb.org/city/in3067-inm713/2023/restaurants#white_pizza_at_riccardos_pizza_saddle_brook'),)\n",
      "(rdflib.term.URIRef('http://www.semanticweb.org/city/in3067-inm713/2023/restaurants#hawaiian_pizza_at_mellow_mushroom_pizza_bakers_denver'),)\n",
      "(rdflib.term.URIRef('http://www.semanticweb.org/city/in3067-inm713/2023/restaurants#bacon_pizzaburger_at_austins_pizza_austin'),)\n",
      "(rdflib.term.URIRef('http://www.semanticweb.org/city/in3067-inm713/2023/restaurants#pepperoni_pizza_steak_at_mi_pals_deli_philadelphia'),)\n",
      "(rdflib.term.URIRef('http://www.semanticweb.org/city/in3067-inm713/2023/restaurants#pesto_pizza_seasonal_at_gran_morsi_new_york'),)\n",
      "(rdflib.term.URIRef('http://www.semanticweb.org/city/in3067-inm713/2023/restaurants#large_cheese_pizza_at_bronson_strike_zone_bronson'),)\n",
      "(rdflib.term.URIRef('http://www.semanticweb.org/city/in3067-inm713/2023/restaurants#rolled_pizza_bites_10_at_cristys_pizza_baltimore'),)\n",
      "(rdflib.term.URIRef('http://www.semanticweb.org/city/in3067-inm713/2023/restaurants#fresh_mushroom_pizza_at_burgers__cupcakes_new_york'),)\n",
      "(rdflib.term.URIRef('http://www.semanticweb.org/city/in3067-inm713/2023/restaurants#margherita_pizza_at_mediterraneo_ristorante_westminster'),)\n",
      "(rdflib.term.URIRef('http://www.semanticweb.org/city/in3067-inm713/2023/restaurants#pizza_bread_at_tascalis_decades_pasta__grill_barboursville'),)\n",
      "(rdflib.term.URIRef('http://www.semanticweb.org/city/in3067-inm713/2023/restaurants#cheese_steak_pizza_at_original_giorgios_cockeysville'),)\n",
      "(rdflib.term.URIRef('http://www.semanticweb.org/city/in3067-inm713/2023/restaurants#ultimate_supreme_pizza_at_little_caesars_pizza_pasadena'),)\n",
      "(rdflib.term.URIRef('http://www.semanticweb.org/city/in3067-inm713/2023/restaurants#pizza_dough_at_rosa_ii_pizzeria__restaurant_middle_village'),)\n",
      "(rdflib.term.URIRef('http://www.semanticweb.org/city/in3067-inm713/2023/restaurants#pizza_rolls_at_austins_pizza_austin'),)\n",
      "(rdflib.term.URIRef('http://www.semanticweb.org/city/in3067-inm713/2023/restaurants#chicken_pizza_at_enterprise_deli_shelton'),)\n",
      "(rdflib.term.URIRef('http://www.semanticweb.org/city/in3067-inm713/2023/restaurants#the_youghigheny_pizza_at_rivertowne_north_shore_pittsburgh'),)\n",
      "(rdflib.term.URIRef('http://www.semanticweb.org/city/in3067-inm713/2023/restaurants#buffalo_chicken_pizza_at_milanos_pizza_sacramento'),)\n",
      "(rdflib.term.URIRef('http://www.semanticweb.org/city/in3067-inm713/2023/restaurants#pizza_by_the_slice_at_abos_pizza_littleton'),)\n",
      "(rdflib.term.URIRef('http://www.semanticweb.org/city/in3067-inm713/2023/restaurants#grilled_pizza_at_woolworth_tower_kitchen_new_york'),)\n",
      "(rdflib.term.URIRef('http://www.semanticweb.org/city/in3067-inm713/2023/restaurants#pepperoni_pizza_burger_at_mi_pals_deli_philadelphia'),)\n",
      "(rdflib.term.URIRef('http://www.semanticweb.org/city/in3067-inm713/2023/restaurants#buffalo_pizza_at_surayas___grill_and_fried_chicken_piscataway'),)\n",
      "(rdflib.term.URIRef('http://www.semanticweb.org/city/in3067-inm713/2023/restaurants#pizza_bread_at_pirates_cove_mount_vernon'),)\n",
      "(rdflib.term.URIRef('http://www.semanticweb.org/city/in3067-inm713/2023/restaurants#super_pizza_sub_at_bravo_pizza_hollywood_los_angeles'),)\n",
      "(rdflib.term.URIRef('http://www.semanticweb.org/city/in3067-inm713/2023/restaurants#pizza_bomba_at_nypd_pizza_maitland'),)\n",
      "(rdflib.term.URIRef('http://www.semanticweb.org/city/in3067-inm713/2023/restaurants#vegetarian_pizza_at_riccardos_pizza_saddle_brook'),)\n",
      "(rdflib.term.URIRef('http://www.semanticweb.org/city/in3067-inm713/2023/restaurants#seafood_pizza_at_original_giorgios_cockeysville'),)\n",
      "(rdflib.term.URIRef('http://www.semanticweb.org/city/in3067-inm713/2023/restaurants#pizza_boy_citra_pils_4_at_c19_philadelphia'),)\n",
      "(rdflib.term.URIRef('http://www.semanticweb.org/city/in3067-inm713/2023/restaurants#pizza_blanca_at_nypd_pizza_maitland'),)\n",
      "(rdflib.term.URIRef('http://www.semanticweb.org/city/in3067-inm713/2023/restaurants#large_pizza_and_mussels_at_riccardos_pizza_saddle_brook'),)\n",
      "(rdflib.term.URIRef('http://www.semanticweb.org/city/in3067-inm713/2023/restaurants#pizza_of_the_day_at_uno_pizzeria__grill___sturbridge_sturbridge'),)\n",
      "(rdflib.term.URIRef('http://www.semanticweb.org/city/in3067-inm713/2023/restaurants#pizza_at_cristys_pizza_baltimore'),)\n",
      "(rdflib.term.URIRef('http://www.semanticweb.org/city/in3067-inm713/2023/restaurants#mini_cheese_or_pepperoni_thin_crust_pizza_at_uno_pizzeria__grill___sturbridge_sturbridge'),)\n",
      "(rdflib.term.URIRef('http://www.semanticweb.org/city/in3067-inm713/2023/restaurants#italiano_pizza_at_original_giorgios_cockeysville'),)\n",
      "(rdflib.term.URIRef('http://www.semanticweb.org/city/in3067-inm713/2023/restaurants#the_everything_pizza_at_mellow_mushroom_pizza_bakers_denver'),)\n",
      "(rdflib.term.URIRef('http://www.semanticweb.org/city/in3067-inm713/2023/restaurants#hawaiian_pizza_at_milanos_pizza_sacramento'),)\n",
      "(rdflib.term.URIRef('http://www.semanticweb.org/city/in3067-inm713/2023/restaurants#classic_margherita_artisan_crust_pizza_at_uno_pizzeria__grill_burlington'),)\n",
      "(rdflib.term.URIRef('http://www.semanticweb.org/city/in3067-inm713/2023/restaurants#pizza_at_mos_pub_eatery_langley'),)\n",
      "(rdflib.term.URIRef('http://www.semanticweb.org/city/in3067-inm713/2023/restaurants#cheese_pizza_at_surayas___grill_and_fried_chicken_piscataway'),)\n",
      "(rdflib.term.URIRef('http://www.semanticweb.org/city/in3067-inm713/2023/restaurants#pizza_slices_at_casinos_pizza_addison'),)\n",
      "(rdflib.term.URIRef('http://www.semanticweb.org/city/in3067-inm713/2023/restaurants#mexico_city_pizza_at_greeks_pizzeria_indianapolis'),)\n",
      "(rdflib.term.URIRef('http://www.semanticweb.org/city/in3067-inm713/2023/restaurants#buffalo_chicken_pizza_at_original_giorgios_cockeysville'),)\n",
      "(rdflib.term.URIRef('http://www.semanticweb.org/city/in3067-inm713/2023/restaurants#tre_colori_pizza_at_burgers__cupcakes_new_york'),)\n",
      "(rdflib.term.URIRef('http://www.semanticweb.org/city/in3067-inm713/2023/restaurants#fennel_pizza_seasonal_at_gran_morsi_new_york'),)\n",
      "(rdflib.term.URIRef('http://www.semanticweb.org/city/in3067-inm713/2023/restaurants#taco_pizza_at_taco_pronto_wichita'),)\n",
      "(rdflib.term.URIRef('http://www.semanticweb.org/city/in3067-inm713/2023/restaurants#vegetarian_pizza_at_the_fire_den_alameda'),)\n",
      "(rdflib.term.URIRef('http://www.semanticweb.org/city/in3067-inm713/2023/restaurants#cheese_pizza_at_little_pizza_paradise_bend'),)\n",
      "(rdflib.term.URIRef('http://www.semanticweb.org/city/in3067-inm713/2023/restaurants#pizza_sub_at_bravo_pizza_hollywood_los_angeles'),)\n",
      "(rdflib.term.URIRef('http://www.semanticweb.org/city/in3067-inm713/2023/restaurants#chicken_parmigiana_pizza_at_riccardos_pizza_saddle_brook'),)\n",
      "(rdflib.term.URIRef('http://www.semanticweb.org/city/in3067-inm713/2023/restaurants#pizza_at_jets_pizza_white_lake'),)\n",
      "(rdflib.term.URIRef('http://www.semanticweb.org/city/in3067-inm713/2023/restaurants#sicilian_pizza_at_ninos_trattoria__pizzeria_lawrence_township'),)\n",
      "(rdflib.term.URIRef('http://www.semanticweb.org/city/in3067-inm713/2023/restaurants#pizza_steak_at_prima_pizza_essex'),)\n",
      "(rdflib.term.URIRef('http://www.semanticweb.org/city/in3067-inm713/2023/restaurants#maneater_mike_pizza_at_pirates_cove_mount_vernon'),)\n",
      "(rdflib.term.URIRef('http://www.semanticweb.org/city/in3067-inm713/2023/restaurants#blt_pizza_at_ninos_trattoria__pizzeria_lawrence_township'),)\n",
      "(rdflib.term.URIRef('http://www.semanticweb.org/city/in3067-inm713/2023/restaurants#the_works_pizza_at_hungry_howies_pizza_chandler'),)\n",
      "(rdflib.term.URIRef('http://www.semanticweb.org/city/in3067-inm713/2023/restaurants#khans_korean_pizza_at_khans_bar__grill_washington'),)\n",
      "(rdflib.term.URIRef('http://www.semanticweb.org/city/in3067-inm713/2023/restaurants#pizza_steak_at_mi_pals_deli_philadelphia'),)\n",
      "(rdflib.term.URIRef('http://www.semanticweb.org/city/in3067-inm713/2023/restaurants#vegetarian_mexican_pizza_at_mexican_gardens_southgate'),)\n",
      "(rdflib.term.URIRef('http://www.semanticweb.org/city/in3067-inm713/2023/restaurants#white_pizza_at_milanos_pizza_sacramento'),)\n",
      "(rdflib.term.URIRef('http://www.semanticweb.org/city/in3067-inm713/2023/restaurants#pizza_sub_at_antonios_pizza_chatham'),)\n",
      "(rdflib.term.URIRef('http://www.semanticweb.org/city/in3067-inm713/2023/restaurants#pizza_fries_at_the_italian_oven_connellsville'),)\n",
      "(rdflib.term.URIRef('http://www.semanticweb.org/city/in3067-inm713/2023/restaurants#mini_pizza_at_ristorante_italiano_santa_cruz'),)\n",
      "(rdflib.term.URIRef('http://www.semanticweb.org/city/in3067-inm713/2023/restaurants#margherita_pizza_at_zios_italian_kitchen___olathe_olathe'),)\n",
      "(rdflib.term.URIRef('http://www.semanticweb.org/city/in3067-inm713/2023/restaurants#the_original_barbecue_chicken_pizza_at_california_pizza_kitchen_austin'),)\n",
      "(rdflib.term.URIRef('http://www.semanticweb.org/city/in3067-inm713/2023/restaurants#pizza_at_the_spud_spot_harvey'),)\n",
      "(rdflib.term.URIRef('http://www.semanticweb.org/city/in3067-inm713/2023/restaurants#pizza_burger_at_prima_pizza_essex'),)\n",
      "(rdflib.term.URIRef('http://www.semanticweb.org/city/in3067-inm713/2023/restaurants#pizza_roll_at_china_moon_suffolk'),)\n",
      "(rdflib.term.URIRef('http://www.semanticweb.org/city/in3067-inm713/2023/restaurants#trenton_tomato_pizza_at_ninos_trattoria__pizzeria_lawrence_township'),)\n",
      "(rdflib.term.URIRef('http://www.semanticweb.org/city/in3067-inm713/2023/restaurants#order_3_large_pizzas_and_get_the_4th_pizza_free_at_riccardos_pizza_saddle_brook'),)\n",
      "(rdflib.term.URIRef('http://www.semanticweb.org/city/in3067-inm713/2023/restaurants#white_pizza_at_sir_pizza_madison'),)\n",
      "(rdflib.term.URIRef('http://www.semanticweb.org/city/in3067-inm713/2023/restaurants#pizza_bread_at_giovannis_pizza_and_pasta_menifee'),)\n",
      "(rdflib.term.URIRef('http://www.semanticweb.org/city/in3067-inm713/2023/restaurants#funghi_pizza_at_gran_morsi_new_york'),)\n",
      "(rdflib.term.URIRef('http://www.semanticweb.org/city/in3067-inm713/2023/restaurants#pizza_burger_at_prince_pizza_redford'),)\n",
      "(rdflib.term.URIRef('http://www.semanticweb.org/city/in3067-inm713/2023/restaurants#barbecue_chicken_pizza_at_the_fire_den_alameda'),)\n",
      "(rdflib.term.URIRef('http://www.semanticweb.org/city/in3067-inm713/2023/restaurants#pizza_sub_at_original_giorgios_cockeysville'),)\n",
      "(rdflib.term.URIRef('http://www.semanticweb.org/city/in3067-inm713/2023/restaurants#pizza_bagel_with_pepperoni_at_country_bagel_bakery_west_chester'),)\n",
      "(rdflib.term.URIRef('http://www.semanticweb.org/city/in3067-inm713/2023/restaurants#pizza_sticks_at_mos_pub_eatery_langley'),)\n",
      "(rdflib.term.URIRef('http://www.semanticweb.org/city/in3067-inm713/2023/restaurants#gluten_free_veggie_thin_crust_pizza_at_uno_pizzeria__grill_burlington'),)\n",
      "(rdflib.term.URIRef('http://www.semanticweb.org/city/in3067-inm713/2023/restaurants#new_york_style_pizza_at_abos_pizza_littleton'),)\n",
      "(rdflib.term.URIRef('http://www.semanticweb.org/city/in3067-inm713/2023/restaurants#howie_special_pizza_at_hungry_howies_pizza_chandler'),)\n",
      "(rdflib.term.URIRef('http://www.semanticweb.org/city/in3067-inm713/2023/restaurants#chicken_wing_pizza_at_salernos_pizza_restaurant_luzerne'),)\n",
      "(rdflib.term.URIRef('http://www.semanticweb.org/city/in3067-inm713/2023/restaurants#pizza_steak_sub_at_ninos_trattoria__pizzeria_lawrence_township'),)\n",
      "(rdflib.term.URIRef('http://www.semanticweb.org/city/in3067-inm713/2023/restaurants#pizza_bagel_at_i_love_bagels_laguna_niguel'),)\n",
      "(rdflib.term.URIRef('http://www.semanticweb.org/city/in3067-inm713/2023/restaurants#pizza_at_euro_pizzeria_white_plains'),)\n",
      "Sample results:\n",
      "                                                    0\n",
      "0  http://www.semanticweb.org/city/in3067-inm713/...\n",
      "1  http://www.semanticweb.org/city/in3067-inm713/...\n",
      "2  http://www.semanticweb.org/city/in3067-inm713/...\n",
      "3  http://www.semanticweb.org/city/in3067-inm713/...\n",
      "4  http://www.semanticweb.org/city/in3067-inm713/...\n",
      "Result count: 409\n"
     ]
    }
   ],
   "source": [
    "def save_sparql_results(query, task):\n",
    "    query_results = graph_extended.query(query)\n",
    "    [print(row) for row in query_results]\n",
    "    results = pd.DataFrame(query_results)\n",
    "    print(f\"Sample results:\\n {results.head()}\")\n",
    "    print(f\"Result count: {results.shape[0]}\")\n",
    "    results.to_csv(\"results_\" + task + \".csv\", index=False)\n",
    "\n",
    "\n",
    "query_1 = \"\"\"PREFIX cw: <http://www.semanticweb.org/city/in3067-inm713/2023/restaurants#>\n",
    "    PREFIX rdf: <http://www.w3.org/1999/02/22-rdf-syntax-ns#>\n",
    "\n",
    "    SELECT DISTINCT ?menuitem\n",
    "    WHERE\n",
    "    {\n",
    "    ?menuitem rdf:type cw:MenuItem .\n",
    "    FILTER EXISTS {?menuitem cw:hasValue ?value}\n",
    "    }\n",
    "\n",
    "    \"\"\"\n",
    "\n",
    "save_sparql_results(query_1, \"1\")"
   ],
   "metadata": {
    "collapsed": false,
    "ExecuteTime": {
     "start_time": "2023-05-12T12:07:39.321448Z",
     "end_time": "2023-05-12T12:07:39.515447Z"
    }
   }
  },
  {
   "cell_type": "markdown",
   "source": [
    "## Subtask SPARQL.2\n",
    "\n",
    "Create a query that uses at least one triple pattern, a FILTER and AVG function."
   ],
   "metadata": {
    "collapsed": false
   }
  },
  {
   "cell_type": "code",
   "execution_count": 207,
   "outputs": [
    {
     "name": "stdout",
     "output_type": "stream",
     "text": [
      "(rdflib.term.Literal('6.079672131147544', datatype=rdflib.term.URIRef('http://www.w3.org/2001/XMLSchema#double')),)\n",
      "Sample results:\n",
      "                    0\n",
      "0  6.079672131147544\n",
      "Result count: 1\n"
     ]
    }
   ],
   "source": [
    "# give the average price for cheap pizzas (<10$)\n",
    "query_2 = \"\"\"PREFIX cw: <http://www.semanticweb.org/city/in3067-inm713/2023/restaurants#>\n",
    "    PREFIX rdf: <http://www.w3.org/1999/02/22-rdf-syntax-ns#>\n",
    "\n",
    "    SELECT (AVG(?amount) AS ?avg_pizza_price)\n",
    "    WHERE\n",
    "    {\n",
    "    ?menuitem rdf:type cw:MenuItem .\n",
    "    ?menuitem cw:hasValue ?value .\n",
    "    ?value cw:amount ?amount\n",
    "    FILTER (?amount < 10)\n",
    "    }\n",
    "\n",
    "    \"\"\"\n",
    "\n",
    "save_sparql_results(query_2, \"2\")"
   ],
   "metadata": {
    "collapsed": false,
    "ExecuteTime": {
     "start_time": "2023-05-12T12:07:39.488445Z",
     "end_time": "2023-05-12T12:07:39.683833Z"
    }
   }
  },
  {
   "cell_type": "markdown",
   "source": [
    "## Subtask SPARQL.3\n",
    "\n",
    "Create a query that groups results, uses aggregates, and filters the results."
   ],
   "metadata": {
    "collapsed": false
   }
  },
  {
   "cell_type": "code",
   "execution_count": 208,
   "outputs": [
    {
     "name": "stdout",
     "output_type": "stream",
     "text": [
      "(rdflib.term.URIRef('http://www.semanticweb.org/city/in3067-inm713/2023/restaurants#MargheritaPizza'), rdflib.term.Literal('8.26', datatype=rdflib.term.URIRef('http://www.w3.org/2001/XMLSchema#double')))\n",
      "(rdflib.term.URIRef('http://www.semanticweb.org/city/in3067-inm713/2023/restaurants#PizzaSupreme'), rdflib.term.Literal('7.495', datatype=rdflib.term.URIRef('http://www.w3.org/2001/XMLSchema#double')))\n",
      "(rdflib.term.URIRef('http://www.semanticweb.org/city/in3067-inm713/2023/restaurants#HawaiianPizza'), rdflib.term.Literal('7.995', datatype=rdflib.term.URIRef('http://www.w3.org/2001/XMLSchema#double')))\n",
      "(rdflib.term.URIRef('http://www.semanticweb.org/city/in3067-inm713/2023/restaurants#NamedPizza'), rdflib.term.Literal('7.965714285714285', datatype=rdflib.term.URIRef('http://www.w3.org/2001/XMLSchema#double')))\n",
      "Sample results:\n",
      "                                                    0                  1\n",
      "0  http://www.semanticweb.org/city/in3067-inm713/...               8.26\n",
      "1  http://www.semanticweb.org/city/in3067-inm713/...              7.495\n",
      "2  http://www.semanticweb.org/city/in3067-inm713/...              7.995\n",
      "3  http://www.semanticweb.org/city/in3067-inm713/...  7.965714285714285\n",
      "Result count: 4\n"
     ]
    }
   ],
   "source": [
    "# give the average price for cheap pizzas (<10$) that are named, grouped by type\n",
    "query_3 = \"\"\"PREFIX cw: <http://www.semanticweb.org/city/in3067-inm713/2023/restaurants#>\n",
    "    PREFIX rdf: <http://www.w3.org/1999/02/22-rdf-syntax-ns#>\n",
    "    PREFIX rdfs: <http://www.w3.org/2000/01/rdf-schema#>\n",
    "\n",
    "    SELECT ?type (AVG(?amount) AS ?avg_pizza_price)\n",
    "    WHERE\n",
    "    {\n",
    "    ?menuitem rdf:type ?type .\n",
    "    ?type rdfs:subClassOf cw:NamedPizza .\n",
    "    ?menuitem cw:hasValue ?value .\n",
    "    ?value cw:amount ?amount .\n",
    "    FILTER (?amount < 10) .\n",
    "    }\n",
    "    GROUP BY ?type\n",
    "\n",
    "    \"\"\"\n",
    "\n",
    "save_sparql_results(query_3, \"3\")"
   ],
   "metadata": {
    "collapsed": false,
    "ExecuteTime": {
     "start_time": "2023-05-12T12:07:39.682834Z",
     "end_time": "2023-05-12T12:07:39.748836Z"
    }
   }
  },
  {
   "cell_type": "markdown",
   "source": [
    "# Subtask SPARQL.4\n",
    "Create a query (different from SPARQL.3) that group results, uses aggregates, filters the results and orders the results according to two variables."
   ],
   "metadata": {
    "collapsed": false
   }
  },
  {
   "cell_type": "code",
   "execution_count": 209,
   "outputs": [
    {
     "name": "stdout",
     "output_type": "stream",
     "text": [
      "(rdflib.term.Literal('keyme', datatype=rdflib.term.URIRef('http://www.w3.org/2001/XMLSchema#string')), rdflib.term.Literal('1.75', datatype=rdflib.term.URIRef('http://www.w3.org/2001/XMLSchema#double')))\n",
      "(rdflib.term.Literal('rosa ii pizzeria & restaurant', datatype=rdflib.term.URIRef('http://www.w3.org/2001/XMLSchema#string')), rdflib.term.Literal('1.75', datatype=rdflib.term.URIRef('http://www.w3.org/2001/XMLSchema#double')))\n",
      "(rdflib.term.Literal('taco pronto', datatype=rdflib.term.URIRef('http://www.w3.org/2001/XMLSchema#string')), rdflib.term.Literal('1.99', datatype=rdflib.term.URIRef('http://www.w3.org/2001/XMLSchema#double')))\n",
      "(rdflib.term.Literal('ming garden cocktails chinese restaurant', datatype=rdflib.term.URIRef('http://www.w3.org/2001/XMLSchema#string')), rdflib.term.Literal('2.5', datatype=rdflib.term.URIRef('http://www.w3.org/2001/XMLSchema#double')))\n",
      "(rdflib.term.Literal(\"abo's pizza\", datatype=rdflib.term.URIRef('http://www.w3.org/2001/XMLSchema#string')), rdflib.term.Literal('2.75', datatype=rdflib.term.URIRef('http://www.w3.org/2001/XMLSchema#double')))\n",
      "(rdflib.term.Literal('gatehouse restaurant', datatype=rdflib.term.URIRef('http://www.w3.org/2001/XMLSchema#string')), rdflib.term.Literal('2.99', datatype=rdflib.term.URIRef('http://www.w3.org/2001/XMLSchema#double')))\n",
      "(rdflib.term.Literal('country bagel bakery', datatype=rdflib.term.URIRef('http://www.w3.org/2001/XMLSchema#string')), rdflib.term.Literal('3.39', datatype=rdflib.term.URIRef('http://www.w3.org/2001/XMLSchema#double')))\n",
      "(rdflib.term.Literal('la hacienda', datatype=rdflib.term.URIRef('http://www.w3.org/2001/XMLSchema#string')), rdflib.term.Literal('3.75', datatype=rdflib.term.URIRef('http://www.w3.org/2001/XMLSchema#double')))\n",
      "(rdflib.term.Literal('euro pizzeria', datatype=rdflib.term.URIRef('http://www.w3.org/2001/XMLSchema#string')), rdflib.term.Literal('3.83', datatype=rdflib.term.URIRef('http://www.w3.org/2001/XMLSchema#double')))\n",
      "(rdflib.term.Literal(\"doubledave's pizza works\", datatype=rdflib.term.URIRef('http://www.w3.org/2001/XMLSchema#string')), rdflib.term.Literal('3.99', datatype=rdflib.term.URIRef('http://www.w3.org/2001/XMLSchema#double')))\n",
      "(rdflib.term.Literal(\"fazoli's\", datatype=rdflib.term.URIRef('http://www.w3.org/2001/XMLSchema#string')), rdflib.term.Literal('4.0', datatype=rdflib.term.URIRef('http://www.w3.org/2001/XMLSchema#double')))\n",
      "(rdflib.term.Literal(\"larosa's pizzeria\", datatype=rdflib.term.URIRef('http://www.w3.org/2001/XMLSchema#string')), rdflib.term.Literal('4.39', datatype=rdflib.term.URIRef('http://www.w3.org/2001/XMLSchema#double')))\n",
      "(rdflib.term.Literal(\"larosa's pizzeria\", datatype=rdflib.term.URIRef('http://www.w3.org/2001/XMLSchema#string')), rdflib.term.Literal('4.39', datatype=rdflib.term.URIRef('http://www.w3.org/2001/XMLSchema#double')))\n",
      "(rdflib.term.Literal(\"nino's trattoria & pizzeria\", datatype=rdflib.term.URIRef('http://www.w3.org/2001/XMLSchema#string')), rdflib.term.Literal('4.625', datatype=rdflib.term.URIRef('http://www.w3.org/2001/XMLSchema#double')))\n",
      "(rdflib.term.Literal(\"casino's pizza\", datatype=rdflib.term.URIRef('http://www.w3.org/2001/XMLSchema#string')), rdflib.term.Literal('4.73', datatype=rdflib.term.URIRef('http://www.w3.org/2001/XMLSchema#double')))\n",
      "(rdflib.term.Literal('milanos pizza', datatype=rdflib.term.URIRef('http://www.w3.org/2001/XMLSchema#string')), rdflib.term.Literal('4.75', datatype=rdflib.term.URIRef('http://www.w3.org/2001/XMLSchema#double')))\n",
      "(rdflib.term.Literal('uno pizzeria & grill - sturbridge', datatype=rdflib.term.URIRef('http://www.w3.org/2001/XMLSchema#string')), rdflib.term.Literal('4.790000000000001', datatype=rdflib.term.URIRef('http://www.w3.org/2001/XMLSchema#double')))\n",
      "(rdflib.term.Literal(\"knolla's pizza\", datatype=rdflib.term.URIRef('http://www.w3.org/2001/XMLSchema#string')), rdflib.term.Literal('4.89', datatype=rdflib.term.URIRef('http://www.w3.org/2001/XMLSchema#double')))\n",
      "(rdflib.term.Literal('rivertowne north shore', datatype=rdflib.term.URIRef('http://www.w3.org/2001/XMLSchema#string')), rdflib.term.Literal('4.95', datatype=rdflib.term.URIRef('http://www.w3.org/2001/XMLSchema#double')))\n",
      "(rdflib.term.Literal('west river cafe', datatype=rdflib.term.URIRef('http://www.w3.org/2001/XMLSchema#string')), rdflib.term.Literal('4.95', datatype=rdflib.term.URIRef('http://www.w3.org/2001/XMLSchema#double')))\n",
      "(rdflib.term.Literal(\"copeland's cheescake bistro\", datatype=rdflib.term.URIRef('http://www.w3.org/2001/XMLSchema#string')), rdflib.term.Literal('4.970000000000001', datatype=rdflib.term.URIRef('http://www.w3.org/2001/XMLSchema#double')))\n",
      "(rdflib.term.Literal(\"doubledave's pizzaworks\", datatype=rdflib.term.URIRef('http://www.w3.org/2001/XMLSchema#string')), rdflib.term.Literal('4.99', datatype=rdflib.term.URIRef('http://www.w3.org/2001/XMLSchema#double')))\n",
      "(rdflib.term.Literal(\"philly's subs\", datatype=rdflib.term.URIRef('http://www.w3.org/2001/XMLSchema#string')), rdflib.term.Literal('4.99', datatype=rdflib.term.URIRef('http://www.w3.org/2001/XMLSchema#double')))\n",
      "(rdflib.term.Literal('sluggers sports bar', datatype=rdflib.term.URIRef('http://www.w3.org/2001/XMLSchema#string')), rdflib.term.Literal('4.99', datatype=rdflib.term.URIRef('http://www.w3.org/2001/XMLSchema#double')))\n",
      "(rdflib.term.Literal('c19', datatype=rdflib.term.URIRef('http://www.w3.org/2001/XMLSchema#string')), rdflib.term.Literal('5.0', datatype=rdflib.term.URIRef('http://www.w3.org/2001/XMLSchema#double')))\n",
      "(rdflib.term.Literal('lake bowl inc', datatype=rdflib.term.URIRef('http://www.w3.org/2001/XMLSchema#string')), rdflib.term.Literal('5.0', datatype=rdflib.term.URIRef('http://www.w3.org/2001/XMLSchema#double')))\n",
      "(rdflib.term.Literal('oceano bistro - clayton', datatype=rdflib.term.URIRef('http://www.w3.org/2001/XMLSchema#string')), rdflib.term.Literal('5.0', datatype=rdflib.term.URIRef('http://www.w3.org/2001/XMLSchema#double')))\n",
      "(rdflib.term.Literal('town pub', datatype=rdflib.term.URIRef('http://www.w3.org/2001/XMLSchema#string')), rdflib.term.Literal('5.0', datatype=rdflib.term.URIRef('http://www.w3.org/2001/XMLSchema#double')))\n",
      "(rdflib.term.Literal(\"greek's pizzeria\", datatype=rdflib.term.URIRef('http://www.w3.org/2001/XMLSchema#string')), rdflib.term.Literal('5.133333333333334', datatype=rdflib.term.URIRef('http://www.w3.org/2001/XMLSchema#double')))\n",
      "(rdflib.term.Literal('enterprise deli', datatype=rdflib.term.URIRef('http://www.w3.org/2001/XMLSchema#string')), rdflib.term.Literal('5.25', datatype=rdflib.term.URIRef('http://www.w3.org/2001/XMLSchema#double')))\n",
      "(rdflib.term.Literal('bosses pizza - keller', datatype=rdflib.term.URIRef('http://www.w3.org/2001/XMLSchema#string')), rdflib.term.Literal('5.375', datatype=rdflib.term.URIRef('http://www.w3.org/2001/XMLSchema#double')))\n",
      "(rdflib.term.Literal(\"antonio's pizza\", datatype=rdflib.term.URIRef('http://www.w3.org/2001/XMLSchema#string')), rdflib.term.Literal('5.390000000000001', datatype=rdflib.term.URIRef('http://www.w3.org/2001/XMLSchema#double')))\n",
      "(rdflib.term.Literal('buon cibo', datatype=rdflib.term.URIRef('http://www.w3.org/2001/XMLSchema#string')), rdflib.term.Literal('5.5', datatype=rdflib.term.URIRef('http://www.w3.org/2001/XMLSchema#double')))\n",
      "(rdflib.term.Literal(\"mi pal's deli\", datatype=rdflib.term.URIRef('http://www.w3.org/2001/XMLSchema#string')), rdflib.term.Literal('5.541666666666667', datatype=rdflib.term.URIRef('http://www.w3.org/2001/XMLSchema#double')))\n",
      "(rdflib.term.Literal('potbelly sandwich shop', datatype=rdflib.term.URIRef('http://www.w3.org/2001/XMLSchema#string')), rdflib.term.Literal('5.55', datatype=rdflib.term.URIRef('http://www.w3.org/2001/XMLSchema#double')))\n",
      "(rdflib.term.Literal('baglianis food market', datatype=rdflib.term.URIRef('http://www.w3.org/2001/XMLSchema#string')), rdflib.term.Literal('5.79', datatype=rdflib.term.URIRef('http://www.w3.org/2001/XMLSchema#double')))\n",
      "(rdflib.term.Literal(\"pirate's cove\", datatype=rdflib.term.URIRef('http://www.w3.org/2001/XMLSchema#string')), rdflib.term.Literal('5.79', datatype=rdflib.term.URIRef('http://www.w3.org/2001/XMLSchema#double')))\n",
      "(rdflib.term.Literal(\"cristy's pizza\", datatype=rdflib.term.URIRef('http://www.w3.org/2001/XMLSchema#string')), rdflib.term.Literal('5.95', datatype=rdflib.term.URIRef('http://www.w3.org/2001/XMLSchema#double')))\n",
      "(rdflib.term.Literal('booies pizza', datatype=rdflib.term.URIRef('http://www.w3.org/2001/XMLSchema#string')), rdflib.term.Literal('5.99', datatype=rdflib.term.URIRef('http://www.w3.org/2001/XMLSchema#double')))\n",
      "(rdflib.term.Literal(\"jet's pizza\", datatype=rdflib.term.URIRef('http://www.w3.org/2001/XMLSchema#string')), rdflib.term.Literal('5.99', datatype=rdflib.term.URIRef('http://www.w3.org/2001/XMLSchema#double')))\n",
      "(rdflib.term.Literal('ristorante italiano', datatype=rdflib.term.URIRef('http://www.w3.org/2001/XMLSchema#string')), rdflib.term.Literal('5.99', datatype=rdflib.term.URIRef('http://www.w3.org/2001/XMLSchema#double')))\n",
      "(rdflib.term.Literal(\"hungry howie's pizza\", datatype=rdflib.term.URIRef('http://www.w3.org/2001/XMLSchema#string')), rdflib.term.Literal('6.059', datatype=rdflib.term.URIRef('http://www.w3.org/2001/XMLSchema#double')))\n",
      "(rdflib.term.Literal('prima pizza', datatype=rdflib.term.URIRef('http://www.w3.org/2001/XMLSchema#string')), rdflib.term.Literal('6.24', datatype=rdflib.term.URIRef('http://www.w3.org/2001/XMLSchema#double')))\n",
      "(rdflib.term.Literal(\"patrick molloy's sports pub\", datatype=rdflib.term.URIRef('http://www.w3.org/2001/XMLSchema#string')), rdflib.term.Literal('6.375', datatype=rdflib.term.URIRef('http://www.w3.org/2001/XMLSchema#double')))\n",
      "(rdflib.term.Literal('the spud spot', datatype=rdflib.term.URIRef('http://www.w3.org/2001/XMLSchema#string')), rdflib.term.Literal('6.49', datatype=rdflib.term.URIRef('http://www.w3.org/2001/XMLSchema#double')))\n",
      "(rdflib.term.Literal('bronson strike zone', datatype=rdflib.term.URIRef('http://www.w3.org/2001/XMLSchema#string')), rdflib.term.Literal('6.656666666666666', datatype=rdflib.term.URIRef('http://www.w3.org/2001/XMLSchema#double')))\n",
      "(rdflib.term.Literal('pie in the sky', datatype=rdflib.term.URIRef('http://www.w3.org/2001/XMLSchema#string')), rdflib.term.Literal('6.95', datatype=rdflib.term.URIRef('http://www.w3.org/2001/XMLSchema#double')))\n",
      "(rdflib.term.Literal(\"tascali's decades pasta & grill\", datatype=rdflib.term.URIRef('http://www.w3.org/2001/XMLSchema#string')), rdflib.term.Literal('6.99', datatype=rdflib.term.URIRef('http://www.w3.org/2001/XMLSchema#double')))\n",
      "(rdflib.term.Literal('the italian oven', datatype=rdflib.term.URIRef('http://www.w3.org/2001/XMLSchema#string')), rdflib.term.Literal('6.99', datatype=rdflib.term.URIRef('http://www.w3.org/2001/XMLSchema#double')))\n",
      "(rdflib.term.Literal('art cafe', datatype=rdflib.term.URIRef('http://www.w3.org/2001/XMLSchema#string')), rdflib.term.Literal('7.0', datatype=rdflib.term.URIRef('http://www.w3.org/2001/XMLSchema#double')))\n",
      "(rdflib.term.Literal('atheneos greek village cafe', datatype=rdflib.term.URIRef('http://www.w3.org/2001/XMLSchema#string')), rdflib.term.Literal('7.163333333333334', datatype=rdflib.term.URIRef('http://www.w3.org/2001/XMLSchema#double')))\n",
      "(rdflib.term.Literal(\"carluccio's\", datatype=rdflib.term.URIRef('http://www.w3.org/2001/XMLSchema#string')), rdflib.term.Literal('7.25', datatype=rdflib.term.URIRef('http://www.w3.org/2001/XMLSchema#double')))\n",
      "(rdflib.term.Literal(\"michael's jewish delicatessen\", datatype=rdflib.term.URIRef('http://www.w3.org/2001/XMLSchema#string')), rdflib.term.Literal('7.29', datatype=rdflib.term.URIRef('http://www.w3.org/2001/XMLSchema#double')))\n",
      "(rdflib.term.Literal(\"ralph's grocery deli\", datatype=rdflib.term.URIRef('http://www.w3.org/2001/XMLSchema#string')), rdflib.term.Literal('7.29', datatype=rdflib.term.URIRef('http://www.w3.org/2001/XMLSchema#double')))\n",
      "(rdflib.term.Literal(\"original giorgio's\", datatype=rdflib.term.URIRef('http://www.w3.org/2001/XMLSchema#string')), rdflib.term.Literal('7.449999999999999', datatype=rdflib.term.URIRef('http://www.w3.org/2001/XMLSchema#double')))\n",
      "(rdflib.term.Literal(\"brando's pizza\", datatype=rdflib.term.URIRef('http://www.w3.org/2001/XMLSchema#string')), rdflib.term.Literal('7.49', datatype=rdflib.term.URIRef('http://www.w3.org/2001/XMLSchema#double')))\n",
      "(rdflib.term.Literal(\"mo's pub eatery\", datatype=rdflib.term.URIRef('http://www.w3.org/2001/XMLSchema#string')), rdflib.term.Literal('7.5', datatype=rdflib.term.URIRef('http://www.w3.org/2001/XMLSchema#double')))\n",
      "(rdflib.term.Literal(\"suraya's - grill and fried chicken\", datatype=rdflib.term.URIRef('http://www.w3.org/2001/XMLSchema#string')), rdflib.term.Literal('7.74', datatype=rdflib.term.URIRef('http://www.w3.org/2001/XMLSchema#double')))\n",
      "(rdflib.term.Literal(\"austin's pizza\", datatype=rdflib.term.URIRef('http://www.w3.org/2001/XMLSchema#string')), rdflib.term.Literal('7.99', datatype=rdflib.term.URIRef('http://www.w3.org/2001/XMLSchema#double')))\n",
      "(rdflib.term.Literal(\"fox's pizza den\", datatype=rdflib.term.URIRef('http://www.w3.org/2001/XMLSchema#string')), rdflib.term.Literal('7.99', datatype=rdflib.term.URIRef('http://www.w3.org/2001/XMLSchema#double')))\n",
      "(rdflib.term.Literal('tomato & basil', datatype=rdflib.term.URIRef('http://www.w3.org/2001/XMLSchema#string')), rdflib.term.Literal('7.99', datatype=rdflib.term.URIRef('http://www.w3.org/2001/XMLSchema#double')))\n",
      "(rdflib.term.Literal('gran morsi', datatype=rdflib.term.URIRef('http://www.w3.org/2001/XMLSchema#string')), rdflib.term.Literal('8.0', datatype=rdflib.term.URIRef('http://www.w3.org/2001/XMLSchema#double')))\n",
      "(rdflib.term.Literal(\"khan's bar & grill\", datatype=rdflib.term.URIRef('http://www.w3.org/2001/XMLSchema#string')), rdflib.term.Literal('8.0', datatype=rdflib.term.URIRef('http://www.w3.org/2001/XMLSchema#double')))\n",
      "(rdflib.term.Literal('little caesars pizza', datatype=rdflib.term.URIRef('http://www.w3.org/2001/XMLSchema#string')), rdflib.term.Literal('8.0', datatype=rdflib.term.URIRef('http://www.w3.org/2001/XMLSchema#double')))\n",
      "(rdflib.term.Literal('broad street cafe', datatype=rdflib.term.URIRef('http://www.w3.org/2001/XMLSchema#string')), rdflib.term.Literal('8.5', datatype=rdflib.term.URIRef('http://www.w3.org/2001/XMLSchema#double')))\n",
      "(rdflib.term.Literal('tavern at the inn', datatype=rdflib.term.URIRef('http://www.w3.org/2001/XMLSchema#string')), rdflib.term.Literal('8.75', datatype=rdflib.term.URIRef('http://www.w3.org/2001/XMLSchema#double')))\n",
      "(rdflib.term.Literal('zios italian kitchen - olathe', datatype=rdflib.term.URIRef('http://www.w3.org/2001/XMLSchema#string')), rdflib.term.Literal('8.79', datatype=rdflib.term.URIRef('http://www.w3.org/2001/XMLSchema#double')))\n",
      "(rdflib.term.Literal('rancho viejo mexican grill', datatype=rdflib.term.URIRef('http://www.w3.org/2001/XMLSchema#string')), rdflib.term.Literal('8.8', datatype=rdflib.term.URIRef('http://www.w3.org/2001/XMLSchema#double')))\n",
      "(rdflib.term.Literal('brio tuscan grille - southlake - southlake town square', datatype=rdflib.term.URIRef('http://www.w3.org/2001/XMLSchema#string')), rdflib.term.Literal('8.95', datatype=rdflib.term.URIRef('http://www.w3.org/2001/XMLSchema#double')))\n",
      "(rdflib.term.Literal('little italy pizza', datatype=rdflib.term.URIRef('http://www.w3.org/2001/XMLSchema#string')), rdflib.term.Literal('8.95', datatype=rdflib.term.URIRef('http://www.w3.org/2001/XMLSchema#double')))\n",
      "(rdflib.term.Literal('roadhouse cafe', datatype=rdflib.term.URIRef('http://www.w3.org/2001/XMLSchema#string')), rdflib.term.Literal('8.95', datatype=rdflib.term.URIRef('http://www.w3.org/2001/XMLSchema#double')))\n",
      "(rdflib.term.Literal(\"giovanni's pizza and pasta\", datatype=rdflib.term.URIRef('http://www.w3.org/2001/XMLSchema#string')), rdflib.term.Literal('8.99', datatype=rdflib.term.URIRef('http://www.w3.org/2001/XMLSchema#double')))\n",
      "(rdflib.term.Literal('grassfields bar & grill', datatype=rdflib.term.URIRef('http://www.w3.org/2001/XMLSchema#string')), rdflib.term.Literal('8.99', datatype=rdflib.term.URIRef('http://www.w3.org/2001/XMLSchema#double')))\n",
      "(rdflib.term.Literal('the fire den', datatype=rdflib.term.URIRef('http://www.w3.org/2001/XMLSchema#string')), rdflib.term.Literal('8.99', datatype=rdflib.term.URIRef('http://www.w3.org/2001/XMLSchema#double')))\n",
      "(rdflib.term.Literal('walnut grille', datatype=rdflib.term.URIRef('http://www.w3.org/2001/XMLSchema#string')), rdflib.term.Literal('9.0', datatype=rdflib.term.URIRef('http://www.w3.org/2001/XMLSchema#double')))\n",
      "(rdflib.term.Literal('brothers 2', datatype=rdflib.term.URIRef('http://www.w3.org/2001/XMLSchema#string')), rdflib.term.Literal('9.5', datatype=rdflib.term.URIRef('http://www.w3.org/2001/XMLSchema#double')))\n",
      "(rdflib.term.Literal(\"lucky's pub\", datatype=rdflib.term.URIRef('http://www.w3.org/2001/XMLSchema#string')), rdflib.term.Literal('9.95', datatype=rdflib.term.URIRef('http://www.w3.org/2001/XMLSchema#double')))\n",
      "(rdflib.term.Literal(\"salerno's pizza restaurant\", datatype=rdflib.term.URIRef('http://www.w3.org/2001/XMLSchema#string')), rdflib.term.Literal('9.95', datatype=rdflib.term.URIRef('http://www.w3.org/2001/XMLSchema#double')))\n",
      "(rdflib.term.Literal('mexican gardens', datatype=rdflib.term.URIRef('http://www.w3.org/2001/XMLSchema#string')), rdflib.term.Literal('9.99', datatype=rdflib.term.URIRef('http://www.w3.org/2001/XMLSchema#double')))\n",
      "(rdflib.term.Literal('uno pizzeria & grill', datatype=rdflib.term.URIRef('http://www.w3.org/2001/XMLSchema#string')), rdflib.term.Literal('9.99', datatype=rdflib.term.URIRef('http://www.w3.org/2001/XMLSchema#double')))\n",
      "Sample results:\n",
      "                                           0     1\n",
      "0                                     keyme  1.75\n",
      "1             rosa ii pizzeria & restaurant  1.75\n",
      "2                               taco pronto  1.99\n",
      "3  ming garden cocktails chinese restaurant   2.5\n",
      "4                               abo's pizza  2.75\n",
      "Result count: 80\n"
     ]
    }
   ],
   "source": [
    "# give avg price for cheap pizzas (<10$) grouped by restaurants, ordered by avg price and name\n",
    "query_4 = \"\"\"PREFIX cw: <http://www.semanticweb.org/city/in3067-inm713/2023/restaurants#>\n",
    "    PREFIX rdf: <http://www.w3.org/1999/02/22-rdf-syntax-ns#>\n",
    "\n",
    "    SELECT ?name (AVG(?amount) AS ?avg_pizza_price)\n",
    "    WHERE\n",
    "    {\n",
    "    ?menuitem rdf:type cw:Pizza .\n",
    "    ?menuitem cw:hasValue ?value .\n",
    "    ?value cw:amount ?amount .\n",
    "    ?menuitem cw:servedInRestaurant ?restaurant .\n",
    "    ?restaurant cw:restaurantName ?name .\n",
    "    FILTER (?amount < 10) .\n",
    "    }\n",
    "    GROUP BY ?restaurant\n",
    "    ORDER BY ?avg_pizza_price ?name\n",
    "\n",
    "    \"\"\"\n",
    "\n",
    "save_sparql_results(query_4, \"4\")"
   ],
   "metadata": {
    "collapsed": false,
    "ExecuteTime": {
     "start_time": "2023-05-12T12:07:39.743826Z",
     "end_time": "2023-05-12T12:07:39.965045Z"
    }
   }
  },
  {
   "cell_type": "markdown",
   "source": [
    "## Subtask SPARQL.5\n",
    "Create a query that uses the Union graph pattern and negation."
   ],
   "metadata": {
    "collapsed": false
   }
  },
  {
   "cell_type": "code",
   "execution_count": 210,
   "outputs": [
    {
     "name": "stdout",
     "output_type": "stream",
     "text": [
      "(rdflib.term.Literal('margherita pizza', datatype=rdflib.term.URIRef('http://www.w3.org/2001/XMLSchema#string')),)\n",
      "(rdflib.term.Literal('margherita pizza', datatype=rdflib.term.URIRef('http://www.w3.org/2001/XMLSchema#string')),)\n",
      "(rdflib.term.Literal('greek pizza', datatype=rdflib.term.URIRef('http://www.w3.org/2001/XMLSchema#string')),)\n",
      "(rdflib.term.Literal('philly cheese steak pizza', datatype=rdflib.term.URIRef('http://www.w3.org/2001/XMLSchema#string')),)\n",
      "(rdflib.term.Literal('chicago deep dish pizza', datatype=rdflib.term.URIRef('http://www.w3.org/2001/XMLSchema#string')),)\n",
      "(rdflib.term.Literal('chicken parmesan pizza', datatype=rdflib.term.URIRef('http://www.w3.org/2001/XMLSchema#string')),)\n",
      "(rdflib.term.Literal('barbecue chicken pizza', datatype=rdflib.term.URIRef('http://www.w3.org/2001/XMLSchema#string')),)\n",
      "(rdflib.term.Literal('taco pizza', datatype=rdflib.term.URIRef('http://www.w3.org/2001/XMLSchema#string')),)\n",
      "(rdflib.term.Literal('pork tenderloin pizzaiola', datatype=rdflib.term.URIRef('http://www.w3.org/2001/XMLSchema#string')),)\n",
      "(rdflib.term.Literal('barbecue chicken pizza', datatype=rdflib.term.URIRef('http://www.w3.org/2001/XMLSchema#string')),)\n",
      "(rdflib.term.Literal('stinger pizza', datatype=rdflib.term.URIRef('http://www.w3.org/2001/XMLSchema#string')),)\n",
      "(rdflib.term.Literal('meat lovers pizza', datatype=rdflib.term.URIRef('http://www.w3.org/2001/XMLSchema#string')),)\n",
      "(rdflib.term.Literal('new york style pizza', datatype=rdflib.term.URIRef('http://www.w3.org/2001/XMLSchema#string')),)\n",
      "(rdflib.term.Literal('pizza bagel', datatype=rdflib.term.URIRef('http://www.w3.org/2001/XMLSchema#string')),)\n",
      "(rdflib.term.Literal('meat pizza', datatype=rdflib.term.URIRef('http://www.w3.org/2001/XMLSchema#string')),)\n",
      "(rdflib.term.Literal('vegetarian pizza', datatype=rdflib.term.URIRef('http://www.w3.org/2001/XMLSchema#string')),)\n",
      "(rdflib.term.Literal('pizza', datatype=rdflib.term.URIRef('http://www.w3.org/2001/XMLSchema#string')),)\n",
      "(rdflib.term.Literal('pepperoni pizza', datatype=rdflib.term.URIRef('http://www.w3.org/2001/XMLSchema#string')),)\n",
      "(rdflib.term.Literal('classic pepperoni lahvosh pizza', datatype=rdflib.term.URIRef('http://www.w3.org/2001/XMLSchema#string')),)\n",
      "(rdflib.term.Literal('white pizza', datatype=rdflib.term.URIRef('http://www.w3.org/2001/XMLSchema#string')),)\n",
      "(rdflib.term.Literal('meatball pizza', datatype=rdflib.term.URIRef('http://www.w3.org/2001/XMLSchema#string')),)\n",
      "(rdflib.term.Literal('cheesy pita pizza', datatype=rdflib.term.URIRef('http://www.w3.org/2001/XMLSchema#string')),)\n",
      "(rdflib.term.Literal('thin crust or deep dish pizza', datatype=rdflib.term.URIRef('http://www.w3.org/2001/XMLSchema#string')),)\n",
      "(rdflib.term.Literal('b.l.t. pizza', datatype=rdflib.term.URIRef('http://www.w3.org/2001/XMLSchema#string')),)\n",
      "(rdflib.term.Literal('fruit pizza', datatype=rdflib.term.URIRef('http://www.w3.org/2001/XMLSchema#string')),)\n",
      "(rdflib.term.Literal('blt pizza', datatype=rdflib.term.URIRef('http://www.w3.org/2001/XMLSchema#string')),)\n",
      "(rdflib.term.Literal('chicago classic deep dish pizza', datatype=rdflib.term.URIRef('http://www.w3.org/2001/XMLSchema#string')),)\n",
      "(rdflib.term.Literal('buffalo chicken pizza', datatype=rdflib.term.URIRef('http://www.w3.org/2001/XMLSchema#string')),)\n",
      "(rdflib.term.Literal('mexican pizza', datatype=rdflib.term.URIRef('http://www.w3.org/2001/XMLSchema#string')),)\n",
      "(rdflib.term.Literal('pepperoni pizza', datatype=rdflib.term.URIRef('http://www.w3.org/2001/XMLSchema#string')),)\n",
      "(rdflib.term.Literal('pita pizza', datatype=rdflib.term.URIRef('http://www.w3.org/2001/XMLSchema#string')),)\n",
      "Sample results:\n",
      "                            0\n",
      "0           margherita pizza\n",
      "1           margherita pizza\n",
      "2                greek pizza\n",
      "3  philly cheese steak pizza\n",
      "4    chicago deep dish pizza\n",
      "Result count: 31\n"
     ]
    }
   ],
   "source": [
    "# return all named pizzas and pizzas by style that don't have a price\n",
    "query_5 = \"\"\"PREFIX cw: <http://www.semanticweb.org/city/in3067-inm713/2023/restaurants#>\n",
    "    PREFIX rdf: <http://www.w3.org/1999/02/22-rdf-syntax-ns#>\n",
    "\n",
    "    SELECT ?name\n",
    "    WHERE\n",
    "    {\n",
    "        {\n",
    "            ?item rdf:type cw:NamedPizza .\n",
    "            ?item cw:itemName ?name .\n",
    "        }\n",
    "        UNION\n",
    "        {\n",
    "            ?item rdf:type cw:PizzaByStyle .\n",
    "            ?item cw:itemName ?name\n",
    "        }\n",
    "    FILTER NOT EXISTS {?item cw:hasValue ?value}\n",
    "    }\n",
    "\n",
    "    \"\"\"\n",
    "\n",
    "save_sparql_results(query_5, \"5\")"
   ],
   "metadata": {
    "collapsed": false,
    "ExecuteTime": {
     "start_time": "2023-05-12T12:07:39.969044Z",
     "end_time": "2023-05-12T12:07:40.135085Z"
    }
   }
  },
  {
   "cell_type": "markdown",
   "source": [
    "# Ontology Alignment"
   ],
   "metadata": {
    "collapsed": false
   }
  },
  {
   "cell_type": "code",
   "execution_count": 246,
   "outputs": [],
   "source": [
    "import owlready2\n",
    "\n",
    "def get_classes(onto):\n",
    "    return onto.classes()\n",
    "\n",
    "\n",
    "def get_data_properties(onto):\n",
    "    return onto.data_properties()\n",
    "\n",
    "\n",
    "def get_object_properties(onto):\n",
    "    return onto.object_properties()\n",
    "\n",
    "\n",
    "def get_ontology_classes(uri):\n",
    "    onto = owlready2.get_ontology(uri).load()\n",
    "    # number of classes\n",
    "    print(\"Classes in {}: {}\".format(str(uri), len(list(get_classes(onto)))))\n",
    "\n",
    "    class_list = []\n",
    "    for ontology_class in get_classes(onto):\n",
    "        # class names\n",
    "        print(\"\\t\" + ontology_class.name)\n",
    "        class_list.append(ontology_class.name)\n",
    "\n",
    "    return class_list\n",
    "\n",
    "\n",
    "def get_ontology_data_property(uri):\n",
    "    #Method from owlready\n",
    "    onto = owlready2.get_ontology(uri).load()\n",
    "    # number of data properties\n",
    "    print(\"Data Properties in {}: {}\".format(str(uri), len(list(get_data_properties(onto)))))\n",
    "\n",
    "    data_properties_list = []\n",
    "    for dp in get_data_properties(onto):\n",
    "        print(\"\\t\" + dp.name)\n",
    "        data_properties_list.append(dp.name)\n",
    "\n",
    "    return data_properties_list\n",
    "\n",
    "\n",
    "def get_ontology_object_property(uri):\n",
    "    #Method from owlready\n",
    "    onto = owlready2.get_ontology(uri).load()\n",
    "    # number of object properties\n",
    "    print(\"Object Properties in {}: {}\".format(str(uri), len(list(get_object_properties(onto)))))\n",
    "\n",
    "    object_properties_list = []\n",
    "    for op in get_object_properties(onto):\n",
    "        print(\"\\t\" + op.name)\n",
    "        object_properties_list.append(op.name)\n",
    "\n",
    "    return object_properties_list"
   ],
   "metadata": {
    "collapsed": false,
    "ExecuteTime": {
     "start_time": "2023-05-12T12:36:42.177096Z",
     "end_time": "2023-05-12T12:36:42.223553Z"
    }
   }
  },
  {
   "cell_type": "code",
   "execution_count": 247,
   "outputs": [],
   "source": [
    "from difflib import SequenceMatcher\n",
    "\n",
    "\n",
    "def find_similar_elements(list_a, list_b, threshold):\n",
    "    return list(set(a for a in list_a for b in list_b if is_similar(a, b, threshold)))\n",
    "\n",
    "\n",
    "def is_similar(element_a, element_b, threshold):\n",
    "    return SequenceMatcher(None, element_a, element_b).ratio() >= threshold"
   ],
   "metadata": {
    "collapsed": false,
    "ExecuteTime": {
     "start_time": "2023-05-12T12:36:43.784738Z",
     "end_time": "2023-05-12T12:36:43.819787Z"
    }
   }
  },
  {
   "cell_type": "code",
   "execution_count": 248,
   "outputs": [
    {
     "name": "stdout",
     "output_type": "stream",
     "text": [
      "Classes in pizza.owl: 100\n",
      "\tPizza\n",
      "\tPizzaBase\n",
      "\tFood\n",
      "\tSpiciness\n",
      "\tFoodTopping\n",
      "\tAmerican\n",
      "\tNamedPizza\n",
      "\tMozzarellaTopping\n",
      "\tPeperoniSausageTopping\n",
      "\tTomatoTopping\n",
      "\tAmericanHot\n",
      "\tHotGreenPepperTopping\n",
      "\tJalapenoPepperTopping\n",
      "\tAnchoviesTopping\n",
      "\tFishTopping\n",
      "\tArtichokeTopping\n",
      "\tVegetableTopping\n",
      "\tMild\n",
      "\tAsparagusTopping\n",
      "\tCajun\n",
      "\tOnionTopping\n",
      "\tPeperonataTopping\n",
      "\tPrawnsTopping\n",
      "\tTobascoPepperSauce\n",
      "\tCajunSpiceTopping\n",
      "\tHerbSpiceTopping\n",
      "\tHot\n",
      "\tRosemaryTopping\n",
      "\tCaperTopping\n",
      "\tCapricciosa\n",
      "\tHamTopping\n",
      "\tOliveTopping\n",
      "\tCaprina\n",
      "\tGoatsCheeseTopping\n",
      "\tSundriedTomatoTopping\n",
      "\tCheeseTopping\n",
      "\tPizzaTopping\n",
      "\tCheeseyPizza\n",
      "\tCheeseyVegetableTopping\n",
      "\tChickenTopping\n",
      "\tMeatTopping\n",
      "\tCountry\n",
      "\tDomainConcept\n",
      "\tDeepPanBase\n",
      "\tThinAndCrispyBase\n",
      "\tValuePartition\n",
      "\tFiorentina\n",
      "\tGarlicTopping\n",
      "\tParmesanTopping\n",
      "\tSpinachTopping\n",
      "\tFourCheesesTopping\n",
      "\tFourSeasons\n",
      "\tMushroomTopping\n",
      "\tFruitTopping\n",
      "\tFruttiDiMare\n",
      "\tMixedSeafoodTopping\n",
      "\tMedium\n",
      "\tGiardiniera\n",
      "\tLeekTopping\n",
      "\tPetitPoisTopping\n",
      "\tSlicedTomatoTopping\n",
      "\tGorgonzolaTopping\n",
      "\tGreenPepperTopping\n",
      "\tPepperTopping\n",
      "\tHotSpicedBeefTopping\n",
      "\tIceCream\n",
      "\tInterestingPizza\n",
      "\tLaReine\n",
      "\tMargherita\n",
      "\tMeatyPizza\n",
      "\tMushroom\n",
      "\tNapoletana\n",
      "\tNonVegetarianPizza\n",
      "\tVegetarianPizza\n",
      "\tNutTopping\n",
      "\tParmaHamTopping\n",
      "\tParmense\n",
      "\tPineKernels\n",
      "\tPolloAdAstra\n",
      "\tRedOnionTopping\n",
      "\tSweetPepperTopping\n",
      "\tPrinceCarlo\n",
      "\tQuattroFormaggi\n",
      "\tRealItalianPizza\n",
      "\tRocketTopping\n",
      "\tRosa\n",
      "\tSauceTopping\n",
      "\tSiciliana\n",
      "\tSloppyGiuseppe\n",
      "\tSoho\n",
      "\tSpicyPizza\n",
      "\tSpicyTopping\n",
      "\tSpicyPizzaEquivalent\n",
      "\tSultanaTopping\n",
      "\tThinAndCrispyPizza\n",
      "\tUnclosedPizza\n",
      "\tVegetarianPizzaEquivalent1\n",
      "\tVegetarianTopping\n",
      "\tVegetarianPizzaEquivalent2\n",
      "\tVeneziana\n",
      "Classes in pizza-restaurants-ontology.owl: 151\n",
      "\tItemValue\n",
      "\tCurrency\n",
      "\tAddress\n",
      "\tCity\n",
      "\tLocation\n",
      "\tState\n",
      "\tFood\n",
      "\tIngredient\n",
      "\tCountry\n",
      "\tAmericanPizza\n",
      "\tPizzaByStyle\n",
      "\tAmericanRestaurant\n",
      "\tRestaurant\n",
      "\tAnchovies\n",
      "\tSeaFood\n",
      "\tArtichokes\n",
      "\tVegetable\n",
      "\tAsianRestaurant\n",
      "\tBacon\n",
      "\tMeat\n",
      "\tBakery\n",
      "\tBar\n",
      "\tBarsPubsClubs\n",
      "\tBarAndGrill\n",
      "\tBarbecuePizza\n",
      "\tBarbecueSauce\n",
      "\tPizza\n",
      "\tPizzaByIngredient\n",
      "\tSauce\n",
      "\tVeganIngredient\n",
      "\tBasil\n",
      "\tHerbs\n",
      "\tBeans\n",
      "\tSeeds\n",
      "\tBeansPizza\n",
      "\tBeef\n",
      "\tBeerPlace\n",
      "\tBlackOlives\n",
      "\tOlives\n",
      "\tBlueCheese\n",
      "\tCheese\n",
      "\tBroccoli\n",
      "\tBurgerPlace\n",
      "\tButternutSquash\n",
      "\tWinterSquash\n",
      "\tCalifornianPizza\n",
      "\tCapers\n",
      "\tCarrot\n",
      "\tRootVegetable\n",
      "\tCheddar\n",
      "\tVegetarianIngredient\n",
      "\tCherryTomato\n",
      "\tTomato\n",
      "\tChicken\n",
      "\tChickenPizza\n",
      "\tChineseRestaurant\n",
      "\tChorizo\n",
      "\tClub\n",
      "\tCocktailBars\n",
      "\tCoffeeShop\n",
      "\tCrabMeat\n",
      "\tDietaryRestaurant\n",
      "\tEggplant\n",
      "\tFeta\n",
      "\tFetaPizza\n",
      "\tFig\n",
      "\tFruit\n",
      "\tFrenchRestaurant\n",
      "\tMediterraneanRestaurant\n",
      "\tFruitPizza\n",
      "\tGarlic\n",
      "\tGastropub\n",
      "\tPub\n",
      "\tGlutenFreeRestaurant\n",
      "\tGoatCheese\n",
      "\tGorgonzola\n",
      "\tGourmetRestaurants\n",
      "\tGreekPizza\n",
      "\tSpinach\n",
      "\tGreekRestaurant\n",
      "\tGreenOlives\n",
      "\tGreenPepper\n",
      "\tPepper\n",
      "\tHam\n",
      "\tHawaiianPizza\n",
      "\tNamedPizza\n",
      "\tPineapple\n",
      "\tTomatoSauce\n",
      "\tHotSauce\n",
      "\tIndianRestaurant\n",
      "\tItalianRestaurant\n",
      "\tJalapenoPepper\n",
      "\tJapanesePizza\n",
      "\tSalmon\n",
      "\tTuna\n",
      "\tJapaneseRestaurant\n",
      "\tKaraokeBar\n",
      "\tMargheritaPizza\n",
      "\tMozzarella\n",
      "\tMarinara\n",
      "\tMeatPizza\n",
      "\tMeatballs\n",
      "\tMenuItem\n",
      "\tMexicanPizza\n",
      "\tMexicanRestaurant\n",
      "\tMortadella\n",
      "\tMushroom\n",
      "\tMushroomPizza\n",
      "\tOliveOil\n",
      "\tOnion\n",
      "\tOregano\n",
      "\tParmesan\n",
      "\tPepperoni\n",
      "\tSausage\n",
      "\tPesto\n",
      "\tPineapplePizza\n",
      "\tPizzaBianca\n",
      "\tPizzaErnesto\n",
      "\tPizzaMarinara\n",
      "\tPizzaNapolitana\n",
      "\tPizzaNutella\n",
      "\tSweetPizza\n",
      "\tPizzaPlace\n",
      "\tPizzeria\n",
      "\tPizzaRomana\n",
      "\tPizzaSupreme\n",
      "\tPlumTomato\n",
      "\tPotato\n",
      "\tProsciutto\n",
      "\tProvolone\n",
      "\tPumpkin\n",
      "\tRedPepper\n",
      "\tRicotta\n",
      "\tRosemary\n",
      "\tSalami\n",
      "\tScallops\n",
      "\tSeafoodPizza\n",
      "\tSeafoodRestaurant\n",
      "\tShrimp\n",
      "\tSpanishRestaurant\n",
      "\tSportsBar\n",
      "\tSushiRestaurant\n",
      "\tSweetPotato\n",
      "\tTofu\n",
      "\tVeganCheese\n",
      "\tVeganPizza\n",
      "\tVegetarianPizza\n",
      "\tVeganRestaurant\n",
      "\tVegetarianRestaurant\n",
      "\tYellowPepper\n",
      "\tZucchini\n",
      "Data Properties in pizza.owl: 0\n",
      "Data Properties in pizza-restaurants-ontology.owl: 6\n",
      "\tamount\n",
      "\tfirstLineAddress\n",
      "\titemName\n",
      "\tname\n",
      "\tpostCode\n",
      "\trestaurantName\n",
      "Object Properties in pizza.owl: 8\n",
      "\thasBase\n",
      "\thasIngredient\n",
      "\tisBaseOf\n",
      "\thasCountryOfOrigin\n",
      "\tisIngredientOf\n",
      "\thasSpiciness\n",
      "\thasTopping\n",
      "\tisToppingOf\n",
      "Object Properties in pizza-restaurants-ontology.owl: 17\n",
      "\tamountCurrency\n",
      "\tcontainsAdress\n",
      "\tcontainsLocation\n",
      "\tcontainsCity\n",
      "\tlocatedIn\n",
      "\tcontainsState\n",
      "\thasIngredient\n",
      "\tisIngredientOf\n",
      "\thasValue\n",
      "\tlocatedInAddress\n",
      "\tlocatedInCity\n",
      "\tlocatedInCountry\n",
      "\tlocatedInState\n",
      "\tservedIn\n",
      "\tserves\n",
      "\tservedInRestaurant\n",
      "\tservesMenuItem\n"
     ]
    }
   ],
   "source": [
    "pizza_ontology = \"pizza.owl\"\n",
    "cw_ontology = \"pizza-restaurants-ontology.owl\"\n",
    "\n",
    "pizza_classes = get_ontology_classes(pizza_ontology)\n",
    "cw_classes = get_ontology_classes(cw_ontology)\n",
    "\n",
    "pizza_data_properties = get_ontology_data_property(pizza_ontology)\n",
    "cw_data_properties = get_ontology_data_property(cw_ontology)\n",
    "\n",
    "pizza_object_properties = get_ontology_object_property(pizza_ontology)\n",
    "cw_object_properties = get_ontology_object_property(cw_ontology)"
   ],
   "metadata": {
    "collapsed": false,
    "ExecuteTime": {
     "start_time": "2023-05-12T12:36:45.979890Z",
     "end_time": "2023-05-12T12:36:46.056869Z"
    }
   }
  },
  {
   "cell_type": "code",
   "execution_count": 249,
   "outputs": [
    {
     "name": "stdout",
     "output_type": "stream",
     "text": [
      "['Food', 'MeatyPizza', 'Country', 'JalapenoPepperTopping', 'NamedPizza', 'NonVegetarianPizza', 'VegetarianPizza', 'Mushroom', 'Pizza', 'Margherita']\n",
      "[]\n",
      "['hasIngredient', 'isIngredientOf']\n"
     ]
    }
   ],
   "source": [
    "similar_classes = find_similar_elements(pizza_classes, cw_classes, threshold=0.8)\n",
    "print(similar_classes)\n",
    "similar_data_properties = find_similar_elements(pizza_data_properties, cw_data_properties, threshold=0.8)\n",
    "print(similar_data_properties)\n",
    "similar_object_properties = find_similar_elements(pizza_object_properties, cw_object_properties, threshold=0.8)\n",
    "print(similar_object_properties)"
   ],
   "metadata": {
    "collapsed": false,
    "ExecuteTime": {
     "start_time": "2023-05-12T12:36:48.706651Z",
     "end_time": "2023-05-12T12:36:51.156810Z"
    }
   }
  },
  {
   "cell_type": "code",
   "execution_count": 257,
   "outputs": [
    {
     "name": "stdout",
     "output_type": "stream",
     "text": [
      "Adding ('Food', rdflib.term.URIRef('http://www.w3.org/2002/07/owl#equivalentClass'), 'Food')\n",
      "Adding ('Country', rdflib.term.URIRef('http://www.w3.org/2002/07/owl#equivalentClass'), 'Country')\n",
      "Adding ('Pizza', rdflib.term.URIRef('http://www.w3.org/2002/07/owl#equivalentClass'), 'Pizza')\n",
      "Adding ('NamedPizza', rdflib.term.URIRef('http://www.w3.org/2002/07/owl#equivalentClass'), 'NamedPizza')\n",
      "Adding ('Mushroom', rdflib.term.URIRef('http://www.w3.org/2002/07/owl#equivalentClass'), 'Mushroom')\n",
      "Adding ('VegetarianPizza', rdflib.term.URIRef('http://www.w3.org/2002/07/owl#equivalentClass'), 'VegetarianPizza')\n",
      "Adding ('hasIngredient', rdflib.term.URIRef('http://www.w3.org/2002/07/owl#equivalentProperty'), 'hasIngredient')\n",
      "Adding ('isIngredientOf', rdflib.term.URIRef('http://www.w3.org/2002/07/owl#equivalentProperty'), 'isIngredientOf')\n"
     ]
    }
   ],
   "source": [
    "graph_alignment = Graph()\n",
    "pizza_uri = 'http://www.co-ode.org/ontologies/pizza#'\n",
    "pizza_namespace = Namespace(pizza_uri)\n",
    "graph_alignment.bind(\"pizza\", pizza_namespace)\n",
    "graph_alignment.bind(\"cw\", cw_namespace)\n",
    "\n",
    "\n",
    "def align_ontology(cw_elements, pizza_elements, type, threshold):\n",
    "    valid_types = [\"class\", \"property\"]\n",
    "    if type not in valid_types:\n",
    "        raise ValueError(f\"Please provide one of the following types: {valid_types}\")\n",
    "\n",
    "    relationship = OWL.equivalentClass if type == \"class\" else OWL.equivalentProperty\n",
    "    for cw_element in cw_elements:\n",
    "        for pizza_element in pizza_elements:\n",
    "            if is_similar(cw_element, pizza_element, threshold):\n",
    "                print(f\"Adding {(cw_element, relationship, pizza_element)}\")\n",
    "                cw_uri = URIRef(cw_namespace + cw_element)\n",
    "                pizza_uri = URIRef(pizza_namespace + pizza_element)\n",
    "                graph_alignment.add((cw_uri, relationship, pizza_uri))\n",
    "\n",
    "\n",
    "align_ontology(cw_classes, pizza_classes, type=\"class\", threshold=0.95)\n",
    "align_ontology(cw_data_properties, pizza_data_properties, type=\"property\", threshold=0.9)\n",
    "align_ontology(cw_object_properties, pizza_object_properties, type=\"property\", threshold=0.9)\n",
    "\n",
    "graph_alignment.serialize(\"swtkg_final_cw-alignment_01.ttl\", format=\"ttl\")"
   ],
   "metadata": {
    "collapsed": false,
    "ExecuteTime": {
     "start_time": "2023-05-12T12:39:52.622261Z",
     "end_time": "2023-05-12T12:39:53.645483Z"
    }
   }
  },
  {
   "cell_type": "code",
   "execution_count": 3,
   "outputs": [
    {
     "name": "stdout",
     "output_type": "stream",
     "text": [
      "Now holds 963 triples\n",
      "Now holds 6592 triples\n",
      "Now holds 6600 triples\n",
      "Now holds 8543 triples\n",
      "Rules after inference: '61059' triples.\n",
      "Saving extended graph\n"
     ]
    }
   ],
   "source": [
    "graph_alignment = Graph()\n",
    "graph_alignment.parse(\"pizza-restaurants-ontology.ttl\", format=\"ttl\")\n",
    "print(f\"Now holds {len(graph_alignment)} triples\")\n",
    "graph_alignment.parse(\"swtkg_final_cw.ttl\", format=\"ttl\")\n",
    "print(f\"Now holds {len(graph_alignment)} triples\")\n",
    "graph_alignment.parse(\"swtkg_final_cw-alignment_01.ttl\", format=\"ttl\")\n",
    "print(f\"Now holds {len(graph_alignment)} triples\")\n",
    "graph_alignment.parse(\"pizza.ttl\", format=\"ttl\")\n",
    "print(f\"Now holds {len(graph_alignment)} triples\")\n",
    "\n",
    "owlrl.DeductiveClosure(owlrl.OWLRL_Semantics, axiomatic_triples=True, datatype_axioms=False).expand(graph_alignment)\n",
    "\n",
    "print(\"Rules after inference: '\" + str(len(graph_alignment)) + \"' triples.\")\n",
    "\n",
    "print(\"Saving extended graph\")\n",
    "graph_alignment.serialize(destination='swtkg_final_cw-alignment_02.ttl', format='ttl')"
   ],
   "metadata": {
    "collapsed": false,
    "ExecuteTime": {
     "start_time": "2023-05-13T13:56:57.125719Z",
     "end_time": "2023-05-13T13:58:29.058071Z"
    }
   }
  },
  {
   "cell_type": "code",
   "execution_count": 4,
   "outputs": [
    {
     "name": "stdout",
     "output_type": "stream",
     "text": [
      "(rdflib.term.Literal('napolitana pizza', datatype=rdflib.term.URIRef('http://www.w3.org/2001/XMLSchema#string')),)\n",
      "(rdflib.term.Literal('hawaiian pizza', datatype=rdflib.term.URIRef('http://www.w3.org/2001/XMLSchema#string')),)\n",
      "(rdflib.term.Literal('margherita pizza', datatype=rdflib.term.URIRef('http://www.w3.org/2001/XMLSchema#string')),)\n",
      "(rdflib.term.Literal('hawaiian pizza', datatype=rdflib.term.URIRef('http://www.w3.org/2001/XMLSchema#string')),)\n",
      "(rdflib.term.Literal('fire den supreme pizza', datatype=rdflib.term.URIRef('http://www.w3.org/2001/XMLSchema#string')),)\n",
      "(rdflib.term.Literal('margherita pizza', datatype=rdflib.term.URIRef('http://www.w3.org/2001/XMLSchema#string')),)\n",
      "(rdflib.term.Literal('vegan margherita pizza', datatype=rdflib.term.URIRef('http://www.w3.org/2001/XMLSchema#string')),)\n",
      "(rdflib.term.Literal('hawaiian pizza', datatype=rdflib.term.URIRef('http://www.w3.org/2001/XMLSchema#string')),)\n",
      "(rdflib.term.Literal('marinara pizza', datatype=rdflib.term.URIRef('http://www.w3.org/2001/XMLSchema#string')),)\n",
      "(rdflib.term.Literal('pizza margherita', datatype=rdflib.term.URIRef('http://www.w3.org/2001/XMLSchema#string')),)\n",
      "(rdflib.term.Literal('marinara pizza', datatype=rdflib.term.URIRef('http://www.w3.org/2001/XMLSchema#string')),)\n",
      "(rdflib.term.Literal('margherita pizza', datatype=rdflib.term.URIRef('http://www.w3.org/2001/XMLSchema#string')),)\n",
      "(rdflib.term.Literal('thin crust margherita pizza', datatype=rdflib.term.URIRef('http://www.w3.org/2001/XMLSchema#string')),)\n",
      "(rdflib.term.Literal('classic margherita artisan crust pizza', datatype=rdflib.term.URIRef('http://www.w3.org/2001/XMLSchema#string')),)\n",
      "(rdflib.term.Literal('pizza marinara', datatype=rdflib.term.URIRef('http://www.w3.org/2001/XMLSchema#string')),)\n",
      "(rdflib.term.Literal('hawaiin pizza', datatype=rdflib.term.URIRef('http://www.w3.org/2001/XMLSchema#string')),)\n",
      "(rdflib.term.Literal('supreme combo pizza', datatype=rdflib.term.URIRef('http://www.w3.org/2001/XMLSchema#string')),)\n",
      "(rdflib.term.Literal('supreme deluxe pizza', datatype=rdflib.term.URIRef('http://www.w3.org/2001/XMLSchema#string')),)\n",
      "(rdflib.term.Literal('supreme pizza', datatype=rdflib.term.URIRef('http://www.w3.org/2001/XMLSchema#string')),)\n",
      "(rdflib.term.Literal('hawaiian pizza', datatype=rdflib.term.URIRef('http://www.w3.org/2001/XMLSchema#string')),)\n",
      "(rdflib.term.Literal('hawaiian pizza', datatype=rdflib.term.URIRef('http://www.w3.org/2001/XMLSchema#string')),)\n",
      "(rdflib.term.Literal('pizza margherita', datatype=rdflib.term.URIRef('http://www.w3.org/2001/XMLSchema#string')),)\n",
      "(rdflib.term.Literal('margherita pizza', datatype=rdflib.term.URIRef('http://www.w3.org/2001/XMLSchema#string')),)\n",
      "(rdflib.term.Literal('howie maui pizza', datatype=rdflib.term.URIRef('http://www.w3.org/2001/XMLSchema#string')),)\n",
      "(rdflib.term.Literal('marinara pizza', datatype=rdflib.term.URIRef('http://www.w3.org/2001/XMLSchema#string')),)\n",
      "(rdflib.term.Literal('veggie supreme pizza', datatype=rdflib.term.URIRef('http://www.w3.org/2001/XMLSchema#string')),)\n",
      "(rdflib.term.Literal('margherita pizza', datatype=rdflib.term.URIRef('http://www.w3.org/2001/XMLSchema#string')),)\n",
      "(rdflib.term.Literal('margherita pizza', datatype=rdflib.term.URIRef('http://www.w3.org/2001/XMLSchema#string')),)\n",
      "(rdflib.term.Literal('margherita pizza (on honey wheat dough)', datatype=rdflib.term.URIRef('http://www.w3.org/2001/XMLSchema#string')),)\n",
      "(rdflib.term.Literal('ultimate supreme pizza', datatype=rdflib.term.URIRef('http://www.w3.org/2001/XMLSchema#string')),)\n",
      "(rdflib.term.Literal('chicken supreme pizza', datatype=rdflib.term.URIRef('http://www.w3.org/2001/XMLSchema#string')),)\n",
      "(rdflib.term.Literal('margherita pizza', datatype=rdflib.term.URIRef('http://www.w3.org/2001/XMLSchema#string')),)\n",
      "(rdflib.term.Literal('margherita pizza', datatype=rdflib.term.URIRef('http://www.w3.org/2001/XMLSchema#string')),)\n",
      "(rdflib.term.Literal('small supreme pizza', datatype=rdflib.term.URIRef('http://www.w3.org/2001/XMLSchema#string')),)\n",
      "(rdflib.term.Literal('large supreme pizza.', datatype=rdflib.term.URIRef('http://www.w3.org/2001/XMLSchema#string')),)\n",
      "(rdflib.term.Literal('pizza margherita', datatype=rdflib.term.URIRef('http://www.w3.org/2001/XMLSchema#string')),)\n",
      "(rdflib.term.Literal('margherita pizza', datatype=rdflib.term.URIRef('http://www.w3.org/2001/XMLSchema#string')),)\n",
      "(rdflib.term.Literal('margherita flat bread pizza', datatype=rdflib.term.URIRef('http://www.w3.org/2001/XMLSchema#string')),)\n",
      "(rdflib.term.Literal('hawaiian pizza', datatype=rdflib.term.URIRef('http://www.w3.org/2001/XMLSchema#string')),)\n"
     ]
    }
   ],
   "source": [
    "alignment_query = \"\"\"PREFIX cw: <http://www.semanticweb.org/city/in3067-inm713/2023/restaurants#>\n",
    "    PREFIX rdf: <http://www.w3.org/1999/02/22-rdf-syntax-ns#>\n",
    "    PREFIX pizza: <http://www.co-ode.org/ontologies/pizza#>\n",
    "\n",
    "    SELECT ?name\n",
    "    WHERE\n",
    "    {\n",
    "            ?item rdf:type pizza:NamedPizza .\n",
    "            ?item cw:itemName ?name .\n",
    "    }\n",
    "\n",
    "    \"\"\"\n",
    "\n",
    "for row in graph_alignment.query(alignment_query):\n",
    "    print(row)"
   ],
   "metadata": {
    "collapsed": false,
    "ExecuteTime": {
     "start_time": "2023-05-13T13:58:29.063073Z",
     "end_time": "2023-05-13T13:58:30.715593Z"
    }
   }
  }
 ],
 "metadata": {
  "kernelspec": {
   "display_name": "Python 3",
   "language": "python",
   "name": "python3"
  },
  "language_info": {
   "codemirror_mode": {
    "name": "ipython",
    "version": 2
   },
   "file_extension": ".py",
   "mimetype": "text/x-python",
   "name": "python",
   "nbconvert_exporter": "python",
   "pygments_lexer": "ipython2",
   "version": "2.7.6"
  }
 },
 "nbformat": 4,
 "nbformat_minor": 0
}
